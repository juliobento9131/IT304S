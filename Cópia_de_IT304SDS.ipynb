{
  "nbformat": 4,
  "nbformat_minor": 0,
  "metadata": {
    "colab": {
      "name": "Cópia de IT304SDS.ipynb",
      "provenance": [],
      "collapsed_sections": [
        "DaeXdZdmWuqP",
        "DeUlGgt_W_3X",
        "hoChg3zQXKCY",
        "XSdn3alKXlH3",
        "5qYdtfYjYbcA",
        "YIJBi3vGYtR1",
        "ceBrYg07ZD5_",
        "hIVpgpkrZOm2",
        "nu9DOzqAZe8G",
        "Smo3YZ4BZwYP",
        "NGzPBNVOZ2Ov",
        "NPjst8NTaEj4",
        "thxoXIsaaa0I",
        "yiDjyhonakbO",
        "MfZcYSQ-au3A",
        "ohCMPp8qbZiX",
        "Er6rnwQAb6wR",
        "XZXpbnJAdAJK",
        "T13zw7dLdkL1",
        "JfLXDHQ6eECY",
        "CiPmTJzJegBu",
        "qc5LkP8BemLk",
        "qqkpH3KjgYPv",
        "jbehzwSHg6pA",
        "L_0eIc9ehXGO",
        "zVikixIjhg7_",
        "FJwVOYGuiAIj",
        "U0vtbRzpijNA"
      ],
      "toc_visible": true,
      "include_colab_link": true
    },
    "kernelspec": {
      "name": "python3",
      "display_name": "Python 3"
    }
  },
  "cells": [
    {
      "cell_type": "markdown",
      "metadata": {
        "id": "view-in-github",
        "colab_type": "text"
      },
      "source": [
        "<a href=\"https://colab.research.google.com/github/juliobento9131/IT304S/blob/main/C%C3%B3pia_de_IT304SDS.ipynb\" target=\"_parent\"><img src=\"https://colab.research.google.com/assets/colab-badge.svg\" alt=\"Open In Colab\"/></a>"
      ]
    },
    {
      "cell_type": "markdown",
      "metadata": {
        "id": "Kz-ehtpDomHC"
      },
      "source": [
        "# IT304S: Contratação de Energia para Grandes Consumidores.\r\n",
        "##Prof. Dr. Luiz Carlos Pereira da Silva"
      ]
    },
    {
      "cell_type": "markdown",
      "metadata": {
        "id": "-NThjXMJT6jD"
      },
      "source": [
        "# Definição de ciência de dados "
      ]
    },
    {
      "cell_type": "markdown",
      "metadata": {
        "id": "MwHcKKQ0UBP5"
      },
      "source": [
        "A ciência de dados pode ser definida como um conjunto de técnicas de analise de dados para obter e apresentar informações úteis para um usuario. "
      ]
    },
    {
      "cell_type": "markdown",
      "metadata": {
        "id": "Y2FIImK2UFj-"
      },
      "source": [
        "# Metodologia"
      ]
    },
    {
      "cell_type": "markdown",
      "metadata": {
        "id": "AkfYmDBcUIWw"
      },
      "source": [
        "Uma metodologia muito utilizado para analisar dados é o chamado ``CRISP-DM\", por suas siglas em inglês: Cross-Industry Standard Process for Data Mining. O CRISP-DM tem seis etapas que são:\r\n",
        "\r\n",
        "* **Business Understanding:** Definição dos objetivos, declaração do problema, * * pergunta de interesse.\r\n",
        "* **Data Understanding:** Utilização de nosso conhecimento para coletar os dados.\r\n",
        "* **Data Preparation:** Manipulação de dados para a eliminação de outliers e dados faltantes.\r\n",
        "* **Modeling:** Modelo ou abordagem utilizado para estudar o comportamento de nosso sistema a partir de nossos dados.\r\n",
        "* **Evaluation:** Avaliação dos resultados obtidos, no contexto se são de ajuda para responder nossa pergunta de interesse.\r\n",
        "* **Deployment:** Disponibilizar o análise de dados."
      ]
    },
    {
      "cell_type": "markdown",
      "metadata": {
        "id": "q_TZAkqqUh5y"
      },
      "source": [
        "# Business Understanding"
      ]
    },
    {
      "cell_type": "markdown",
      "metadata": {
        "id": "G33ALa4rUm1h"
      },
      "source": [
        "* **Definição dos objetivos:** O objetivo do presente notebook é apresentar as variaveis disponíveis no banco de dados UFCA.xlsx.\r\n",
        "* **Declaração do problema:** O arquivo UFCA.xlsx, contém as informações disponíveis das planilhas elétricas da UFCA, precisamos de fazer um analize exploratorio dos dados para conhecer os dados disponíveis da UFCA.\r\n",
        "* **Perguntas de Interesse:**\r\n",
        "Há dados faltantes?"
      ]
    },
    {
      "cell_type": "code",
      "metadata": {
        "id": "OU-QbA2kqNiv"
      },
      "source": [
        ""
      ],
      "execution_count": null,
      "outputs": []
    },
    {
      "cell_type": "markdown",
      "metadata": {
        "id": "QrFirraKUzp_"
      },
      "source": [
        "# Data Understanding:"
      ]
    },
    {
      "cell_type": "code",
      "metadata": {
        "id": "a_A3CnN_TzVM"
      },
      "source": [
        "!git clone https://github.com/juliobento9131/IT304S_Trabalho_Parte_2.git"
      ],
      "execution_count": null,
      "outputs": []
    },
    {
      "cell_type": "code",
      "metadata": {
        "id": "gngBWtGBU8tf"
      },
      "source": [
        "import pandas as pd"
      ],
      "execution_count": 15,
      "outputs": []
    },
    {
      "cell_type": "code",
      "metadata": {
        "id": "iL2qf2RRVNnR"
      },
      "source": [
        "abas_de_excel =  pd.ExcelFile(\"/content/IT304S_Trabalho_Parte_2/Preencher_universidade.xlsx\")\r\n",
        "abas_de_excel.sheet_names"
      ],
      "execution_count": null,
      "outputs": []
    },
    {
      "cell_type": "code",
      "metadata": {
        "id": "AhP-7Nf-VQJe"
      },
      "source": [
        "UC1 = abas_de_excel.parse(\"UC1\")\r\n",
        "UC1.shape"
      ],
      "execution_count": null,
      "outputs": []
    },
    {
      "cell_type": "code",
      "metadata": {
        "id": "5HOAAECCfU3D"
      },
      "source": [
        "UC2 = abas_de_excel.parse(\"UC2\")\r\n",
        "UC2.shape"
      ],
      "execution_count": null,
      "outputs": []
    },
    {
      "cell_type": "code",
      "metadata": {
        "id": "KeVAW2jffVaS"
      },
      "source": [
        "UC3 = abas_de_excel.parse(\"UC3\")\r\n",
        "UC3.shape"
      ],
      "execution_count": null,
      "outputs": []
    },
    {
      "cell_type": "code",
      "metadata": {
        "id": "MBCKTluTfV4G"
      },
      "source": [
        "UC4 = abas_de_excel.parse(\"UC4\")\r\n",
        "UC4.shape"
      ],
      "execution_count": null,
      "outputs": []
    },
    {
      "cell_type": "code",
      "metadata": {
        "id": "37Ez70gCfWF0"
      },
      "source": [
        "UC5 = abas_de_excel.parse(\"UC5\")\r\n",
        "UC5.shape"
      ],
      "execution_count": null,
      "outputs": []
    },
    {
      "cell_type": "code",
      "metadata": {
        "id": "9oDA41kgfWRk"
      },
      "source": [
        "UC6 = abas_de_excel.parse(\"UC6\")\r\n",
        "UC6.shape"
      ],
      "execution_count": null,
      "outputs": []
    },
    {
      "cell_type": "code",
      "metadata": {
        "id": "VDnqi00bVWB-"
      },
      "source": [
        "UC1.head()"
      ],
      "execution_count": null,
      "outputs": []
    },
    {
      "cell_type": "code",
      "metadata": {
        "id": "iYfcLR1cfxoS"
      },
      "source": [
        "UC2.head()"
      ],
      "execution_count": null,
      "outputs": []
    },
    {
      "cell_type": "code",
      "metadata": {
        "id": "tRxfAAgjfz4M"
      },
      "source": [
        "UC3.head()"
      ],
      "execution_count": null,
      "outputs": []
    },
    {
      "cell_type": "code",
      "metadata": {
        "id": "kxG7xhAgf0My"
      },
      "source": [
        "UC4.head()"
      ],
      "execution_count": null,
      "outputs": []
    },
    {
      "cell_type": "code",
      "metadata": {
        "id": "1NxvR27Kf0dH"
      },
      "source": [
        "UC5.head()"
      ],
      "execution_count": null,
      "outputs": []
    },
    {
      "cell_type": "code",
      "metadata": {
        "id": "pTkUf3Fbf0tH"
      },
      "source": [
        "UC6.head()"
      ],
      "execution_count": null,
      "outputs": []
    },
    {
      "cell_type": "markdown",
      "metadata": {
        "id": "y4cL6aORVllY"
      },
      "source": [
        "# Data Preparation:"
      ]
    },
    {
      "cell_type": "code",
      "metadata": {
        "id": "HaGF6m_1Vasm"
      },
      "source": [
        "import numpy as np"
      ],
      "execution_count": 29,
      "outputs": []
    },
    {
      "cell_type": "code",
      "metadata": {
        "id": "BGt6iqPdVp74"
      },
      "source": [
        "np.nan + np.nan"
      ],
      "execution_count": null,
      "outputs": []
    },
    {
      "cell_type": "code",
      "metadata": {
        "id": "UKMxerpIVzKX"
      },
      "source": [
        "np.nan == np.nan"
      ],
      "execution_count": null,
      "outputs": []
    },
    {
      "cell_type": "code",
      "metadata": {
        "id": "rU4cm9IrV6b2"
      },
      "source": [
        "np.isnan(np.nan)"
      ],
      "execution_count": null,
      "outputs": []
    },
    {
      "cell_type": "code",
      "metadata": {
        "id": "d9dCot2gV-7V"
      },
      "source": [
        "data = []\r\n",
        "for colm in UC1.columns[3:]:\r\n",
        "  data.append([colm, UC1.shape[0]-UC1[colm].apply(np.isnan).sum(), UC1[colm].apply(np.isnan).sum(), (UC1[colm].apply(np.isnan).sum()/78)])\r\n",
        "dados_faltantes = pd.DataFrame(data, columns=[\"Variavel\", \"Quantidade de dados Disponíveis\", \"Quantidade de dados Faltantes\", \"Percentagem de Dados Faltantes\" ])\r\n",
        "dados_faltantes = dados_faltantes[dados_faltantes[\"Quantidade de dados Faltantes\"]>0].sort_values(by=['Quantidade de dados Faltantes'], ascending=False).reset_index(drop=True)\r\n",
        "dados_faltantes['Percentagem de Dados Faltantes'] = dados_faltantes['Percentagem de Dados Faltantes'].astype(float).map(\"{:.2%}\".format)\r\n",
        "dados_faltantes"
      ],
      "execution_count": null,
      "outputs": []
    },
    {
      "cell_type": "code",
      "metadata": {
        "colab": {
          "base_uri": "https://localhost:8080/",
          "height": 397
        },
        "id": "h_lmiJ7hgRTP",
        "outputId": "ba069d64-2122-435c-eed3-b3d51644a3b6"
      },
      "source": [
        "data = []\r\n",
        "for colm in UC2.columns[3:]:\r\n",
        "  data.append([colm, UC2.shape[0]-UC2[colm].apply(np.isnan).sum(), UC2[colm].apply(np.isnan).sum(), (UC2[colm].apply(np.isnan).sum()/88)])\r\n",
        "dados_faltantes = pd.DataFrame(data, columns=[\"Variavel\", \"Quantidade de dados Disponíveis\", \"Quantidade de dados Faltantes\", \"Percentagem de Dados Faltantes\" ])\r\n",
        "dados_faltantes = dados_faltantes[dados_faltantes[\"Quantidade de dados Faltantes\"]>0].sort_values(by=['Quantidade de dados Faltantes'], ascending=False).reset_index(drop=True)\r\n",
        "dados_faltantes['Percentagem de Dados Faltantes'] = dados_faltantes['Percentagem de Dados Faltantes'].astype(float).map(\"{:.2%}\".format)\r\n",
        "dados_faltantes"
      ],
      "execution_count": 34,
      "outputs": [
        {
          "output_type": "error",
          "ename": "TypeError",
          "evalue": "ignored",
          "traceback": [
            "\u001b[0;31m---------------------------------------------------------------------------\u001b[0m",
            "\u001b[0;31mTypeError\u001b[0m                                 Traceback (most recent call last)",
            "\u001b[0;32m<ipython-input-34-bf34965ff153>\u001b[0m in \u001b[0;36m<module>\u001b[0;34m()\u001b[0m\n\u001b[1;32m      1\u001b[0m \u001b[0mdata\u001b[0m \u001b[0;34m=\u001b[0m \u001b[0;34m[\u001b[0m\u001b[0;34m]\u001b[0m\u001b[0;34m\u001b[0m\u001b[0;34m\u001b[0m\u001b[0m\n\u001b[1;32m      2\u001b[0m \u001b[0;32mfor\u001b[0m \u001b[0mcolm\u001b[0m \u001b[0;32min\u001b[0m \u001b[0mUC2\u001b[0m\u001b[0;34m.\u001b[0m\u001b[0mcolumns\u001b[0m\u001b[0;34m[\u001b[0m\u001b[0;36m3\u001b[0m\u001b[0;34m:\u001b[0m\u001b[0;34m]\u001b[0m\u001b[0;34m:\u001b[0m\u001b[0;34m\u001b[0m\u001b[0;34m\u001b[0m\u001b[0m\n\u001b[0;32m----> 3\u001b[0;31m   \u001b[0mdata\u001b[0m\u001b[0;34m.\u001b[0m\u001b[0mappend\u001b[0m\u001b[0;34m(\u001b[0m\u001b[0;34m[\u001b[0m\u001b[0mcolm\u001b[0m\u001b[0;34m,\u001b[0m \u001b[0mUC2\u001b[0m\u001b[0;34m.\u001b[0m\u001b[0mshape\u001b[0m\u001b[0;34m[\u001b[0m\u001b[0;36m0\u001b[0m\u001b[0;34m]\u001b[0m\u001b[0;34m-\u001b[0m\u001b[0mUC2\u001b[0m\u001b[0;34m[\u001b[0m\u001b[0mcolm\u001b[0m\u001b[0;34m]\u001b[0m\u001b[0;34m.\u001b[0m\u001b[0mapply\u001b[0m\u001b[0;34m(\u001b[0m\u001b[0mnp\u001b[0m\u001b[0;34m.\u001b[0m\u001b[0misnan\u001b[0m\u001b[0;34m)\u001b[0m\u001b[0;34m.\u001b[0m\u001b[0msum\u001b[0m\u001b[0;34m(\u001b[0m\u001b[0;34m)\u001b[0m\u001b[0;34m,\u001b[0m \u001b[0mUC2\u001b[0m\u001b[0;34m[\u001b[0m\u001b[0mcolm\u001b[0m\u001b[0;34m]\u001b[0m\u001b[0;34m.\u001b[0m\u001b[0mapply\u001b[0m\u001b[0;34m(\u001b[0m\u001b[0mnp\u001b[0m\u001b[0;34m.\u001b[0m\u001b[0misnan\u001b[0m\u001b[0;34m)\u001b[0m\u001b[0;34m.\u001b[0m\u001b[0msum\u001b[0m\u001b[0;34m(\u001b[0m\u001b[0;34m)\u001b[0m\u001b[0;34m,\u001b[0m \u001b[0;34m(\u001b[0m\u001b[0mUC2\u001b[0m\u001b[0;34m[\u001b[0m\u001b[0mcolm\u001b[0m\u001b[0;34m]\u001b[0m\u001b[0;34m.\u001b[0m\u001b[0mapply\u001b[0m\u001b[0;34m(\u001b[0m\u001b[0mnp\u001b[0m\u001b[0;34m.\u001b[0m\u001b[0misnan\u001b[0m\u001b[0;34m)\u001b[0m\u001b[0;34m.\u001b[0m\u001b[0msum\u001b[0m\u001b[0;34m(\u001b[0m\u001b[0;34m)\u001b[0m\u001b[0;34m/\u001b[0m\u001b[0;36m88\u001b[0m\u001b[0;34m)\u001b[0m\u001b[0;34m]\u001b[0m\u001b[0;34m)\u001b[0m\u001b[0;34m\u001b[0m\u001b[0;34m\u001b[0m\u001b[0m\n\u001b[0m\u001b[1;32m      4\u001b[0m \u001b[0mdados_faltantes\u001b[0m \u001b[0;34m=\u001b[0m \u001b[0mpd\u001b[0m\u001b[0;34m.\u001b[0m\u001b[0mDataFrame\u001b[0m\u001b[0;34m(\u001b[0m\u001b[0mdata\u001b[0m\u001b[0;34m,\u001b[0m \u001b[0mcolumns\u001b[0m\u001b[0;34m=\u001b[0m\u001b[0;34m[\u001b[0m\u001b[0;34m\"Variavel\"\u001b[0m\u001b[0;34m,\u001b[0m \u001b[0;34m\"Quantidade de dados Disponíveis\"\u001b[0m\u001b[0;34m,\u001b[0m \u001b[0;34m\"Quantidade de dados Faltantes\"\u001b[0m\u001b[0;34m,\u001b[0m \u001b[0;34m\"Percentagem de Dados Faltantes\"\u001b[0m \u001b[0;34m]\u001b[0m\u001b[0;34m)\u001b[0m\u001b[0;34m\u001b[0m\u001b[0;34m\u001b[0m\u001b[0m\n\u001b[1;32m      5\u001b[0m \u001b[0mdados_faltantes\u001b[0m \u001b[0;34m=\u001b[0m \u001b[0mdados_faltantes\u001b[0m\u001b[0;34m[\u001b[0m\u001b[0mdados_faltantes\u001b[0m\u001b[0;34m[\u001b[0m\u001b[0;34m\"Quantidade de dados Faltantes\"\u001b[0m\u001b[0;34m]\u001b[0m\u001b[0;34m>\u001b[0m\u001b[0;36m0\u001b[0m\u001b[0;34m]\u001b[0m\u001b[0;34m.\u001b[0m\u001b[0msort_values\u001b[0m\u001b[0;34m(\u001b[0m\u001b[0mby\u001b[0m\u001b[0;34m=\u001b[0m\u001b[0;34m[\u001b[0m\u001b[0;34m'Quantidade de dados Faltantes'\u001b[0m\u001b[0;34m]\u001b[0m\u001b[0;34m,\u001b[0m \u001b[0mascending\u001b[0m\u001b[0;34m=\u001b[0m\u001b[0;32mFalse\u001b[0m\u001b[0;34m)\u001b[0m\u001b[0;34m.\u001b[0m\u001b[0mreset_index\u001b[0m\u001b[0;34m(\u001b[0m\u001b[0mdrop\u001b[0m\u001b[0;34m=\u001b[0m\u001b[0;32mTrue\u001b[0m\u001b[0;34m)\u001b[0m\u001b[0;34m\u001b[0m\u001b[0;34m\u001b[0m\u001b[0m\n",
            "\u001b[0;32m/usr/local/lib/python3.6/dist-packages/pandas/core/series.py\u001b[0m in \u001b[0;36mapply\u001b[0;34m(self, func, convert_dtype, args, **kwds)\u001b[0m\n\u001b[1;32m   4203\u001b[0m         \u001b[0;32mwith\u001b[0m \u001b[0mnp\u001b[0m\u001b[0;34m.\u001b[0m\u001b[0merrstate\u001b[0m\u001b[0;34m(\u001b[0m\u001b[0mall\u001b[0m\u001b[0;34m=\u001b[0m\u001b[0;34m\"ignore\"\u001b[0m\u001b[0;34m)\u001b[0m\u001b[0;34m:\u001b[0m\u001b[0;34m\u001b[0m\u001b[0;34m\u001b[0m\u001b[0m\n\u001b[1;32m   4204\u001b[0m             \u001b[0;32mif\u001b[0m \u001b[0misinstance\u001b[0m\u001b[0;34m(\u001b[0m\u001b[0mf\u001b[0m\u001b[0;34m,\u001b[0m \u001b[0mnp\u001b[0m\u001b[0;34m.\u001b[0m\u001b[0mufunc\u001b[0m\u001b[0;34m)\u001b[0m\u001b[0;34m:\u001b[0m\u001b[0;34m\u001b[0m\u001b[0;34m\u001b[0m\u001b[0m\n\u001b[0;32m-> 4205\u001b[0;31m                 \u001b[0;32mreturn\u001b[0m \u001b[0mf\u001b[0m\u001b[0;34m(\u001b[0m\u001b[0mself\u001b[0m\u001b[0;34m)\u001b[0m\u001b[0;34m\u001b[0m\u001b[0;34m\u001b[0m\u001b[0m\n\u001b[0m\u001b[1;32m   4206\u001b[0m \u001b[0;34m\u001b[0m\u001b[0m\n\u001b[1;32m   4207\u001b[0m             \u001b[0;31m# row-wise access\u001b[0m\u001b[0;34m\u001b[0m\u001b[0;34m\u001b[0m\u001b[0;34m\u001b[0m\u001b[0m\n",
            "\u001b[0;32m/usr/local/lib/python3.6/dist-packages/pandas/core/series.py\u001b[0m in \u001b[0;36m__array_ufunc__\u001b[0;34m(self, ufunc, method, *inputs, **kwargs)\u001b[0m\n\u001b[1;32m    724\u001b[0m \u001b[0;34m\u001b[0m\u001b[0m\n\u001b[1;32m    725\u001b[0m         \u001b[0minputs\u001b[0m \u001b[0;34m=\u001b[0m \u001b[0mtuple\u001b[0m\u001b[0;34m(\u001b[0m\u001b[0mextract_array\u001b[0m\u001b[0;34m(\u001b[0m\u001b[0mx\u001b[0m\u001b[0;34m,\u001b[0m \u001b[0mextract_numpy\u001b[0m\u001b[0;34m=\u001b[0m\u001b[0;32mTrue\u001b[0m\u001b[0;34m)\u001b[0m \u001b[0;32mfor\u001b[0m \u001b[0mx\u001b[0m \u001b[0;32min\u001b[0m \u001b[0minputs\u001b[0m\u001b[0;34m)\u001b[0m\u001b[0;34m\u001b[0m\u001b[0;34m\u001b[0m\u001b[0m\n\u001b[0;32m--> 726\u001b[0;31m         \u001b[0mresult\u001b[0m \u001b[0;34m=\u001b[0m \u001b[0mgetattr\u001b[0m\u001b[0;34m(\u001b[0m\u001b[0mufunc\u001b[0m\u001b[0;34m,\u001b[0m \u001b[0mmethod\u001b[0m\u001b[0;34m)\u001b[0m\u001b[0;34m(\u001b[0m\u001b[0;34m*\u001b[0m\u001b[0minputs\u001b[0m\u001b[0;34m,\u001b[0m \u001b[0;34m**\u001b[0m\u001b[0mkwargs\u001b[0m\u001b[0;34m)\u001b[0m\u001b[0;34m\u001b[0m\u001b[0;34m\u001b[0m\u001b[0m\n\u001b[0m\u001b[1;32m    727\u001b[0m \u001b[0;34m\u001b[0m\u001b[0m\n\u001b[1;32m    728\u001b[0m         \u001b[0mname\u001b[0m \u001b[0;34m=\u001b[0m \u001b[0mnames\u001b[0m\u001b[0;34m[\u001b[0m\u001b[0;36m0\u001b[0m\u001b[0;34m]\u001b[0m \u001b[0;32mif\u001b[0m \u001b[0mlen\u001b[0m\u001b[0;34m(\u001b[0m\u001b[0mset\u001b[0m\u001b[0;34m(\u001b[0m\u001b[0mnames\u001b[0m\u001b[0;34m)\u001b[0m\u001b[0;34m)\u001b[0m \u001b[0;34m==\u001b[0m \u001b[0;36m1\u001b[0m \u001b[0;32melse\u001b[0m \u001b[0;32mNone\u001b[0m\u001b[0;34m\u001b[0m\u001b[0;34m\u001b[0m\u001b[0m\n",
            "\u001b[0;31mTypeError\u001b[0m: ufunc 'isnan' not supported for the input types, and the inputs could not be safely coerced to any supported types according to the casting rule ''safe''"
          ]
        }
      ]
    },
    {
      "cell_type": "code",
      "metadata": {
        "id": "VJVmiVo6gTmc"
      },
      "source": [
        "data = []\r\n",
        "for colm in UC3.columns[3:]:\r\n",
        "  data.append([colm, UC3.shape[0]-UC3[colm].apply(np.isnan).sum(), UC3[colm].apply(np.isnan).sum(), (UC3[colm].apply(np.isnan).sum()/53)])\r\n",
        "dados_faltantes = pd.DataFrame(data, columns=[\"Variavel\", \"Quantidade de dados Disponíveis\", \"Quantidade de dados Faltantes\", \"Percentagem de Dados Faltantes\" ])\r\n",
        "dados_faltantes = dados_faltantes[dados_faltantes[\"Quantidade de dados Faltantes\"]>0].sort_values(by=['Quantidade de dados Faltantes'], ascending=False).reset_index(drop=True)\r\n",
        "dados_faltantes['Percentagem de Dados Faltantes'] = dados_faltantes['Percentagem de Dados Faltantes'].astype(float).map(\"{:.2%}\".format)\r\n",
        "dados_faltantes"
      ],
      "execution_count": null,
      "outputs": []
    },
    {
      "cell_type": "code",
      "metadata": {
        "colab": {
          "base_uri": "https://localhost:8080/",
          "height": 397
        },
        "id": "-2j5DHTwgTx5",
        "outputId": "2c198de1-1d13-44af-c82c-0c84163bfab8"
      },
      "source": [
        "data = []\r\n",
        "for colm in UC4.columns[3:]:\r\n",
        "  data.append([colm, UC4.shape[0]-UC4[colm].apply(np.isnan).sum(), UC4[colm].apply(np.isnan).sum(), (UC4[colm].apply(np.isnan).sum()/130)])\r\n",
        "dados_faltantes = pd.DataFrame(data, columns=[\"Variavel\", \"Quantidade de dados Disponíveis\", \"Quantidade de dados Faltantes\", \"Percentagem de Dados Faltantes\" ])\r\n",
        "dados_faltantes = dados_faltantes[dados_faltantes[\"Quantidade de dados Faltantes\"]>0].sort_values(by=['Quantidade de dados Faltantes'], ascending=False).reset_index(drop=True)\r\n",
        "dados_faltantes['Percentagem de Dados Faltantes'] = dados_faltantes['Percentagem de Dados Faltantes'].astype(float).map(\"{:.2%}\".format)\r\n",
        "dados_faltantes"
      ],
      "execution_count": 36,
      "outputs": [
        {
          "output_type": "error",
          "ename": "TypeError",
          "evalue": "ignored",
          "traceback": [
            "\u001b[0;31m---------------------------------------------------------------------------\u001b[0m",
            "\u001b[0;31mTypeError\u001b[0m                                 Traceback (most recent call last)",
            "\u001b[0;32m<ipython-input-36-d6a2edb1feaf>\u001b[0m in \u001b[0;36m<module>\u001b[0;34m()\u001b[0m\n\u001b[1;32m      1\u001b[0m \u001b[0mdata\u001b[0m \u001b[0;34m=\u001b[0m \u001b[0;34m[\u001b[0m\u001b[0;34m]\u001b[0m\u001b[0;34m\u001b[0m\u001b[0;34m\u001b[0m\u001b[0m\n\u001b[1;32m      2\u001b[0m \u001b[0;32mfor\u001b[0m \u001b[0mcolm\u001b[0m \u001b[0;32min\u001b[0m \u001b[0mUC4\u001b[0m\u001b[0;34m.\u001b[0m\u001b[0mcolumns\u001b[0m\u001b[0;34m[\u001b[0m\u001b[0;36m3\u001b[0m\u001b[0;34m:\u001b[0m\u001b[0;34m]\u001b[0m\u001b[0;34m:\u001b[0m\u001b[0;34m\u001b[0m\u001b[0;34m\u001b[0m\u001b[0m\n\u001b[0;32m----> 3\u001b[0;31m   \u001b[0mdata\u001b[0m\u001b[0;34m.\u001b[0m\u001b[0mappend\u001b[0m\u001b[0;34m(\u001b[0m\u001b[0;34m[\u001b[0m\u001b[0mcolm\u001b[0m\u001b[0;34m,\u001b[0m \u001b[0mUC4\u001b[0m\u001b[0;34m.\u001b[0m\u001b[0mshape\u001b[0m\u001b[0;34m[\u001b[0m\u001b[0;36m0\u001b[0m\u001b[0;34m]\u001b[0m\u001b[0;34m-\u001b[0m\u001b[0mUC4\u001b[0m\u001b[0;34m[\u001b[0m\u001b[0mcolm\u001b[0m\u001b[0;34m]\u001b[0m\u001b[0;34m.\u001b[0m\u001b[0mapply\u001b[0m\u001b[0;34m(\u001b[0m\u001b[0mnp\u001b[0m\u001b[0;34m.\u001b[0m\u001b[0misnan\u001b[0m\u001b[0;34m)\u001b[0m\u001b[0;34m.\u001b[0m\u001b[0msum\u001b[0m\u001b[0;34m(\u001b[0m\u001b[0;34m)\u001b[0m\u001b[0;34m,\u001b[0m \u001b[0mUC4\u001b[0m\u001b[0;34m[\u001b[0m\u001b[0mcolm\u001b[0m\u001b[0;34m]\u001b[0m\u001b[0;34m.\u001b[0m\u001b[0mapply\u001b[0m\u001b[0;34m(\u001b[0m\u001b[0mnp\u001b[0m\u001b[0;34m.\u001b[0m\u001b[0misnan\u001b[0m\u001b[0;34m)\u001b[0m\u001b[0;34m.\u001b[0m\u001b[0msum\u001b[0m\u001b[0;34m(\u001b[0m\u001b[0;34m)\u001b[0m\u001b[0;34m,\u001b[0m \u001b[0;34m(\u001b[0m\u001b[0mUC4\u001b[0m\u001b[0;34m[\u001b[0m\u001b[0mcolm\u001b[0m\u001b[0;34m]\u001b[0m\u001b[0;34m.\u001b[0m\u001b[0mapply\u001b[0m\u001b[0;34m(\u001b[0m\u001b[0mnp\u001b[0m\u001b[0;34m.\u001b[0m\u001b[0misnan\u001b[0m\u001b[0;34m)\u001b[0m\u001b[0;34m.\u001b[0m\u001b[0msum\u001b[0m\u001b[0;34m(\u001b[0m\u001b[0;34m)\u001b[0m\u001b[0;34m/\u001b[0m\u001b[0;36m130\u001b[0m\u001b[0;34m)\u001b[0m\u001b[0;34m]\u001b[0m\u001b[0;34m)\u001b[0m\u001b[0;34m\u001b[0m\u001b[0;34m\u001b[0m\u001b[0m\n\u001b[0m\u001b[1;32m      4\u001b[0m \u001b[0mdados_faltantes\u001b[0m \u001b[0;34m=\u001b[0m \u001b[0mpd\u001b[0m\u001b[0;34m.\u001b[0m\u001b[0mDataFrame\u001b[0m\u001b[0;34m(\u001b[0m\u001b[0mdata\u001b[0m\u001b[0;34m,\u001b[0m \u001b[0mcolumns\u001b[0m\u001b[0;34m=\u001b[0m\u001b[0;34m[\u001b[0m\u001b[0;34m\"Variavel\"\u001b[0m\u001b[0;34m,\u001b[0m \u001b[0;34m\"Quantidade de dados Disponíveis\"\u001b[0m\u001b[0;34m,\u001b[0m \u001b[0;34m\"Quantidade de dados Faltantes\"\u001b[0m\u001b[0;34m,\u001b[0m \u001b[0;34m\"Percentagem de Dados Faltantes\"\u001b[0m \u001b[0;34m]\u001b[0m\u001b[0;34m)\u001b[0m\u001b[0;34m\u001b[0m\u001b[0;34m\u001b[0m\u001b[0m\n\u001b[1;32m      5\u001b[0m \u001b[0mdados_faltantes\u001b[0m \u001b[0;34m=\u001b[0m \u001b[0mdados_faltantes\u001b[0m\u001b[0;34m[\u001b[0m\u001b[0mdados_faltantes\u001b[0m\u001b[0;34m[\u001b[0m\u001b[0;34m\"Quantidade de dados Faltantes\"\u001b[0m\u001b[0;34m]\u001b[0m\u001b[0;34m>\u001b[0m\u001b[0;36m0\u001b[0m\u001b[0;34m]\u001b[0m\u001b[0;34m.\u001b[0m\u001b[0msort_values\u001b[0m\u001b[0;34m(\u001b[0m\u001b[0mby\u001b[0m\u001b[0;34m=\u001b[0m\u001b[0;34m[\u001b[0m\u001b[0;34m'Quantidade de dados Faltantes'\u001b[0m\u001b[0;34m]\u001b[0m\u001b[0;34m,\u001b[0m \u001b[0mascending\u001b[0m\u001b[0;34m=\u001b[0m\u001b[0;32mFalse\u001b[0m\u001b[0;34m)\u001b[0m\u001b[0;34m.\u001b[0m\u001b[0mreset_index\u001b[0m\u001b[0;34m(\u001b[0m\u001b[0mdrop\u001b[0m\u001b[0;34m=\u001b[0m\u001b[0;32mTrue\u001b[0m\u001b[0;34m)\u001b[0m\u001b[0;34m\u001b[0m\u001b[0;34m\u001b[0m\u001b[0m\n",
            "\u001b[0;32m/usr/local/lib/python3.6/dist-packages/pandas/core/series.py\u001b[0m in \u001b[0;36mapply\u001b[0;34m(self, func, convert_dtype, args, **kwds)\u001b[0m\n\u001b[1;32m   4203\u001b[0m         \u001b[0;32mwith\u001b[0m \u001b[0mnp\u001b[0m\u001b[0;34m.\u001b[0m\u001b[0merrstate\u001b[0m\u001b[0;34m(\u001b[0m\u001b[0mall\u001b[0m\u001b[0;34m=\u001b[0m\u001b[0;34m\"ignore\"\u001b[0m\u001b[0;34m)\u001b[0m\u001b[0;34m:\u001b[0m\u001b[0;34m\u001b[0m\u001b[0;34m\u001b[0m\u001b[0m\n\u001b[1;32m   4204\u001b[0m             \u001b[0;32mif\u001b[0m \u001b[0misinstance\u001b[0m\u001b[0;34m(\u001b[0m\u001b[0mf\u001b[0m\u001b[0;34m,\u001b[0m \u001b[0mnp\u001b[0m\u001b[0;34m.\u001b[0m\u001b[0mufunc\u001b[0m\u001b[0;34m)\u001b[0m\u001b[0;34m:\u001b[0m\u001b[0;34m\u001b[0m\u001b[0;34m\u001b[0m\u001b[0m\n\u001b[0;32m-> 4205\u001b[0;31m                 \u001b[0;32mreturn\u001b[0m \u001b[0mf\u001b[0m\u001b[0;34m(\u001b[0m\u001b[0mself\u001b[0m\u001b[0;34m)\u001b[0m\u001b[0;34m\u001b[0m\u001b[0;34m\u001b[0m\u001b[0m\n\u001b[0m\u001b[1;32m   4206\u001b[0m \u001b[0;34m\u001b[0m\u001b[0m\n\u001b[1;32m   4207\u001b[0m             \u001b[0;31m# row-wise access\u001b[0m\u001b[0;34m\u001b[0m\u001b[0;34m\u001b[0m\u001b[0;34m\u001b[0m\u001b[0m\n",
            "\u001b[0;32m/usr/local/lib/python3.6/dist-packages/pandas/core/series.py\u001b[0m in \u001b[0;36m__array_ufunc__\u001b[0;34m(self, ufunc, method, *inputs, **kwargs)\u001b[0m\n\u001b[1;32m    724\u001b[0m \u001b[0;34m\u001b[0m\u001b[0m\n\u001b[1;32m    725\u001b[0m         \u001b[0minputs\u001b[0m \u001b[0;34m=\u001b[0m \u001b[0mtuple\u001b[0m\u001b[0;34m(\u001b[0m\u001b[0mextract_array\u001b[0m\u001b[0;34m(\u001b[0m\u001b[0mx\u001b[0m\u001b[0;34m,\u001b[0m \u001b[0mextract_numpy\u001b[0m\u001b[0;34m=\u001b[0m\u001b[0;32mTrue\u001b[0m\u001b[0;34m)\u001b[0m \u001b[0;32mfor\u001b[0m \u001b[0mx\u001b[0m \u001b[0;32min\u001b[0m \u001b[0minputs\u001b[0m\u001b[0;34m)\u001b[0m\u001b[0;34m\u001b[0m\u001b[0;34m\u001b[0m\u001b[0m\n\u001b[0;32m--> 726\u001b[0;31m         \u001b[0mresult\u001b[0m \u001b[0;34m=\u001b[0m \u001b[0mgetattr\u001b[0m\u001b[0;34m(\u001b[0m\u001b[0mufunc\u001b[0m\u001b[0;34m,\u001b[0m \u001b[0mmethod\u001b[0m\u001b[0;34m)\u001b[0m\u001b[0;34m(\u001b[0m\u001b[0;34m*\u001b[0m\u001b[0minputs\u001b[0m\u001b[0;34m,\u001b[0m \u001b[0;34m**\u001b[0m\u001b[0mkwargs\u001b[0m\u001b[0;34m)\u001b[0m\u001b[0;34m\u001b[0m\u001b[0;34m\u001b[0m\u001b[0m\n\u001b[0m\u001b[1;32m    727\u001b[0m \u001b[0;34m\u001b[0m\u001b[0m\n\u001b[1;32m    728\u001b[0m         \u001b[0mname\u001b[0m \u001b[0;34m=\u001b[0m \u001b[0mnames\u001b[0m\u001b[0;34m[\u001b[0m\u001b[0;36m0\u001b[0m\u001b[0;34m]\u001b[0m \u001b[0;32mif\u001b[0m \u001b[0mlen\u001b[0m\u001b[0;34m(\u001b[0m\u001b[0mset\u001b[0m\u001b[0;34m(\u001b[0m\u001b[0mnames\u001b[0m\u001b[0;34m)\u001b[0m\u001b[0;34m)\u001b[0m \u001b[0;34m==\u001b[0m \u001b[0;36m1\u001b[0m \u001b[0;32melse\u001b[0m \u001b[0;32mNone\u001b[0m\u001b[0;34m\u001b[0m\u001b[0;34m\u001b[0m\u001b[0m\n",
            "\u001b[0;31mTypeError\u001b[0m: ufunc 'isnan' not supported for the input types, and the inputs could not be safely coerced to any supported types according to the casting rule ''safe''"
          ]
        }
      ]
    },
    {
      "cell_type": "code",
      "metadata": {
        "colab": {
          "base_uri": "https://localhost:8080/",
          "height": 397
        },
        "id": "OB5EWYRcgT84",
        "outputId": "23041b58-4a37-4f65-ccfd-fcb0414a1fea"
      },
      "source": [
        "data = []\r\n",
        "for colm in UC5.columns[3:]:\r\n",
        "  data.append([colm, UC5.shape[0]-UC5[colm].apply(np.isnan).sum(), UC5[colm].apply(np.isnan).sum(), (UC5[colm].apply(np.isnan).sum()/77)])\r\n",
        "dados_faltantes = pd.DataFrame(data, columns=[\"Variavel\", \"Quantidade de dados Disponíveis\", \"Quantidade de dados Faltantes\", \"Percentagem de Dados Faltantes\" ])\r\n",
        "dados_faltantes = dados_faltantes[dados_faltantes[\"Quantidade de dados Faltantes\"]>0].sort_values(by=['Quantidade de dados Faltantes'], ascending=False).reset_index(drop=True)\r\n",
        "dados_faltantes['Percentagem de Dados Faltantes'] = dados_faltantes['Percentagem de Dados Faltantes'].astype(float).map(\"{:.2%}\".format)\r\n",
        "dados_faltantes"
      ],
      "execution_count": 37,
      "outputs": [
        {
          "output_type": "error",
          "ename": "TypeError",
          "evalue": "ignored",
          "traceback": [
            "\u001b[0;31m---------------------------------------------------------------------------\u001b[0m",
            "\u001b[0;31mTypeError\u001b[0m                                 Traceback (most recent call last)",
            "\u001b[0;32m<ipython-input-37-eb1e0cdb6e46>\u001b[0m in \u001b[0;36m<module>\u001b[0;34m()\u001b[0m\n\u001b[1;32m      1\u001b[0m \u001b[0mdata\u001b[0m \u001b[0;34m=\u001b[0m \u001b[0;34m[\u001b[0m\u001b[0;34m]\u001b[0m\u001b[0;34m\u001b[0m\u001b[0;34m\u001b[0m\u001b[0m\n\u001b[1;32m      2\u001b[0m \u001b[0;32mfor\u001b[0m \u001b[0mcolm\u001b[0m \u001b[0;32min\u001b[0m \u001b[0mUC5\u001b[0m\u001b[0;34m.\u001b[0m\u001b[0mcolumns\u001b[0m\u001b[0;34m[\u001b[0m\u001b[0;36m3\u001b[0m\u001b[0;34m:\u001b[0m\u001b[0;34m]\u001b[0m\u001b[0;34m:\u001b[0m\u001b[0;34m\u001b[0m\u001b[0;34m\u001b[0m\u001b[0m\n\u001b[0;32m----> 3\u001b[0;31m   \u001b[0mdata\u001b[0m\u001b[0;34m.\u001b[0m\u001b[0mappend\u001b[0m\u001b[0;34m(\u001b[0m\u001b[0;34m[\u001b[0m\u001b[0mcolm\u001b[0m\u001b[0;34m,\u001b[0m \u001b[0mUC5\u001b[0m\u001b[0;34m.\u001b[0m\u001b[0mshape\u001b[0m\u001b[0;34m[\u001b[0m\u001b[0;36m0\u001b[0m\u001b[0;34m]\u001b[0m\u001b[0;34m-\u001b[0m\u001b[0mUC5\u001b[0m\u001b[0;34m[\u001b[0m\u001b[0mcolm\u001b[0m\u001b[0;34m]\u001b[0m\u001b[0;34m.\u001b[0m\u001b[0mapply\u001b[0m\u001b[0;34m(\u001b[0m\u001b[0mnp\u001b[0m\u001b[0;34m.\u001b[0m\u001b[0misnan\u001b[0m\u001b[0;34m)\u001b[0m\u001b[0;34m.\u001b[0m\u001b[0msum\u001b[0m\u001b[0;34m(\u001b[0m\u001b[0;34m)\u001b[0m\u001b[0;34m,\u001b[0m \u001b[0mUC5\u001b[0m\u001b[0;34m[\u001b[0m\u001b[0mcolm\u001b[0m\u001b[0;34m]\u001b[0m\u001b[0;34m.\u001b[0m\u001b[0mapply\u001b[0m\u001b[0;34m(\u001b[0m\u001b[0mnp\u001b[0m\u001b[0;34m.\u001b[0m\u001b[0misnan\u001b[0m\u001b[0;34m)\u001b[0m\u001b[0;34m.\u001b[0m\u001b[0msum\u001b[0m\u001b[0;34m(\u001b[0m\u001b[0;34m)\u001b[0m\u001b[0;34m,\u001b[0m \u001b[0;34m(\u001b[0m\u001b[0mUC5\u001b[0m\u001b[0;34m[\u001b[0m\u001b[0mcolm\u001b[0m\u001b[0;34m]\u001b[0m\u001b[0;34m.\u001b[0m\u001b[0mapply\u001b[0m\u001b[0;34m(\u001b[0m\u001b[0mnp\u001b[0m\u001b[0;34m.\u001b[0m\u001b[0misnan\u001b[0m\u001b[0;34m)\u001b[0m\u001b[0;34m.\u001b[0m\u001b[0msum\u001b[0m\u001b[0;34m(\u001b[0m\u001b[0;34m)\u001b[0m\u001b[0;34m/\u001b[0m\u001b[0;36m77\u001b[0m\u001b[0;34m)\u001b[0m\u001b[0;34m]\u001b[0m\u001b[0;34m)\u001b[0m\u001b[0;34m\u001b[0m\u001b[0;34m\u001b[0m\u001b[0m\n\u001b[0m\u001b[1;32m      4\u001b[0m \u001b[0mdados_faltantes\u001b[0m \u001b[0;34m=\u001b[0m \u001b[0mpd\u001b[0m\u001b[0;34m.\u001b[0m\u001b[0mDataFrame\u001b[0m\u001b[0;34m(\u001b[0m\u001b[0mdata\u001b[0m\u001b[0;34m,\u001b[0m \u001b[0mcolumns\u001b[0m\u001b[0;34m=\u001b[0m\u001b[0;34m[\u001b[0m\u001b[0;34m\"Variavel\"\u001b[0m\u001b[0;34m,\u001b[0m \u001b[0;34m\"Quantidade de dados Disponíveis\"\u001b[0m\u001b[0;34m,\u001b[0m \u001b[0;34m\"Quantidade de dados Faltantes\"\u001b[0m\u001b[0;34m,\u001b[0m \u001b[0;34m\"Percentagem de Dados Faltantes\"\u001b[0m \u001b[0;34m]\u001b[0m\u001b[0;34m)\u001b[0m\u001b[0;34m\u001b[0m\u001b[0;34m\u001b[0m\u001b[0m\n\u001b[1;32m      5\u001b[0m \u001b[0mdados_faltantes\u001b[0m \u001b[0;34m=\u001b[0m \u001b[0mdados_faltantes\u001b[0m\u001b[0;34m[\u001b[0m\u001b[0mdados_faltantes\u001b[0m\u001b[0;34m[\u001b[0m\u001b[0;34m\"Quantidade de dados Faltantes\"\u001b[0m\u001b[0;34m]\u001b[0m\u001b[0;34m>\u001b[0m\u001b[0;36m0\u001b[0m\u001b[0;34m]\u001b[0m\u001b[0;34m.\u001b[0m\u001b[0msort_values\u001b[0m\u001b[0;34m(\u001b[0m\u001b[0mby\u001b[0m\u001b[0;34m=\u001b[0m\u001b[0;34m[\u001b[0m\u001b[0;34m'Quantidade de dados Faltantes'\u001b[0m\u001b[0;34m]\u001b[0m\u001b[0;34m,\u001b[0m \u001b[0mascending\u001b[0m\u001b[0;34m=\u001b[0m\u001b[0;32mFalse\u001b[0m\u001b[0;34m)\u001b[0m\u001b[0;34m.\u001b[0m\u001b[0mreset_index\u001b[0m\u001b[0;34m(\u001b[0m\u001b[0mdrop\u001b[0m\u001b[0;34m=\u001b[0m\u001b[0;32mTrue\u001b[0m\u001b[0;34m)\u001b[0m\u001b[0;34m\u001b[0m\u001b[0;34m\u001b[0m\u001b[0m\n",
            "\u001b[0;32m/usr/local/lib/python3.6/dist-packages/pandas/core/series.py\u001b[0m in \u001b[0;36mapply\u001b[0;34m(self, func, convert_dtype, args, **kwds)\u001b[0m\n\u001b[1;32m   4203\u001b[0m         \u001b[0;32mwith\u001b[0m \u001b[0mnp\u001b[0m\u001b[0;34m.\u001b[0m\u001b[0merrstate\u001b[0m\u001b[0;34m(\u001b[0m\u001b[0mall\u001b[0m\u001b[0;34m=\u001b[0m\u001b[0;34m\"ignore\"\u001b[0m\u001b[0;34m)\u001b[0m\u001b[0;34m:\u001b[0m\u001b[0;34m\u001b[0m\u001b[0;34m\u001b[0m\u001b[0m\n\u001b[1;32m   4204\u001b[0m             \u001b[0;32mif\u001b[0m \u001b[0misinstance\u001b[0m\u001b[0;34m(\u001b[0m\u001b[0mf\u001b[0m\u001b[0;34m,\u001b[0m \u001b[0mnp\u001b[0m\u001b[0;34m.\u001b[0m\u001b[0mufunc\u001b[0m\u001b[0;34m)\u001b[0m\u001b[0;34m:\u001b[0m\u001b[0;34m\u001b[0m\u001b[0;34m\u001b[0m\u001b[0m\n\u001b[0;32m-> 4205\u001b[0;31m                 \u001b[0;32mreturn\u001b[0m \u001b[0mf\u001b[0m\u001b[0;34m(\u001b[0m\u001b[0mself\u001b[0m\u001b[0;34m)\u001b[0m\u001b[0;34m\u001b[0m\u001b[0;34m\u001b[0m\u001b[0m\n\u001b[0m\u001b[1;32m   4206\u001b[0m \u001b[0;34m\u001b[0m\u001b[0m\n\u001b[1;32m   4207\u001b[0m             \u001b[0;31m# row-wise access\u001b[0m\u001b[0;34m\u001b[0m\u001b[0;34m\u001b[0m\u001b[0;34m\u001b[0m\u001b[0m\n",
            "\u001b[0;32m/usr/local/lib/python3.6/dist-packages/pandas/core/series.py\u001b[0m in \u001b[0;36m__array_ufunc__\u001b[0;34m(self, ufunc, method, *inputs, **kwargs)\u001b[0m\n\u001b[1;32m    724\u001b[0m \u001b[0;34m\u001b[0m\u001b[0m\n\u001b[1;32m    725\u001b[0m         \u001b[0minputs\u001b[0m \u001b[0;34m=\u001b[0m \u001b[0mtuple\u001b[0m\u001b[0;34m(\u001b[0m\u001b[0mextract_array\u001b[0m\u001b[0;34m(\u001b[0m\u001b[0mx\u001b[0m\u001b[0;34m,\u001b[0m \u001b[0mextract_numpy\u001b[0m\u001b[0;34m=\u001b[0m\u001b[0;32mTrue\u001b[0m\u001b[0;34m)\u001b[0m \u001b[0;32mfor\u001b[0m \u001b[0mx\u001b[0m \u001b[0;32min\u001b[0m \u001b[0minputs\u001b[0m\u001b[0;34m)\u001b[0m\u001b[0;34m\u001b[0m\u001b[0;34m\u001b[0m\u001b[0m\n\u001b[0;32m--> 726\u001b[0;31m         \u001b[0mresult\u001b[0m \u001b[0;34m=\u001b[0m \u001b[0mgetattr\u001b[0m\u001b[0;34m(\u001b[0m\u001b[0mufunc\u001b[0m\u001b[0;34m,\u001b[0m \u001b[0mmethod\u001b[0m\u001b[0;34m)\u001b[0m\u001b[0;34m(\u001b[0m\u001b[0;34m*\u001b[0m\u001b[0minputs\u001b[0m\u001b[0;34m,\u001b[0m \u001b[0;34m**\u001b[0m\u001b[0mkwargs\u001b[0m\u001b[0;34m)\u001b[0m\u001b[0;34m\u001b[0m\u001b[0;34m\u001b[0m\u001b[0m\n\u001b[0m\u001b[1;32m    727\u001b[0m \u001b[0;34m\u001b[0m\u001b[0m\n\u001b[1;32m    728\u001b[0m         \u001b[0mname\u001b[0m \u001b[0;34m=\u001b[0m \u001b[0mnames\u001b[0m\u001b[0;34m[\u001b[0m\u001b[0;36m0\u001b[0m\u001b[0;34m]\u001b[0m \u001b[0;32mif\u001b[0m \u001b[0mlen\u001b[0m\u001b[0;34m(\u001b[0m\u001b[0mset\u001b[0m\u001b[0;34m(\u001b[0m\u001b[0mnames\u001b[0m\u001b[0;34m)\u001b[0m\u001b[0;34m)\u001b[0m \u001b[0;34m==\u001b[0m \u001b[0;36m1\u001b[0m \u001b[0;32melse\u001b[0m \u001b[0;32mNone\u001b[0m\u001b[0;34m\u001b[0m\u001b[0;34m\u001b[0m\u001b[0m\n",
            "\u001b[0;31mTypeError\u001b[0m: ufunc 'isnan' not supported for the input types, and the inputs could not be safely coerced to any supported types according to the casting rule ''safe''"
          ]
        }
      ]
    },
    {
      "cell_type": "code",
      "metadata": {
        "id": "OmmYVvOigUSZ"
      },
      "source": [
        "data = []\r\n",
        "for colm in UC6.columns[3:]:\r\n",
        "  data.append([colm, UC6.shape[0]-UC6[colm].apply(np.isnan).sum(), UC6[colm].apply(np.isnan).sum(), (UC6[colm].apply(np.isnan).sum()/60)])\r\n",
        "dados_faltantes = pd.DataFrame(data, columns=[\"Variavel\", \"Quantidade de dados Disponíveis\", \"Quantidade de dados Faltantes\", \"Percentagem de Dados Faltantes\" ])\r\n",
        "dados_faltantes = dados_faltantes[dados_faltantes[\"Quantidade de dados Faltantes\"]>0].sort_values(by=['Quantidade de dados Faltantes'], ascending=False).reset_index(drop=True)\r\n",
        "dados_faltantes['Percentagem de Dados Faltantes'] = dados_faltantes['Percentagem de Dados Faltantes'].astype(float).map(\"{:.2%}\".format)\r\n",
        "dados_faltantes"
      ],
      "execution_count": null,
      "outputs": []
    },
    {
      "cell_type": "markdown",
      "metadata": {
        "id": "R23509PYWKqA"
      },
      "source": [
        "## Visualização de Dados Faltantes"
      ]
    },
    {
      "cell_type": "code",
      "metadata": {
        "id": "0-i8vvg5WFVF"
      },
      "source": [
        "import missingno as msno"
      ],
      "execution_count": 39,
      "outputs": []
    },
    {
      "cell_type": "code",
      "metadata": {
        "id": "EM9-36E5hjvG"
      },
      "source": [
        "msno.bar(UC1, color=\"RoyalBlue\") #para visualizar a integridade do datafram"
      ],
      "execution_count": null,
      "outputs": []
    },
    {
      "cell_type": "code",
      "metadata": {
        "id": "To2OMCMVhkJe"
      },
      "source": [
        "msno.bar(UC2, color=\"RoyalBlue\") #para visualizar a integridade do datafram"
      ],
      "execution_count": null,
      "outputs": []
    },
    {
      "cell_type": "code",
      "metadata": {
        "id": "qxwKvuvJhkVQ"
      },
      "source": [
        "msno.bar(UC3, color=\"RoyalBlue\") #para visualizar a integridade do datafram"
      ],
      "execution_count": null,
      "outputs": []
    },
    {
      "cell_type": "code",
      "metadata": {
        "id": "1qzWuuXshkhO"
      },
      "source": [
        "msno.bar(UC4, color=\"RoyalBlue\") #para visualizar a integridade do datafram"
      ],
      "execution_count": null,
      "outputs": []
    },
    {
      "cell_type": "code",
      "metadata": {
        "id": "z98TFotZhkyW"
      },
      "source": [
        "msno.bar(UC5, color=\"RoyalBlue\") #para visualizar a integridade do datafram"
      ],
      "execution_count": null,
      "outputs": []
    },
    {
      "cell_type": "code",
      "metadata": {
        "id": "oZi_c82sWPp2"
      },
      "source": [
        "msno.bar(UC6, color=\"RoyalBlue\") #para visualizar a integridade do datafram"
      ],
      "execution_count": null,
      "outputs": []
    },
    {
      "cell_type": "markdown",
      "metadata": {
        "id": "rTeJgbpBWZpI"
      },
      "source": [
        "## Matriz de Dados Faltantes"
      ]
    },
    {
      "cell_type": "code",
      "metadata": {
        "id": "AfTxZvsPWRKU"
      },
      "source": [
        "msno.matrix(UC1, color = (0.25,0.4,0.8))"
      ],
      "execution_count": null,
      "outputs": []
    },
    {
      "cell_type": "code",
      "metadata": {
        "id": "rShUtlPWiAcp"
      },
      "source": [
        "msno.matrix(UC2, color = (0.25,0.4,0.8))"
      ],
      "execution_count": null,
      "outputs": []
    },
    {
      "cell_type": "code",
      "metadata": {
        "id": "VUHzh6zJiA0d"
      },
      "source": [
        "msno.matrix(UC3, color = (0.25,0.4,0.8))"
      ],
      "execution_count": null,
      "outputs": []
    },
    {
      "cell_type": "code",
      "metadata": {
        "id": "78h6ENMEiA-X"
      },
      "source": [
        "msno.matrix(UC4, color = (0.25,0.4,0.8))"
      ],
      "execution_count": null,
      "outputs": []
    },
    {
      "cell_type": "code",
      "metadata": {
        "id": "zDMrOXwBiBIB"
      },
      "source": [
        "msno.matrix(UC5, color = (0.25,0.4,0.8))"
      ],
      "execution_count": null,
      "outputs": []
    },
    {
      "cell_type": "code",
      "metadata": {
        "id": "zLgK-7KoiBSa"
      },
      "source": [
        "msno.matrix(UC6, color = (0.25,0.4,0.8))"
      ],
      "execution_count": null,
      "outputs": []
    },
    {
      "cell_type": "markdown",
      "metadata": {
        "id": "DaeXdZdmWuqP"
      },
      "source": [
        "## Matriz de Correlação de Dados Faltantes"
      ]
    },
    {
      "cell_type": "code",
      "metadata": {
        "id": "Nwv2o5H-WdJu"
      },
      "source": [
        "msno.heatmap(UC1)"
      ],
      "execution_count": null,
      "outputs": []
    },
    {
      "cell_type": "code",
      "metadata": {
        "id": "Bq6DTDKhiXbz"
      },
      "source": [
        "msno.heatmap(UC2)"
      ],
      "execution_count": null,
      "outputs": []
    },
    {
      "cell_type": "code",
      "metadata": {
        "id": "xOAXd-gGiXl_"
      },
      "source": [
        "msno.heatmap(UC3)"
      ],
      "execution_count": null,
      "outputs": []
    },
    {
      "cell_type": "code",
      "metadata": {
        "id": "bDRU5DZIiXwU"
      },
      "source": [
        "msno.heatmap(UC4)"
      ],
      "execution_count": null,
      "outputs": []
    },
    {
      "cell_type": "code",
      "metadata": {
        "id": "t9ni0WmliX6W"
      },
      "source": [
        "msno.heatmap(UC5)"
      ],
      "execution_count": null,
      "outputs": []
    },
    {
      "cell_type": "code",
      "metadata": {
        "id": "Ei0xhLSfiYEU"
      },
      "source": [
        "msno.heatmap(UC6)"
      ],
      "execution_count": null,
      "outputs": []
    },
    {
      "cell_type": "markdown",
      "metadata": {
        "id": "DeUlGgt_W_3X"
      },
      "source": [
        "## Dendogram de dados Faltantes"
      ]
    },
    {
      "cell_type": "code",
      "metadata": {
        "id": "zpJsDoiyWwm1"
      },
      "source": [
        "msno.dendrogram(UC1)"
      ],
      "execution_count": null,
      "outputs": []
    },
    {
      "cell_type": "code",
      "metadata": {
        "id": "-kW5FONSiqiy"
      },
      "source": [
        "msno.dendrogram(UC2)"
      ],
      "execution_count": null,
      "outputs": []
    },
    {
      "cell_type": "code",
      "metadata": {
        "id": "xrLoOIptiqtP"
      },
      "source": [
        "msno.dendrogram(UC3)"
      ],
      "execution_count": null,
      "outputs": []
    },
    {
      "cell_type": "code",
      "metadata": {
        "id": "Gf_EzYViiq38"
      },
      "source": [
        "msno.dendrogram(UC4)"
      ],
      "execution_count": null,
      "outputs": []
    },
    {
      "cell_type": "code",
      "metadata": {
        "id": "VdHMH1htirCs"
      },
      "source": [
        "msno.dendrogram(UC5)"
      ],
      "execution_count": null,
      "outputs": []
    },
    {
      "cell_type": "code",
      "metadata": {
        "id": "CdMLpo5virQT"
      },
      "source": [
        "msno.dendrogram(UC6)"
      ],
      "execution_count": null,
      "outputs": []
    },
    {
      "cell_type": "markdown",
      "metadata": {
        "id": "hoChg3zQXKCY"
      },
      "source": [
        "## Eliminação de dados Faltantes"
      ]
    },
    {
      "cell_type": "code",
      "metadata": {
        "id": "RbdpJHeqXCYe"
      },
      "source": [
        "UC1_df = UC1.drop(set(UC1.columns[UC1.isnull().mean() >0.5]), 1)\r\n",
        "UC1_df.shape"
      ],
      "execution_count": null,
      "outputs": []
    },
    {
      "cell_type": "code",
      "metadata": {
        "id": "TjSZb2ZsjXFW"
      },
      "source": [
        "UC2_df = UC2.drop(set(UC2.columns[UC2.isnull().mean() >0.5]), 1)\r\n",
        "UC2_df.shape"
      ],
      "execution_count": null,
      "outputs": []
    },
    {
      "cell_type": "code",
      "metadata": {
        "id": "BuHnf4KrjXOK"
      },
      "source": [
        "UC3_df = UC3.drop(set(UC3.columns[UC3.isnull().mean() >0.5]), 1)\r\n",
        "UC3_df.shape"
      ],
      "execution_count": null,
      "outputs": []
    },
    {
      "cell_type": "code",
      "metadata": {
        "id": "U1V-h0KsjXWo"
      },
      "source": [
        "UC4_df = UC4.drop(set(UC4.columns[UC4.isnull().mean() >0.5]), 1)\r\n",
        "UC4_df.shape"
      ],
      "execution_count": null,
      "outputs": []
    },
    {
      "cell_type": "code",
      "metadata": {
        "id": "6eHzEQkbjXfG"
      },
      "source": [
        "UC5_df = UC5.drop(set(UC5.columns[UC5.isnull().mean() >0.5]), 1)\r\n",
        "UC5_df.shape"
      ],
      "execution_count": null,
      "outputs": []
    },
    {
      "cell_type": "code",
      "metadata": {
        "id": "anc9Qe29jXou"
      },
      "source": [
        "UC6_df = UC6.drop(set(UC6.columns[UC6.isnull().mean() >0.5]), 1)\r\n",
        "UC6_df.shape"
      ],
      "execution_count": null,
      "outputs": []
    },
    {
      "cell_type": "markdown",
      "metadata": {
        "id": "XSdn3alKXlH3"
      },
      "source": [
        "## Visualização de Variaveis"
      ]
    },
    {
      "cell_type": "code",
      "metadata": {
        "id": "dOrrkZu7XX4t"
      },
      "source": [
        "import matplotlib.pyplot as plt\r\n",
        "import seaborn as sns\r\n",
        "sns.set()"
      ],
      "execution_count": 70,
      "outputs": []
    },
    {
      "cell_type": "code",
      "metadata": {
        "id": "_ZJCsbz5Xjn1"
      },
      "source": [
        "f, axs = plt.subplots(5, 5,figsize=(20,20))\r\n",
        "for i,col in enumerate(UC1_df.columns[3:]):\r\n",
        "  plt.subplot(5, 5, i+1)\r\n",
        "  plt.title(col)\r\n",
        "  plt.plot(UC1_df.DATA, UC1_df[col])"
      ],
      "execution_count": null,
      "outputs": []
    },
    {
      "cell_type": "code",
      "metadata": {
        "colab": {
          "base_uri": "https://localhost:8080/",
          "height": 1000
        },
        "id": "_Vc5Buppkd1Y",
        "outputId": "ec42c4c3-bc2a-4123-a6b4-042b24c67fe6"
      },
      "source": [
        "f, axs = plt.subplots(5, 6,figsize=(20,20))\r\n",
        "for i,col in enumerate(UC2_df.columns[3:]):\r\n",
        "  plt.subplot(5, 6, i+1)\r\n",
        "  plt.title(col)\r\n",
        "  plt.plot(UC2_df.DATA, UC2_df[col])"
      ],
      "execution_count": 72,
      "outputs": [
        {
          "output_type": "error",
          "ename": "ValueError",
          "evalue": "ignored",
          "traceback": [
            "\u001b[0;31m---------------------------------------------------------------------------\u001b[0m",
            "\u001b[0;31mValueError\u001b[0m                                Traceback (most recent call last)",
            "\u001b[0;32m<ipython-input-72-cbad8550542d>\u001b[0m in \u001b[0;36m<module>\u001b[0;34m()\u001b[0m\n\u001b[1;32m      3\u001b[0m   \u001b[0mplt\u001b[0m\u001b[0;34m.\u001b[0m\u001b[0msubplot\u001b[0m\u001b[0;34m(\u001b[0m\u001b[0;36m5\u001b[0m\u001b[0;34m,\u001b[0m \u001b[0;36m6\u001b[0m\u001b[0;34m,\u001b[0m \u001b[0mi\u001b[0m\u001b[0;34m+\u001b[0m\u001b[0;36m1\u001b[0m\u001b[0;34m)\u001b[0m\u001b[0;34m\u001b[0m\u001b[0;34m\u001b[0m\u001b[0m\n\u001b[1;32m      4\u001b[0m   \u001b[0mplt\u001b[0m\u001b[0;34m.\u001b[0m\u001b[0mtitle\u001b[0m\u001b[0;34m(\u001b[0m\u001b[0mcol\u001b[0m\u001b[0;34m)\u001b[0m\u001b[0;34m\u001b[0m\u001b[0;34m\u001b[0m\u001b[0m\n\u001b[0;32m----> 5\u001b[0;31m   \u001b[0mplt\u001b[0m\u001b[0;34m.\u001b[0m\u001b[0mplot\u001b[0m\u001b[0;34m(\u001b[0m\u001b[0mUC2_df\u001b[0m\u001b[0;34m.\u001b[0m\u001b[0mDATA\u001b[0m\u001b[0;34m,\u001b[0m \u001b[0mUC2_df\u001b[0m\u001b[0;34m[\u001b[0m\u001b[0mcol\u001b[0m\u001b[0;34m]\u001b[0m\u001b[0;34m)\u001b[0m\u001b[0;34m\u001b[0m\u001b[0;34m\u001b[0m\u001b[0m\n\u001b[0m",
            "\u001b[0;32m/usr/local/lib/python3.6/dist-packages/matplotlib/pyplot.py\u001b[0m in \u001b[0;36mplot\u001b[0;34m(scalex, scaley, data, *args, **kwargs)\u001b[0m\n\u001b[1;32m   2761\u001b[0m     return gca().plot(\n\u001b[1;32m   2762\u001b[0m         *args, scalex=scalex, scaley=scaley, **({\"data\": data} if data\n\u001b[0;32m-> 2763\u001b[0;31m         is not None else {}), **kwargs)\n\u001b[0m\u001b[1;32m   2764\u001b[0m \u001b[0;34m\u001b[0m\u001b[0m\n\u001b[1;32m   2765\u001b[0m \u001b[0;34m\u001b[0m\u001b[0m\n",
            "\u001b[0;32m/usr/local/lib/python3.6/dist-packages/matplotlib/axes/_axes.py\u001b[0m in \u001b[0;36mplot\u001b[0;34m(self, scalex, scaley, data, *args, **kwargs)\u001b[0m\n\u001b[1;32m   1647\u001b[0m         \u001b[0mlines\u001b[0m \u001b[0;34m=\u001b[0m \u001b[0;34m[\u001b[0m\u001b[0;34m*\u001b[0m\u001b[0mself\u001b[0m\u001b[0;34m.\u001b[0m\u001b[0m_get_lines\u001b[0m\u001b[0;34m(\u001b[0m\u001b[0;34m*\u001b[0m\u001b[0margs\u001b[0m\u001b[0;34m,\u001b[0m \u001b[0mdata\u001b[0m\u001b[0;34m=\u001b[0m\u001b[0mdata\u001b[0m\u001b[0;34m,\u001b[0m \u001b[0;34m**\u001b[0m\u001b[0mkwargs\u001b[0m\u001b[0;34m)\u001b[0m\u001b[0;34m]\u001b[0m\u001b[0;34m\u001b[0m\u001b[0;34m\u001b[0m\u001b[0m\n\u001b[1;32m   1648\u001b[0m         \u001b[0;32mfor\u001b[0m \u001b[0mline\u001b[0m \u001b[0;32min\u001b[0m \u001b[0mlines\u001b[0m\u001b[0;34m:\u001b[0m\u001b[0;34m\u001b[0m\u001b[0;34m\u001b[0m\u001b[0m\n\u001b[0;32m-> 1649\u001b[0;31m             \u001b[0mself\u001b[0m\u001b[0;34m.\u001b[0m\u001b[0madd_line\u001b[0m\u001b[0;34m(\u001b[0m\u001b[0mline\u001b[0m\u001b[0;34m)\u001b[0m\u001b[0;34m\u001b[0m\u001b[0;34m\u001b[0m\u001b[0m\n\u001b[0m\u001b[1;32m   1650\u001b[0m         \u001b[0mself\u001b[0m\u001b[0;34m.\u001b[0m\u001b[0m_request_autoscale_view\u001b[0m\u001b[0;34m(\u001b[0m\u001b[0mscalex\u001b[0m\u001b[0;34m=\u001b[0m\u001b[0mscalex\u001b[0m\u001b[0;34m,\u001b[0m \u001b[0mscaley\u001b[0m\u001b[0;34m=\u001b[0m\u001b[0mscaley\u001b[0m\u001b[0;34m)\u001b[0m\u001b[0;34m\u001b[0m\u001b[0;34m\u001b[0m\u001b[0m\n\u001b[1;32m   1651\u001b[0m         \u001b[0;32mreturn\u001b[0m \u001b[0mlines\u001b[0m\u001b[0;34m\u001b[0m\u001b[0;34m\u001b[0m\u001b[0m\n",
            "\u001b[0;32m/usr/local/lib/python3.6/dist-packages/matplotlib/axes/_base.py\u001b[0m in \u001b[0;36madd_line\u001b[0;34m(self, line)\u001b[0m\n\u001b[1;32m   1848\u001b[0m             \u001b[0mline\u001b[0m\u001b[0;34m.\u001b[0m\u001b[0mset_clip_path\u001b[0m\u001b[0;34m(\u001b[0m\u001b[0mself\u001b[0m\u001b[0;34m.\u001b[0m\u001b[0mpatch\u001b[0m\u001b[0;34m)\u001b[0m\u001b[0;34m\u001b[0m\u001b[0;34m\u001b[0m\u001b[0m\n\u001b[1;32m   1849\u001b[0m \u001b[0;34m\u001b[0m\u001b[0m\n\u001b[0;32m-> 1850\u001b[0;31m         \u001b[0mself\u001b[0m\u001b[0;34m.\u001b[0m\u001b[0m_update_line_limits\u001b[0m\u001b[0;34m(\u001b[0m\u001b[0mline\u001b[0m\u001b[0;34m)\u001b[0m\u001b[0;34m\u001b[0m\u001b[0;34m\u001b[0m\u001b[0m\n\u001b[0m\u001b[1;32m   1851\u001b[0m         \u001b[0;32mif\u001b[0m \u001b[0;32mnot\u001b[0m \u001b[0mline\u001b[0m\u001b[0;34m.\u001b[0m\u001b[0mget_label\u001b[0m\u001b[0;34m(\u001b[0m\u001b[0;34m)\u001b[0m\u001b[0;34m:\u001b[0m\u001b[0;34m\u001b[0m\u001b[0;34m\u001b[0m\u001b[0m\n\u001b[1;32m   1852\u001b[0m             \u001b[0mline\u001b[0m\u001b[0;34m.\u001b[0m\u001b[0mset_label\u001b[0m\u001b[0;34m(\u001b[0m\u001b[0;34m'_line%d'\u001b[0m \u001b[0;34m%\u001b[0m \u001b[0mlen\u001b[0m\u001b[0;34m(\u001b[0m\u001b[0mself\u001b[0m\u001b[0;34m.\u001b[0m\u001b[0mlines\u001b[0m\u001b[0;34m)\u001b[0m\u001b[0;34m)\u001b[0m\u001b[0;34m\u001b[0m\u001b[0;34m\u001b[0m\u001b[0m\n",
            "\u001b[0;32m/usr/local/lib/python3.6/dist-packages/matplotlib/axes/_base.py\u001b[0m in \u001b[0;36m_update_line_limits\u001b[0;34m(self, line)\u001b[0m\n\u001b[1;32m   1870\u001b[0m         \u001b[0mFigures\u001b[0m \u001b[0mout\u001b[0m \u001b[0mthe\u001b[0m \u001b[0mdata\u001b[0m \u001b[0mlimit\u001b[0m \u001b[0mof\u001b[0m \u001b[0mthe\u001b[0m \u001b[0mgiven\u001b[0m \u001b[0mline\u001b[0m\u001b[0;34m,\u001b[0m \u001b[0mupdating\u001b[0m \u001b[0mself\u001b[0m\u001b[0;34m.\u001b[0m\u001b[0mdataLim\u001b[0m\u001b[0;34m.\u001b[0m\u001b[0;34m\u001b[0m\u001b[0;34m\u001b[0m\u001b[0m\n\u001b[1;32m   1871\u001b[0m         \"\"\"\n\u001b[0;32m-> 1872\u001b[0;31m         \u001b[0mpath\u001b[0m \u001b[0;34m=\u001b[0m \u001b[0mline\u001b[0m\u001b[0;34m.\u001b[0m\u001b[0mget_path\u001b[0m\u001b[0;34m(\u001b[0m\u001b[0;34m)\u001b[0m\u001b[0;34m\u001b[0m\u001b[0;34m\u001b[0m\u001b[0m\n\u001b[0m\u001b[1;32m   1873\u001b[0m         \u001b[0;32mif\u001b[0m \u001b[0mpath\u001b[0m\u001b[0;34m.\u001b[0m\u001b[0mvertices\u001b[0m\u001b[0;34m.\u001b[0m\u001b[0msize\u001b[0m \u001b[0;34m==\u001b[0m \u001b[0;36m0\u001b[0m\u001b[0;34m:\u001b[0m\u001b[0;34m\u001b[0m\u001b[0;34m\u001b[0m\u001b[0m\n\u001b[1;32m   1874\u001b[0m             \u001b[0;32mreturn\u001b[0m\u001b[0;34m\u001b[0m\u001b[0;34m\u001b[0m\u001b[0m\n",
            "\u001b[0;32m/usr/local/lib/python3.6/dist-packages/matplotlib/lines.py\u001b[0m in \u001b[0;36mget_path\u001b[0;34m(self)\u001b[0m\n\u001b[1;32m   1025\u001b[0m         \"\"\"\n\u001b[1;32m   1026\u001b[0m         \u001b[0;32mif\u001b[0m \u001b[0mself\u001b[0m\u001b[0;34m.\u001b[0m\u001b[0m_invalidy\u001b[0m \u001b[0;32mor\u001b[0m \u001b[0mself\u001b[0m\u001b[0;34m.\u001b[0m\u001b[0m_invalidx\u001b[0m\u001b[0;34m:\u001b[0m\u001b[0;34m\u001b[0m\u001b[0;34m\u001b[0m\u001b[0m\n\u001b[0;32m-> 1027\u001b[0;31m             \u001b[0mself\u001b[0m\u001b[0;34m.\u001b[0m\u001b[0mrecache\u001b[0m\u001b[0;34m(\u001b[0m\u001b[0;34m)\u001b[0m\u001b[0;34m\u001b[0m\u001b[0;34m\u001b[0m\u001b[0m\n\u001b[0m\u001b[1;32m   1028\u001b[0m         \u001b[0;32mreturn\u001b[0m \u001b[0mself\u001b[0m\u001b[0;34m.\u001b[0m\u001b[0m_path\u001b[0m\u001b[0;34m\u001b[0m\u001b[0;34m\u001b[0m\u001b[0m\n\u001b[1;32m   1029\u001b[0m \u001b[0;34m\u001b[0m\u001b[0m\n",
            "\u001b[0;32m/usr/local/lib/python3.6/dist-packages/matplotlib/lines.py\u001b[0m in \u001b[0;36mrecache\u001b[0;34m(self, always)\u001b[0m\n\u001b[1;32m    673\u001b[0m         \u001b[0;32mif\u001b[0m \u001b[0malways\u001b[0m \u001b[0;32mor\u001b[0m \u001b[0mself\u001b[0m\u001b[0;34m.\u001b[0m\u001b[0m_invalidy\u001b[0m\u001b[0;34m:\u001b[0m\u001b[0;34m\u001b[0m\u001b[0;34m\u001b[0m\u001b[0m\n\u001b[1;32m    674\u001b[0m             \u001b[0myconv\u001b[0m \u001b[0;34m=\u001b[0m \u001b[0mself\u001b[0m\u001b[0;34m.\u001b[0m\u001b[0mconvert_yunits\u001b[0m\u001b[0;34m(\u001b[0m\u001b[0mself\u001b[0m\u001b[0;34m.\u001b[0m\u001b[0m_yorig\u001b[0m\u001b[0;34m)\u001b[0m\u001b[0;34m\u001b[0m\u001b[0;34m\u001b[0m\u001b[0m\n\u001b[0;32m--> 675\u001b[0;31m             \u001b[0my\u001b[0m \u001b[0;34m=\u001b[0m \u001b[0m_to_unmasked_float_array\u001b[0m\u001b[0;34m(\u001b[0m\u001b[0myconv\u001b[0m\u001b[0;34m)\u001b[0m\u001b[0;34m.\u001b[0m\u001b[0mravel\u001b[0m\u001b[0;34m(\u001b[0m\u001b[0;34m)\u001b[0m\u001b[0;34m\u001b[0m\u001b[0;34m\u001b[0m\u001b[0m\n\u001b[0m\u001b[1;32m    676\u001b[0m         \u001b[0;32melse\u001b[0m\u001b[0;34m:\u001b[0m\u001b[0;34m\u001b[0m\u001b[0;34m\u001b[0m\u001b[0m\n\u001b[1;32m    677\u001b[0m             \u001b[0my\u001b[0m \u001b[0;34m=\u001b[0m \u001b[0mself\u001b[0m\u001b[0;34m.\u001b[0m\u001b[0m_y\u001b[0m\u001b[0;34m\u001b[0m\u001b[0;34m\u001b[0m\u001b[0m\n",
            "\u001b[0;32m/usr/local/lib/python3.6/dist-packages/matplotlib/cbook/__init__.py\u001b[0m in \u001b[0;36m_to_unmasked_float_array\u001b[0;34m(x)\u001b[0m\n\u001b[1;32m   1315\u001b[0m         \u001b[0;32mreturn\u001b[0m \u001b[0mnp\u001b[0m\u001b[0;34m.\u001b[0m\u001b[0mma\u001b[0m\u001b[0;34m.\u001b[0m\u001b[0masarray\u001b[0m\u001b[0;34m(\u001b[0m\u001b[0mx\u001b[0m\u001b[0;34m,\u001b[0m \u001b[0mfloat\u001b[0m\u001b[0;34m)\u001b[0m\u001b[0;34m.\u001b[0m\u001b[0mfilled\u001b[0m\u001b[0;34m(\u001b[0m\u001b[0mnp\u001b[0m\u001b[0;34m.\u001b[0m\u001b[0mnan\u001b[0m\u001b[0;34m)\u001b[0m\u001b[0;34m\u001b[0m\u001b[0;34m\u001b[0m\u001b[0m\n\u001b[1;32m   1316\u001b[0m     \u001b[0;32melse\u001b[0m\u001b[0;34m:\u001b[0m\u001b[0;34m\u001b[0m\u001b[0;34m\u001b[0m\u001b[0m\n\u001b[0;32m-> 1317\u001b[0;31m         \u001b[0;32mreturn\u001b[0m \u001b[0mnp\u001b[0m\u001b[0;34m.\u001b[0m\u001b[0masarray\u001b[0m\u001b[0;34m(\u001b[0m\u001b[0mx\u001b[0m\u001b[0;34m,\u001b[0m \u001b[0mfloat\u001b[0m\u001b[0;34m)\u001b[0m\u001b[0;34m\u001b[0m\u001b[0;34m\u001b[0m\u001b[0m\n\u001b[0m\u001b[1;32m   1318\u001b[0m \u001b[0;34m\u001b[0m\u001b[0m\n\u001b[1;32m   1319\u001b[0m \u001b[0;34m\u001b[0m\u001b[0m\n",
            "\u001b[0;32m/usr/local/lib/python3.6/dist-packages/numpy/core/_asarray.py\u001b[0m in \u001b[0;36masarray\u001b[0;34m(a, dtype, order)\u001b[0m\n\u001b[1;32m     81\u001b[0m \u001b[0;34m\u001b[0m\u001b[0m\n\u001b[1;32m     82\u001b[0m     \"\"\"\n\u001b[0;32m---> 83\u001b[0;31m     \u001b[0;32mreturn\u001b[0m \u001b[0marray\u001b[0m\u001b[0;34m(\u001b[0m\u001b[0ma\u001b[0m\u001b[0;34m,\u001b[0m \u001b[0mdtype\u001b[0m\u001b[0;34m,\u001b[0m \u001b[0mcopy\u001b[0m\u001b[0;34m=\u001b[0m\u001b[0;32mFalse\u001b[0m\u001b[0;34m,\u001b[0m \u001b[0morder\u001b[0m\u001b[0;34m=\u001b[0m\u001b[0morder\u001b[0m\u001b[0;34m)\u001b[0m\u001b[0;34m\u001b[0m\u001b[0;34m\u001b[0m\u001b[0m\n\u001b[0m\u001b[1;32m     84\u001b[0m \u001b[0;34m\u001b[0m\u001b[0m\n\u001b[1;32m     85\u001b[0m \u001b[0;34m\u001b[0m\u001b[0m\n",
            "\u001b[0;31mValueError\u001b[0m: could not convert string to float: "
          ]
        },
        {
          "output_type": "display_data",
          "data": {
            "image/png": "[encoded data removed]",
            "text/plain": [
              "<Figure size 1440x1440 with 30 Axes>"
            ]
          },
          "metadata": {
            "tags": []
          }
        }
      ]
    },
    {
      "cell_type": "code",
      "metadata": {
        "id": "wSMpz7vLkeFT"
      },
      "source": [
        "f, axs = plt.subplots(3, 5,figsize=(20,20))\r\n",
        "for i,col in enumerate(UC3_df.columns[3:]):\r\n",
        "  plt.subplot(3, 5, i+1)\r\n",
        "  plt.title(col)\r\n",
        "  plt.plot(UC3_df.DATA, UC3_df[col])"
      ],
      "execution_count": null,
      "outputs": []
    },
    {
      "cell_type": "code",
      "metadata": {
        "colab": {
          "base_uri": "https://localhost:8080/",
          "height": 1000
        },
        "id": "sR3Qn9JkkeOc",
        "outputId": "e9c6f269-5c68-40b5-8f95-5ef633805d22"
      },
      "source": [
        "f, axs = plt.subplots(5, 6,figsize=(20,20))\r\n",
        "for i,col in enumerate(UC4_df.columns[3:]):\r\n",
        "  plt.subplot(5, 5, i+1)\r\n",
        "  plt.title(col)\r\n",
        "  plt.plot(UC4_df.DATA, UC4_df[col])"
      ],
      "execution_count": 74,
      "outputs": [
        {
          "output_type": "error",
          "ename": "ValueError",
          "evalue": "ignored",
          "traceback": [
            "\u001b[0;31m---------------------------------------------------------------------------\u001b[0m",
            "\u001b[0;31mValueError\u001b[0m                                Traceback (most recent call last)",
            "\u001b[0;32m<ipython-input-74-eedfd3ab7089>\u001b[0m in \u001b[0;36m<module>\u001b[0;34m()\u001b[0m\n\u001b[1;32m      3\u001b[0m   \u001b[0mplt\u001b[0m\u001b[0;34m.\u001b[0m\u001b[0msubplot\u001b[0m\u001b[0;34m(\u001b[0m\u001b[0;36m5\u001b[0m\u001b[0;34m,\u001b[0m \u001b[0;36m5\u001b[0m\u001b[0;34m,\u001b[0m \u001b[0mi\u001b[0m\u001b[0;34m+\u001b[0m\u001b[0;36m1\u001b[0m\u001b[0;34m)\u001b[0m\u001b[0;34m\u001b[0m\u001b[0;34m\u001b[0m\u001b[0m\n\u001b[1;32m      4\u001b[0m   \u001b[0mplt\u001b[0m\u001b[0;34m.\u001b[0m\u001b[0mtitle\u001b[0m\u001b[0;34m(\u001b[0m\u001b[0mcol\u001b[0m\u001b[0;34m)\u001b[0m\u001b[0;34m\u001b[0m\u001b[0;34m\u001b[0m\u001b[0m\n\u001b[0;32m----> 5\u001b[0;31m   \u001b[0mplt\u001b[0m\u001b[0;34m.\u001b[0m\u001b[0mplot\u001b[0m\u001b[0;34m(\u001b[0m\u001b[0mUC4_df\u001b[0m\u001b[0;34m.\u001b[0m\u001b[0mDATA\u001b[0m\u001b[0;34m,\u001b[0m \u001b[0mUC4_df\u001b[0m\u001b[0;34m[\u001b[0m\u001b[0mcol\u001b[0m\u001b[0;34m]\u001b[0m\u001b[0;34m)\u001b[0m\u001b[0;34m\u001b[0m\u001b[0;34m\u001b[0m\u001b[0m\n\u001b[0m",
            "\u001b[0;32m/usr/local/lib/python3.6/dist-packages/matplotlib/pyplot.py\u001b[0m in \u001b[0;36mplot\u001b[0;34m(scalex, scaley, data, *args, **kwargs)\u001b[0m\n\u001b[1;32m   2761\u001b[0m     return gca().plot(\n\u001b[1;32m   2762\u001b[0m         *args, scalex=scalex, scaley=scaley, **({\"data\": data} if data\n\u001b[0;32m-> 2763\u001b[0;31m         is not None else {}), **kwargs)\n\u001b[0m\u001b[1;32m   2764\u001b[0m \u001b[0;34m\u001b[0m\u001b[0m\n\u001b[1;32m   2765\u001b[0m \u001b[0;34m\u001b[0m\u001b[0m\n",
            "\u001b[0;32m/usr/local/lib/python3.6/dist-packages/matplotlib/axes/_axes.py\u001b[0m in \u001b[0;36mplot\u001b[0;34m(self, scalex, scaley, data, *args, **kwargs)\u001b[0m\n\u001b[1;32m   1647\u001b[0m         \u001b[0mlines\u001b[0m \u001b[0;34m=\u001b[0m \u001b[0;34m[\u001b[0m\u001b[0;34m*\u001b[0m\u001b[0mself\u001b[0m\u001b[0;34m.\u001b[0m\u001b[0m_get_lines\u001b[0m\u001b[0;34m(\u001b[0m\u001b[0;34m*\u001b[0m\u001b[0margs\u001b[0m\u001b[0;34m,\u001b[0m \u001b[0mdata\u001b[0m\u001b[0;34m=\u001b[0m\u001b[0mdata\u001b[0m\u001b[0;34m,\u001b[0m \u001b[0;34m**\u001b[0m\u001b[0mkwargs\u001b[0m\u001b[0;34m)\u001b[0m\u001b[0;34m]\u001b[0m\u001b[0;34m\u001b[0m\u001b[0;34m\u001b[0m\u001b[0m\n\u001b[1;32m   1648\u001b[0m         \u001b[0;32mfor\u001b[0m \u001b[0mline\u001b[0m \u001b[0;32min\u001b[0m \u001b[0mlines\u001b[0m\u001b[0;34m:\u001b[0m\u001b[0;34m\u001b[0m\u001b[0;34m\u001b[0m\u001b[0m\n\u001b[0;32m-> 1649\u001b[0;31m             \u001b[0mself\u001b[0m\u001b[0;34m.\u001b[0m\u001b[0madd_line\u001b[0m\u001b[0;34m(\u001b[0m\u001b[0mline\u001b[0m\u001b[0;34m)\u001b[0m\u001b[0;34m\u001b[0m\u001b[0;34m\u001b[0m\u001b[0m\n\u001b[0m\u001b[1;32m   1650\u001b[0m         \u001b[0mself\u001b[0m\u001b[0;34m.\u001b[0m\u001b[0m_request_autoscale_view\u001b[0m\u001b[0;34m(\u001b[0m\u001b[0mscalex\u001b[0m\u001b[0;34m=\u001b[0m\u001b[0mscalex\u001b[0m\u001b[0;34m,\u001b[0m \u001b[0mscaley\u001b[0m\u001b[0;34m=\u001b[0m\u001b[0mscaley\u001b[0m\u001b[0;34m)\u001b[0m\u001b[0;34m\u001b[0m\u001b[0;34m\u001b[0m\u001b[0m\n\u001b[1;32m   1651\u001b[0m         \u001b[0;32mreturn\u001b[0m \u001b[0mlines\u001b[0m\u001b[0;34m\u001b[0m\u001b[0;34m\u001b[0m\u001b[0m\n",
            "\u001b[0;32m/usr/local/lib/python3.6/dist-packages/matplotlib/axes/_base.py\u001b[0m in \u001b[0;36madd_line\u001b[0;34m(self, line)\u001b[0m\n\u001b[1;32m   1848\u001b[0m             \u001b[0mline\u001b[0m\u001b[0;34m.\u001b[0m\u001b[0mset_clip_path\u001b[0m\u001b[0;34m(\u001b[0m\u001b[0mself\u001b[0m\u001b[0;34m.\u001b[0m\u001b[0mpatch\u001b[0m\u001b[0;34m)\u001b[0m\u001b[0;34m\u001b[0m\u001b[0;34m\u001b[0m\u001b[0m\n\u001b[1;32m   1849\u001b[0m \u001b[0;34m\u001b[0m\u001b[0m\n\u001b[0;32m-> 1850\u001b[0;31m         \u001b[0mself\u001b[0m\u001b[0;34m.\u001b[0m\u001b[0m_update_line_limits\u001b[0m\u001b[0;34m(\u001b[0m\u001b[0mline\u001b[0m\u001b[0;34m)\u001b[0m\u001b[0;34m\u001b[0m\u001b[0;34m\u001b[0m\u001b[0m\n\u001b[0m\u001b[1;32m   1851\u001b[0m         \u001b[0;32mif\u001b[0m \u001b[0;32mnot\u001b[0m \u001b[0mline\u001b[0m\u001b[0;34m.\u001b[0m\u001b[0mget_label\u001b[0m\u001b[0;34m(\u001b[0m\u001b[0;34m)\u001b[0m\u001b[0;34m:\u001b[0m\u001b[0;34m\u001b[0m\u001b[0;34m\u001b[0m\u001b[0m\n\u001b[1;32m   1852\u001b[0m             \u001b[0mline\u001b[0m\u001b[0;34m.\u001b[0m\u001b[0mset_label\u001b[0m\u001b[0;34m(\u001b[0m\u001b[0;34m'_line%d'\u001b[0m \u001b[0;34m%\u001b[0m \u001b[0mlen\u001b[0m\u001b[0;34m(\u001b[0m\u001b[0mself\u001b[0m\u001b[0;34m.\u001b[0m\u001b[0mlines\u001b[0m\u001b[0;34m)\u001b[0m\u001b[0;34m)\u001b[0m\u001b[0;34m\u001b[0m\u001b[0;34m\u001b[0m\u001b[0m\n",
            "\u001b[0;32m/usr/local/lib/python3.6/dist-packages/matplotlib/axes/_base.py\u001b[0m in \u001b[0;36m_update_line_limits\u001b[0;34m(self, line)\u001b[0m\n\u001b[1;32m   1870\u001b[0m         \u001b[0mFigures\u001b[0m \u001b[0mout\u001b[0m \u001b[0mthe\u001b[0m \u001b[0mdata\u001b[0m \u001b[0mlimit\u001b[0m \u001b[0mof\u001b[0m \u001b[0mthe\u001b[0m \u001b[0mgiven\u001b[0m \u001b[0mline\u001b[0m\u001b[0;34m,\u001b[0m \u001b[0mupdating\u001b[0m \u001b[0mself\u001b[0m\u001b[0;34m.\u001b[0m\u001b[0mdataLim\u001b[0m\u001b[0;34m.\u001b[0m\u001b[0;34m\u001b[0m\u001b[0;34m\u001b[0m\u001b[0m\n\u001b[1;32m   1871\u001b[0m         \"\"\"\n\u001b[0;32m-> 1872\u001b[0;31m         \u001b[0mpath\u001b[0m \u001b[0;34m=\u001b[0m \u001b[0mline\u001b[0m\u001b[0;34m.\u001b[0m\u001b[0mget_path\u001b[0m\u001b[0;34m(\u001b[0m\u001b[0;34m)\u001b[0m\u001b[0;34m\u001b[0m\u001b[0;34m\u001b[0m\u001b[0m\n\u001b[0m\u001b[1;32m   1873\u001b[0m         \u001b[0;32mif\u001b[0m \u001b[0mpath\u001b[0m\u001b[0;34m.\u001b[0m\u001b[0mvertices\u001b[0m\u001b[0;34m.\u001b[0m\u001b[0msize\u001b[0m \u001b[0;34m==\u001b[0m \u001b[0;36m0\u001b[0m\u001b[0;34m:\u001b[0m\u001b[0;34m\u001b[0m\u001b[0;34m\u001b[0m\u001b[0m\n\u001b[1;32m   1874\u001b[0m             \u001b[0;32mreturn\u001b[0m\u001b[0;34m\u001b[0m\u001b[0;34m\u001b[0m\u001b[0m\n",
            "\u001b[0;32m/usr/local/lib/python3.6/dist-packages/matplotlib/lines.py\u001b[0m in \u001b[0;36mget_path\u001b[0;34m(self)\u001b[0m\n\u001b[1;32m   1025\u001b[0m         \"\"\"\n\u001b[1;32m   1026\u001b[0m         \u001b[0;32mif\u001b[0m \u001b[0mself\u001b[0m\u001b[0;34m.\u001b[0m\u001b[0m_invalidy\u001b[0m \u001b[0;32mor\u001b[0m \u001b[0mself\u001b[0m\u001b[0;34m.\u001b[0m\u001b[0m_invalidx\u001b[0m\u001b[0;34m:\u001b[0m\u001b[0;34m\u001b[0m\u001b[0;34m\u001b[0m\u001b[0m\n\u001b[0;32m-> 1027\u001b[0;31m             \u001b[0mself\u001b[0m\u001b[0;34m.\u001b[0m\u001b[0mrecache\u001b[0m\u001b[0;34m(\u001b[0m\u001b[0;34m)\u001b[0m\u001b[0;34m\u001b[0m\u001b[0;34m\u001b[0m\u001b[0m\n\u001b[0m\u001b[1;32m   1028\u001b[0m         \u001b[0;32mreturn\u001b[0m \u001b[0mself\u001b[0m\u001b[0;34m.\u001b[0m\u001b[0m_path\u001b[0m\u001b[0;34m\u001b[0m\u001b[0;34m\u001b[0m\u001b[0m\n\u001b[1;32m   1029\u001b[0m \u001b[0;34m\u001b[0m\u001b[0m\n",
            "\u001b[0;32m/usr/local/lib/python3.6/dist-packages/matplotlib/lines.py\u001b[0m in \u001b[0;36mrecache\u001b[0;34m(self, always)\u001b[0m\n\u001b[1;32m    673\u001b[0m         \u001b[0;32mif\u001b[0m \u001b[0malways\u001b[0m \u001b[0;32mor\u001b[0m \u001b[0mself\u001b[0m\u001b[0;34m.\u001b[0m\u001b[0m_invalidy\u001b[0m\u001b[0;34m:\u001b[0m\u001b[0;34m\u001b[0m\u001b[0;34m\u001b[0m\u001b[0m\n\u001b[1;32m    674\u001b[0m             \u001b[0myconv\u001b[0m \u001b[0;34m=\u001b[0m \u001b[0mself\u001b[0m\u001b[0;34m.\u001b[0m\u001b[0mconvert_yunits\u001b[0m\u001b[0;34m(\u001b[0m\u001b[0mself\u001b[0m\u001b[0;34m.\u001b[0m\u001b[0m_yorig\u001b[0m\u001b[0;34m)\u001b[0m\u001b[0;34m\u001b[0m\u001b[0;34m\u001b[0m\u001b[0m\n\u001b[0;32m--> 675\u001b[0;31m             \u001b[0my\u001b[0m \u001b[0;34m=\u001b[0m \u001b[0m_to_unmasked_float_array\u001b[0m\u001b[0;34m(\u001b[0m\u001b[0myconv\u001b[0m\u001b[0;34m)\u001b[0m\u001b[0;34m.\u001b[0m\u001b[0mravel\u001b[0m\u001b[0;34m(\u001b[0m\u001b[0;34m)\u001b[0m\u001b[0;34m\u001b[0m\u001b[0;34m\u001b[0m\u001b[0m\n\u001b[0m\u001b[1;32m    676\u001b[0m         \u001b[0;32melse\u001b[0m\u001b[0;34m:\u001b[0m\u001b[0;34m\u001b[0m\u001b[0;34m\u001b[0m\u001b[0m\n\u001b[1;32m    677\u001b[0m             \u001b[0my\u001b[0m \u001b[0;34m=\u001b[0m \u001b[0mself\u001b[0m\u001b[0;34m.\u001b[0m\u001b[0m_y\u001b[0m\u001b[0;34m\u001b[0m\u001b[0;34m\u001b[0m\u001b[0m\n",
            "\u001b[0;32m/usr/local/lib/python3.6/dist-packages/matplotlib/cbook/__init__.py\u001b[0m in \u001b[0;36m_to_unmasked_float_array\u001b[0;34m(x)\u001b[0m\n\u001b[1;32m   1315\u001b[0m         \u001b[0;32mreturn\u001b[0m \u001b[0mnp\u001b[0m\u001b[0;34m.\u001b[0m\u001b[0mma\u001b[0m\u001b[0;34m.\u001b[0m\u001b[0masarray\u001b[0m\u001b[0;34m(\u001b[0m\u001b[0mx\u001b[0m\u001b[0;34m,\u001b[0m \u001b[0mfloat\u001b[0m\u001b[0;34m)\u001b[0m\u001b[0;34m.\u001b[0m\u001b[0mfilled\u001b[0m\u001b[0;34m(\u001b[0m\u001b[0mnp\u001b[0m\u001b[0;34m.\u001b[0m\u001b[0mnan\u001b[0m\u001b[0;34m)\u001b[0m\u001b[0;34m\u001b[0m\u001b[0;34m\u001b[0m\u001b[0m\n\u001b[1;32m   1316\u001b[0m     \u001b[0;32melse\u001b[0m\u001b[0;34m:\u001b[0m\u001b[0;34m\u001b[0m\u001b[0;34m\u001b[0m\u001b[0m\n\u001b[0;32m-> 1317\u001b[0;31m         \u001b[0;32mreturn\u001b[0m \u001b[0mnp\u001b[0m\u001b[0;34m.\u001b[0m\u001b[0masarray\u001b[0m\u001b[0;34m(\u001b[0m\u001b[0mx\u001b[0m\u001b[0;34m,\u001b[0m \u001b[0mfloat\u001b[0m\u001b[0;34m)\u001b[0m\u001b[0;34m\u001b[0m\u001b[0;34m\u001b[0m\u001b[0m\n\u001b[0m\u001b[1;32m   1318\u001b[0m \u001b[0;34m\u001b[0m\u001b[0m\n\u001b[1;32m   1319\u001b[0m \u001b[0;34m\u001b[0m\u001b[0m\n",
            "\u001b[0;32m/usr/local/lib/python3.6/dist-packages/numpy/core/_asarray.py\u001b[0m in \u001b[0;36masarray\u001b[0;34m(a, dtype, order)\u001b[0m\n\u001b[1;32m     81\u001b[0m \u001b[0;34m\u001b[0m\u001b[0m\n\u001b[1;32m     82\u001b[0m     \"\"\"\n\u001b[0;32m---> 83\u001b[0;31m     \u001b[0;32mreturn\u001b[0m \u001b[0marray\u001b[0m\u001b[0;34m(\u001b[0m\u001b[0ma\u001b[0m\u001b[0;34m,\u001b[0m \u001b[0mdtype\u001b[0m\u001b[0;34m,\u001b[0m \u001b[0mcopy\u001b[0m\u001b[0;34m=\u001b[0m\u001b[0;32mFalse\u001b[0m\u001b[0;34m,\u001b[0m \u001b[0morder\u001b[0m\u001b[0;34m=\u001b[0m\u001b[0morder\u001b[0m\u001b[0;34m)\u001b[0m\u001b[0;34m\u001b[0m\u001b[0;34m\u001b[0m\u001b[0m\n\u001b[0m\u001b[1;32m     84\u001b[0m \u001b[0;34m\u001b[0m\u001b[0m\n\u001b[1;32m     85\u001b[0m \u001b[0;34m\u001b[0m\u001b[0m\n",
            "\u001b[0;31mValueError\u001b[0m: could not convert string to float: "
          ]
        },
        {
          "output_type": "display_data",
          "data": {
            "image/png": "[encoded data removed]",
            "text/plain": [
              "<Figure size 1440x1440 with 29 Axes>"
            ]
          },
          "metadata": {
            "tags": []
          }
        }
      ]
    },
    {
      "cell_type": "code",
      "metadata": {
        "colab": {
          "base_uri": "https://localhost:8080/",
          "height": 1000
        },
        "id": "4kXGmq_MkeXZ",
        "outputId": "bbe7eafb-0bca-4e77-be19-64a913eef582"
      },
      "source": [
        "f, axs = plt.subplots(5, 6,figsize=(20,20))\r\n",
        "for i,col in enumerate(UC5_df.columns[3:]):\r\n",
        "  plt.subplot(5, 6, i+1)\r\n",
        "  plt.title(col)\r\n",
        "  plt.plot(UC5_df.DATA, UC5_df[col])"
      ],
      "execution_count": 75,
      "outputs": [
        {
          "output_type": "error",
          "ename": "TypeError",
          "evalue": "ignored",
          "traceback": [
            "\u001b[0;31m---------------------------------------------------------------------------\u001b[0m",
            "\u001b[0;31mTypeError\u001b[0m                                 Traceback (most recent call last)",
            "\u001b[0;32m<ipython-input-75-dbc6cb67677b>\u001b[0m in \u001b[0;36m<module>\u001b[0;34m()\u001b[0m\n\u001b[1;32m      3\u001b[0m   \u001b[0mplt\u001b[0m\u001b[0;34m.\u001b[0m\u001b[0msubplot\u001b[0m\u001b[0;34m(\u001b[0m\u001b[0;36m5\u001b[0m\u001b[0;34m,\u001b[0m \u001b[0;36m6\u001b[0m\u001b[0;34m,\u001b[0m \u001b[0mi\u001b[0m\u001b[0;34m+\u001b[0m\u001b[0;36m1\u001b[0m\u001b[0;34m)\u001b[0m\u001b[0;34m\u001b[0m\u001b[0;34m\u001b[0m\u001b[0m\n\u001b[1;32m      4\u001b[0m   \u001b[0mplt\u001b[0m\u001b[0;34m.\u001b[0m\u001b[0mtitle\u001b[0m\u001b[0;34m(\u001b[0m\u001b[0mcol\u001b[0m\u001b[0;34m)\u001b[0m\u001b[0;34m\u001b[0m\u001b[0;34m\u001b[0m\u001b[0m\n\u001b[0;32m----> 5\u001b[0;31m   \u001b[0mplt\u001b[0m\u001b[0;34m.\u001b[0m\u001b[0mplot\u001b[0m\u001b[0;34m(\u001b[0m\u001b[0mUC5_df\u001b[0m\u001b[0;34m.\u001b[0m\u001b[0mDATA\u001b[0m\u001b[0;34m,\u001b[0m \u001b[0mUC5_df\u001b[0m\u001b[0;34m[\u001b[0m\u001b[0mcol\u001b[0m\u001b[0;34m]\u001b[0m\u001b[0;34m)\u001b[0m\u001b[0;34m\u001b[0m\u001b[0;34m\u001b[0m\u001b[0m\n\u001b[0m",
            "\u001b[0;32m/usr/local/lib/python3.6/dist-packages/matplotlib/pyplot.py\u001b[0m in \u001b[0;36mplot\u001b[0;34m(scalex, scaley, data, *args, **kwargs)\u001b[0m\n\u001b[1;32m   2761\u001b[0m     return gca().plot(\n\u001b[1;32m   2762\u001b[0m         *args, scalex=scalex, scaley=scaley, **({\"data\": data} if data\n\u001b[0;32m-> 2763\u001b[0;31m         is not None else {}), **kwargs)\n\u001b[0m\u001b[1;32m   2764\u001b[0m \u001b[0;34m\u001b[0m\u001b[0m\n\u001b[1;32m   2765\u001b[0m \u001b[0;34m\u001b[0m\u001b[0m\n",
            "\u001b[0;32m/usr/local/lib/python3.6/dist-packages/matplotlib/axes/_axes.py\u001b[0m in \u001b[0;36mplot\u001b[0;34m(self, scalex, scaley, data, *args, **kwargs)\u001b[0m\n\u001b[1;32m   1645\u001b[0m         \"\"\"\n\u001b[1;32m   1646\u001b[0m         \u001b[0mkwargs\u001b[0m \u001b[0;34m=\u001b[0m \u001b[0mcbook\u001b[0m\u001b[0;34m.\u001b[0m\u001b[0mnormalize_kwargs\u001b[0m\u001b[0;34m(\u001b[0m\u001b[0mkwargs\u001b[0m\u001b[0;34m,\u001b[0m \u001b[0mmlines\u001b[0m\u001b[0;34m.\u001b[0m\u001b[0mLine2D\u001b[0m\u001b[0;34m)\u001b[0m\u001b[0;34m\u001b[0m\u001b[0;34m\u001b[0m\u001b[0m\n\u001b[0;32m-> 1647\u001b[0;31m         \u001b[0mlines\u001b[0m \u001b[0;34m=\u001b[0m \u001b[0;34m[\u001b[0m\u001b[0;34m*\u001b[0m\u001b[0mself\u001b[0m\u001b[0;34m.\u001b[0m\u001b[0m_get_lines\u001b[0m\u001b[0;34m(\u001b[0m\u001b[0;34m*\u001b[0m\u001b[0margs\u001b[0m\u001b[0;34m,\u001b[0m \u001b[0mdata\u001b[0m\u001b[0;34m=\u001b[0m\u001b[0mdata\u001b[0m\u001b[0;34m,\u001b[0m \u001b[0;34m**\u001b[0m\u001b[0mkwargs\u001b[0m\u001b[0;34m)\u001b[0m\u001b[0;34m]\u001b[0m\u001b[0;34m\u001b[0m\u001b[0;34m\u001b[0m\u001b[0m\n\u001b[0m\u001b[1;32m   1648\u001b[0m         \u001b[0;32mfor\u001b[0m \u001b[0mline\u001b[0m \u001b[0;32min\u001b[0m \u001b[0mlines\u001b[0m\u001b[0;34m:\u001b[0m\u001b[0;34m\u001b[0m\u001b[0;34m\u001b[0m\u001b[0m\n\u001b[1;32m   1649\u001b[0m             \u001b[0mself\u001b[0m\u001b[0;34m.\u001b[0m\u001b[0madd_line\u001b[0m\u001b[0;34m(\u001b[0m\u001b[0mline\u001b[0m\u001b[0;34m)\u001b[0m\u001b[0;34m\u001b[0m\u001b[0;34m\u001b[0m\u001b[0m\n",
            "\u001b[0;32m/usr/local/lib/python3.6/dist-packages/matplotlib/axes/_base.py\u001b[0m in \u001b[0;36m__call__\u001b[0;34m(self, *args, **kwargs)\u001b[0m\n\u001b[1;32m    214\u001b[0m                 \u001b[0mthis\u001b[0m \u001b[0;34m+=\u001b[0m \u001b[0margs\u001b[0m\u001b[0;34m[\u001b[0m\u001b[0;36m0\u001b[0m\u001b[0;34m]\u001b[0m\u001b[0;34m,\u001b[0m\u001b[0;34m\u001b[0m\u001b[0;34m\u001b[0m\u001b[0m\n\u001b[1;32m    215\u001b[0m                 \u001b[0margs\u001b[0m \u001b[0;34m=\u001b[0m \u001b[0margs\u001b[0m\u001b[0;34m[\u001b[0m\u001b[0;36m1\u001b[0m\u001b[0;34m:\u001b[0m\u001b[0;34m]\u001b[0m\u001b[0;34m\u001b[0m\u001b[0;34m\u001b[0m\u001b[0m\n\u001b[0;32m--> 216\u001b[0;31m             \u001b[0;32myield\u001b[0m \u001b[0;32mfrom\u001b[0m \u001b[0mself\u001b[0m\u001b[0;34m.\u001b[0m\u001b[0m_plot_args\u001b[0m\u001b[0;34m(\u001b[0m\u001b[0mthis\u001b[0m\u001b[0;34m,\u001b[0m \u001b[0mkwargs\u001b[0m\u001b[0;34m)\u001b[0m\u001b[0;34m\u001b[0m\u001b[0;34m\u001b[0m\u001b[0m\n\u001b[0m\u001b[1;32m    217\u001b[0m \u001b[0;34m\u001b[0m\u001b[0m\n\u001b[1;32m    218\u001b[0m     \u001b[0;32mdef\u001b[0m \u001b[0mget_next_color\u001b[0m\u001b[0;34m(\u001b[0m\u001b[0mself\u001b[0m\u001b[0;34m)\u001b[0m\u001b[0;34m:\u001b[0m\u001b[0;34m\u001b[0m\u001b[0;34m\u001b[0m\u001b[0m\n",
            "\u001b[0;32m/usr/local/lib/python3.6/dist-packages/matplotlib/axes/_base.py\u001b[0m in \u001b[0;36m_plot_args\u001b[0;34m(self, tup, kwargs)\u001b[0m\n\u001b[1;32m    337\u001b[0m             \u001b[0mself\u001b[0m\u001b[0;34m.\u001b[0m\u001b[0maxes\u001b[0m\u001b[0;34m.\u001b[0m\u001b[0mxaxis\u001b[0m\u001b[0;34m.\u001b[0m\u001b[0mupdate_units\u001b[0m\u001b[0;34m(\u001b[0m\u001b[0mx\u001b[0m\u001b[0;34m)\u001b[0m\u001b[0;34m\u001b[0m\u001b[0;34m\u001b[0m\u001b[0m\n\u001b[1;32m    338\u001b[0m         \u001b[0;32mif\u001b[0m \u001b[0mself\u001b[0m\u001b[0;34m.\u001b[0m\u001b[0maxes\u001b[0m\u001b[0;34m.\u001b[0m\u001b[0myaxis\u001b[0m \u001b[0;32mis\u001b[0m \u001b[0;32mnot\u001b[0m \u001b[0;32mNone\u001b[0m\u001b[0;34m:\u001b[0m\u001b[0;34m\u001b[0m\u001b[0;34m\u001b[0m\u001b[0m\n\u001b[0;32m--> 339\u001b[0;31m             \u001b[0mself\u001b[0m\u001b[0;34m.\u001b[0m\u001b[0maxes\u001b[0m\u001b[0;34m.\u001b[0m\u001b[0myaxis\u001b[0m\u001b[0;34m.\u001b[0m\u001b[0mupdate_units\u001b[0m\u001b[0;34m(\u001b[0m\u001b[0my\u001b[0m\u001b[0;34m)\u001b[0m\u001b[0;34m\u001b[0m\u001b[0;34m\u001b[0m\u001b[0m\n\u001b[0m\u001b[1;32m    340\u001b[0m \u001b[0;34m\u001b[0m\u001b[0m\n\u001b[1;32m    341\u001b[0m         \u001b[0;32mif\u001b[0m \u001b[0mx\u001b[0m\u001b[0;34m.\u001b[0m\u001b[0mshape\u001b[0m\u001b[0;34m[\u001b[0m\u001b[0;36m0\u001b[0m\u001b[0;34m]\u001b[0m \u001b[0;34m!=\u001b[0m \u001b[0my\u001b[0m\u001b[0;34m.\u001b[0m\u001b[0mshape\u001b[0m\u001b[0;34m[\u001b[0m\u001b[0;36m0\u001b[0m\u001b[0;34m]\u001b[0m\u001b[0;34m:\u001b[0m\u001b[0;34m\u001b[0m\u001b[0;34m\u001b[0m\u001b[0m\n",
            "\u001b[0;32m/usr/local/lib/python3.6/dist-packages/matplotlib/axis.py\u001b[0m in \u001b[0;36mupdate_units\u001b[0;34m(self, data)\u001b[0m\n\u001b[1;32m   1514\u001b[0m         \u001b[0mneednew\u001b[0m \u001b[0;34m=\u001b[0m \u001b[0mself\u001b[0m\u001b[0;34m.\u001b[0m\u001b[0mconverter\u001b[0m \u001b[0;34m!=\u001b[0m \u001b[0mconverter\u001b[0m\u001b[0;34m\u001b[0m\u001b[0;34m\u001b[0m\u001b[0m\n\u001b[1;32m   1515\u001b[0m         \u001b[0mself\u001b[0m\u001b[0;34m.\u001b[0m\u001b[0mconverter\u001b[0m \u001b[0;34m=\u001b[0m \u001b[0mconverter\u001b[0m\u001b[0;34m\u001b[0m\u001b[0;34m\u001b[0m\u001b[0m\n\u001b[0;32m-> 1516\u001b[0;31m         \u001b[0mdefault\u001b[0m \u001b[0;34m=\u001b[0m \u001b[0mself\u001b[0m\u001b[0;34m.\u001b[0m\u001b[0mconverter\u001b[0m\u001b[0;34m.\u001b[0m\u001b[0mdefault_units\u001b[0m\u001b[0;34m(\u001b[0m\u001b[0mdata\u001b[0m\u001b[0;34m,\u001b[0m \u001b[0mself\u001b[0m\u001b[0;34m)\u001b[0m\u001b[0;34m\u001b[0m\u001b[0;34m\u001b[0m\u001b[0m\n\u001b[0m\u001b[1;32m   1517\u001b[0m         \u001b[0;32mif\u001b[0m \u001b[0mdefault\u001b[0m \u001b[0;32mis\u001b[0m \u001b[0;32mnot\u001b[0m \u001b[0;32mNone\u001b[0m \u001b[0;32mand\u001b[0m \u001b[0mself\u001b[0m\u001b[0;34m.\u001b[0m\u001b[0munits\u001b[0m \u001b[0;32mis\u001b[0m \u001b[0;32mNone\u001b[0m\u001b[0;34m:\u001b[0m\u001b[0;34m\u001b[0m\u001b[0;34m\u001b[0m\u001b[0m\n\u001b[1;32m   1518\u001b[0m             \u001b[0mself\u001b[0m\u001b[0;34m.\u001b[0m\u001b[0mset_units\u001b[0m\u001b[0;34m(\u001b[0m\u001b[0mdefault\u001b[0m\u001b[0;34m)\u001b[0m\u001b[0;34m\u001b[0m\u001b[0;34m\u001b[0m\u001b[0m\n",
            "\u001b[0;32m/usr/local/lib/python3.6/dist-packages/matplotlib/category.py\u001b[0m in \u001b[0;36mdefault_units\u001b[0;34m(data, axis)\u001b[0m\n\u001b[1;32m    105\u001b[0m         \u001b[0;31m# the conversion call stack is default_units -> axis_info -> convert\u001b[0m\u001b[0;34m\u001b[0m\u001b[0;34m\u001b[0m\u001b[0;34m\u001b[0m\u001b[0m\n\u001b[1;32m    106\u001b[0m         \u001b[0;32mif\u001b[0m \u001b[0maxis\u001b[0m\u001b[0;34m.\u001b[0m\u001b[0munits\u001b[0m \u001b[0;32mis\u001b[0m \u001b[0;32mNone\u001b[0m\u001b[0;34m:\u001b[0m\u001b[0;34m\u001b[0m\u001b[0;34m\u001b[0m\u001b[0m\n\u001b[0;32m--> 107\u001b[0;31m             \u001b[0maxis\u001b[0m\u001b[0;34m.\u001b[0m\u001b[0mset_units\u001b[0m\u001b[0;34m(\u001b[0m\u001b[0mUnitData\u001b[0m\u001b[0;34m(\u001b[0m\u001b[0mdata\u001b[0m\u001b[0;34m)\u001b[0m\u001b[0;34m)\u001b[0m\u001b[0;34m\u001b[0m\u001b[0;34m\u001b[0m\u001b[0m\n\u001b[0m\u001b[1;32m    108\u001b[0m         \u001b[0;32melse\u001b[0m\u001b[0;34m:\u001b[0m\u001b[0;34m\u001b[0m\u001b[0;34m\u001b[0m\u001b[0m\n\u001b[1;32m    109\u001b[0m             \u001b[0maxis\u001b[0m\u001b[0;34m.\u001b[0m\u001b[0munits\u001b[0m\u001b[0;34m.\u001b[0m\u001b[0mupdate\u001b[0m\u001b[0;34m(\u001b[0m\u001b[0mdata\u001b[0m\u001b[0;34m)\u001b[0m\u001b[0;34m\u001b[0m\u001b[0;34m\u001b[0m\u001b[0m\n",
            "\u001b[0;32m/usr/local/lib/python3.6/dist-packages/matplotlib/category.py\u001b[0m in \u001b[0;36m__init__\u001b[0;34m(self, data)\u001b[0m\n\u001b[1;32m    173\u001b[0m         \u001b[0mself\u001b[0m\u001b[0;34m.\u001b[0m\u001b[0m_counter\u001b[0m \u001b[0;34m=\u001b[0m \u001b[0mitertools\u001b[0m\u001b[0;34m.\u001b[0m\u001b[0mcount\u001b[0m\u001b[0;34m(\u001b[0m\u001b[0;34m)\u001b[0m\u001b[0;34m\u001b[0m\u001b[0;34m\u001b[0m\u001b[0m\n\u001b[1;32m    174\u001b[0m         \u001b[0;32mif\u001b[0m \u001b[0mdata\u001b[0m \u001b[0;32mis\u001b[0m \u001b[0;32mnot\u001b[0m \u001b[0;32mNone\u001b[0m\u001b[0;34m:\u001b[0m\u001b[0;34m\u001b[0m\u001b[0;34m\u001b[0m\u001b[0m\n\u001b[0;32m--> 175\u001b[0;31m             \u001b[0mself\u001b[0m\u001b[0;34m.\u001b[0m\u001b[0mupdate\u001b[0m\u001b[0;34m(\u001b[0m\u001b[0mdata\u001b[0m\u001b[0;34m)\u001b[0m\u001b[0;34m\u001b[0m\u001b[0;34m\u001b[0m\u001b[0m\n\u001b[0m\u001b[1;32m    176\u001b[0m \u001b[0;34m\u001b[0m\u001b[0m\n\u001b[1;32m    177\u001b[0m     \u001b[0;34m@\u001b[0m\u001b[0mstaticmethod\u001b[0m\u001b[0;34m\u001b[0m\u001b[0;34m\u001b[0m\u001b[0m\n",
            "\u001b[0;32m/usr/local/lib/python3.6/dist-packages/matplotlib/category.py\u001b[0m in \u001b[0;36mupdate\u001b[0;34m(self, data)\u001b[0m\n\u001b[1;32m    210\u001b[0m         \u001b[0;32mfor\u001b[0m \u001b[0mval\u001b[0m \u001b[0;32min\u001b[0m \u001b[0mOrderedDict\u001b[0m\u001b[0;34m.\u001b[0m\u001b[0mfromkeys\u001b[0m\u001b[0;34m(\u001b[0m\u001b[0mdata\u001b[0m\u001b[0;34m)\u001b[0m\u001b[0;34m:\u001b[0m\u001b[0;34m\u001b[0m\u001b[0;34m\u001b[0m\u001b[0m\n\u001b[1;32m    211\u001b[0m             \u001b[0;31m# OrderedDict just iterates over unique values in data.\u001b[0m\u001b[0;34m\u001b[0m\u001b[0;34m\u001b[0m\u001b[0;34m\u001b[0m\u001b[0m\n\u001b[0;32m--> 212\u001b[0;31m             \u001b[0mcbook\u001b[0m\u001b[0;34m.\u001b[0m\u001b[0m_check_isinstance\u001b[0m\u001b[0;34m(\u001b[0m\u001b[0;34m(\u001b[0m\u001b[0mstr\u001b[0m\u001b[0;34m,\u001b[0m \u001b[0mbytes\u001b[0m\u001b[0;34m)\u001b[0m\u001b[0;34m,\u001b[0m \u001b[0mvalue\u001b[0m\u001b[0;34m=\u001b[0m\u001b[0mval\u001b[0m\u001b[0;34m)\u001b[0m\u001b[0;34m\u001b[0m\u001b[0;34m\u001b[0m\u001b[0m\n\u001b[0m\u001b[1;32m    213\u001b[0m             \u001b[0;32mif\u001b[0m \u001b[0mconvertible\u001b[0m\u001b[0;34m:\u001b[0m\u001b[0;34m\u001b[0m\u001b[0;34m\u001b[0m\u001b[0m\n\u001b[1;32m    214\u001b[0m                 \u001b[0;31m# this will only be called so long as convertible is True.\u001b[0m\u001b[0;34m\u001b[0m\u001b[0;34m\u001b[0m\u001b[0;34m\u001b[0m\u001b[0m\n",
            "\u001b[0;32m/usr/local/lib/python3.6/dist-packages/matplotlib/cbook/__init__.py\u001b[0m in \u001b[0;36m_check_isinstance\u001b[0;34m(_types, **kwargs)\u001b[0m\n\u001b[1;32m   2126\u001b[0m                     \u001b[0;34m\", \"\u001b[0m\u001b[0;34m.\u001b[0m\u001b[0mjoin\u001b[0m\u001b[0;34m(\u001b[0m\u001b[0mnames\u001b[0m\u001b[0;34m[\u001b[0m\u001b[0;34m:\u001b[0m\u001b[0;34m-\u001b[0m\u001b[0;36m1\u001b[0m\u001b[0;34m]\u001b[0m\u001b[0;34m)\u001b[0m \u001b[0;34m+\u001b[0m \u001b[0;34m\" or \"\u001b[0m \u001b[0;34m+\u001b[0m \u001b[0mnames\u001b[0m\u001b[0;34m[\u001b[0m\u001b[0;34m-\u001b[0m\u001b[0;36m1\u001b[0m\u001b[0;34m]\u001b[0m\u001b[0;34m\u001b[0m\u001b[0;34m\u001b[0m\u001b[0m\n\u001b[1;32m   2127\u001b[0m                     \u001b[0;32mif\u001b[0m \u001b[0mlen\u001b[0m\u001b[0;34m(\u001b[0m\u001b[0mnames\u001b[0m\u001b[0;34m)\u001b[0m \u001b[0;34m>\u001b[0m \u001b[0;36m1\u001b[0m \u001b[0;32melse\u001b[0m \u001b[0mnames\u001b[0m\u001b[0;34m[\u001b[0m\u001b[0;36m0\u001b[0m\u001b[0;34m]\u001b[0m\u001b[0;34m,\u001b[0m\u001b[0;34m\u001b[0m\u001b[0;34m\u001b[0m\u001b[0m\n\u001b[0;32m-> 2128\u001b[0;31m                     type_name(type(v))))\n\u001b[0m\u001b[1;32m   2129\u001b[0m \u001b[0;34m\u001b[0m\u001b[0m\n\u001b[1;32m   2130\u001b[0m \u001b[0;34m\u001b[0m\u001b[0m\n",
            "\u001b[0;31mTypeError\u001b[0m: 'value' must be an instance of str or bytes, not a int"
          ]
        },
        {
          "output_type": "display_data",
          "data": {
            "image/png": "[encoded data removed]",
            "text/plain": [
              "<Figure size 1440x1440 with 30 Axes>"
            ]
          },
          "metadata": {
            "tags": []
          }
        }
      ]
    },
    {
      "cell_type": "code",
      "metadata": {
        "id": "GLdLEq3AkehD"
      },
      "source": [
        "f, axs = plt.subplots(5, 6,figsize=(20,20))\r\n",
        "for i,col in enumerate(UC6_df.columns[3:]):\r\n",
        "  plt.subplot(5, 6, i+1)\r\n",
        "  plt.title(col)\r\n",
        "  plt.plot(UC6_df.DATA, UC6_df[col])"
      ],
      "execution_count": null,
      "outputs": []
    },
    {
      "cell_type": "code",
      "metadata": {
        "id": "CCLhFX_uXmeV"
      },
      "source": [
        "msno.bar(UC1_df, color=\"RoyalBlue\")"
      ],
      "execution_count": null,
      "outputs": []
    },
    {
      "cell_type": "code",
      "metadata": {
        "id": "dLlZK-SCn8a6"
      },
      "source": [
        "msno.bar(UC2_df, color=\"RoyalBlue\")"
      ],
      "execution_count": null,
      "outputs": []
    },
    {
      "cell_type": "code",
      "metadata": {
        "id": "tZhgVPFln8lU"
      },
      "source": [
        "msno.bar(UC3_df, color=\"RoyalBlue\")"
      ],
      "execution_count": null,
      "outputs": []
    },
    {
      "cell_type": "code",
      "metadata": {
        "id": "Ke63S5A4n8u7"
      },
      "source": [
        "msno.bar(UC4_df, color=\"RoyalBlue\")"
      ],
      "execution_count": null,
      "outputs": []
    },
    {
      "cell_type": "code",
      "metadata": {
        "id": "EBi_BTLRn84M"
      },
      "source": [
        "msno.bar(UC5_df, color=\"RoyalBlue\")"
      ],
      "execution_count": null,
      "outputs": []
    },
    {
      "cell_type": "code",
      "metadata": {
        "id": "5rAokLZDn9BN"
      },
      "source": [
        "msno.bar(UC6_df, color=\"RoyalBlue\")"
      ],
      "execution_count": null,
      "outputs": []
    },
    {
      "cell_type": "code",
      "metadata": {
        "id": "MhHdEtmhYFa0"
      },
      "source": [
        "msno.matrix(UC1_df, color = (0.25,0.4,0.8))"
      ],
      "execution_count": null,
      "outputs": []
    },
    {
      "cell_type": "code",
      "metadata": {
        "id": "6t-oiTzLoitu"
      },
      "source": [
        "msno.matrix(UC2_df, color = (0.25,0.4,0.8))"
      ],
      "execution_count": null,
      "outputs": []
    },
    {
      "cell_type": "code",
      "metadata": {
        "id": "L6mNOw19oi2q"
      },
      "source": [
        "msno.matrix(UC3_df, color = (0.25,0.4,0.8))"
      ],
      "execution_count": null,
      "outputs": []
    },
    {
      "cell_type": "code",
      "metadata": {
        "id": "gbaKfzd6oi-5"
      },
      "source": [
        "msno.matrix(UC4_df, color = (0.25,0.4,0.8))"
      ],
      "execution_count": null,
      "outputs": []
    },
    {
      "cell_type": "code",
      "metadata": {
        "id": "2xR5RqgmojG_"
      },
      "source": [
        "msno.matrix(UC5_df, color = (0.25,0.4,0.8))"
      ],
      "execution_count": null,
      "outputs": []
    },
    {
      "cell_type": "code",
      "metadata": {
        "id": "sR7_aNWpojPf"
      },
      "source": [
        "msno.matrix(UC6_df, color = (0.25,0.4,0.8))"
      ],
      "execution_count": null,
      "outputs": []
    },
    {
      "cell_type": "markdown",
      "metadata": {
        "id": "4FJ0Wr92sz_a"
      },
      "source": [
        "FEITO ATE AQUI, VERIFICAR ERROS DEPOIS"
      ]
    },
    {
      "cell_type": "code",
      "metadata": {
        "colab": {
          "base_uri": "https://localhost:8080/",
          "height": 354
        },
        "id": "aBlbonHDYMCu",
        "outputId": "19a966a0-6e3b-406d-c68f-79dff3b0a3db"
      },
      "source": [
        "fig, ax = plt.subplots(figsize=(15, 5))\r\n",
        "_ = plt.plot(UC1_df.DATA, UC1_df.REAT_KVAR_FPONTA, marker='o', color=\"b\")\r\n",
        "_ = plt.xlabel(\"Tempo\")\r\n",
        "_ = plt.ylabel(\"KVAR\")\r\n",
        "_ = plt.legend(['Dados Originais'])\r\n",
        "_ = plt.title(\"Potência Reativa Fora de Ponta\")\r\n",
        "plt.show()\r\n"
      ],
      "execution_count": 79,
      "outputs": [
        {
          "output_type": "display_data",
          "data": {
            "image/png": "[encoded data removed]",
            "text/plain": [
              "<Figure size 1080x360 with 1 Axes>"
            ]
          },
          "metadata": {
            "tags": []
          }
        }
      ]
    },
    {
      "cell_type": "markdown",
      "metadata": {
        "id": "5qYdtfYjYbcA"
      },
      "source": [
        "## Imputações\r\n",
        "https://en.wikipedia.org/wiki/Imputation_(statistics)#:~:text=In%20statistics%2C%20imputation%20is%20the,missing%20data%20with%20substituted%20values.&text=Because%20missing%20data%20can%20create,cases%20that%20have%20missing%20values."
      ]
    },
    {
      "cell_type": "markdown",
      "metadata": {
        "id": "YIJBi3vGYtR1"
      },
      "source": [
        "### Fordward Fill Imputation ou PAD"
      ]
    },
    {
      "cell_type": "code",
      "metadata": {
        "id": "OyHsTX0MYVpk"
      },
      "source": [
        "UC1_ffill = UC1_df.fillna(method='ffill')"
      ],
      "execution_count": null,
      "outputs": []
    },
    {
      "cell_type": "code",
      "metadata": {
        "id": "5bHKH-yNY1Q_"
      },
      "source": [
        "sns.set()\r\n",
        "fig, ax = plt.subplots(figsize=(15, 5))\r\n",
        "_ = plt.plot(UC1_ffill.DATA, UC1_ffill.REAT_KVAR_FPONTA, marker='o', color=\"r\")\r\n",
        "_ = plt.plot(UC1_df.DATA, UC1_df.REAT_KVAR_FPONTA, marker='o', color=\"b\")\r\n",
        "_ = plt.xlabel(\"Tempo\")\r\n",
        "_ = plt.ylabel(\"KVAR\")\r\n",
        "_ = plt.legend(['Imputações utilizando o método FFILL', 'Dados Originais'])\r\n",
        "_ = plt.title(\"Potência Reativa Fora de Ponta\")\r\n",
        "plt.show()"
      ],
      "execution_count": null,
      "outputs": []
    },
    {
      "cell_type": "markdown",
      "metadata": {
        "id": "ceBrYg07ZD5_"
      },
      "source": [
        "### Backwardfill Imputation "
      ]
    },
    {
      "cell_type": "code",
      "metadata": {
        "id": "wkhFzwFyY1nx"
      },
      "source": [
        "UC1_bfill = UC1_df.fillna(method='bfill')"
      ],
      "execution_count": null,
      "outputs": []
    },
    {
      "cell_type": "code",
      "metadata": {
        "id": "ylEIJxftZHOs"
      },
      "source": [
        "sns.set()\r\n",
        "fig, ax = plt.subplots(figsize=(15, 5))\r\n",
        "_ = plt.plot(UC1_bfill.DATA, UC1_bfill.REAT_KVAR_FPONTA, marker='o', color=\"r\")\r\n",
        "_ = plt.plot(UC1_df.DATA, UC1_df.REAT_KVAR_FPONTA, marker='o', color=\"b\")\r\n",
        "_ = plt.xlabel(\"Tempo\")\r\n",
        "_ = plt.ylabel(\"KVAR\")\r\n",
        "_ = plt.legend(['Imputações utilizando o método FFILL', 'Dados Originais'])\r\n",
        "_ = plt.title(\"Potência Reativa Fora de Ponta\")\r\n",
        "plt.show()"
      ],
      "execution_count": null,
      "outputs": []
    },
    {
      "cell_type": "markdown",
      "metadata": {
        "id": "hIVpgpkrZOm2"
      },
      "source": [
        "### Imputção utilizando uma constante"
      ]
    },
    {
      "cell_type": "code",
      "metadata": {
        "id": "Mwc_0p28ZI50"
      },
      "source": [
        "sns.set()\r\n",
        "# Plot histograma \r\n",
        "_ = plt.hist(UC1_df.REAT_KVAR_FPONTA, bins=list(range(200,800,50)), range=[200, 800])\r\n",
        "_ = plt.xticks(list(range(200,800,50)))\r\n",
        "_ = plt.xlabel('KVAR')\r\n",
        "_ = plt.title(\"Histograma da potência Reativa Fora de Ponta no range de 200 até 800\")\r\n",
        "# Show histogram\r\n",
        "plt.show()"
      ],
      "execution_count": null,
      "outputs": []
    },
    {
      "cell_type": "code",
      "metadata": {
        "id": "UotVDz8CZSQE"
      },
      "source": [
        "from sklearn.impute import SimpleImputer\r\n",
        "UC1_constant = UC1_df.copy(deep= True)\r\n",
        "imputer = SimpleImputer(strategy='constant', fill_value = 225)\r\n",
        "imputer = imputer.fit(UC1_constant[[\"REAT_KVAR_FPONTA\"]])\r\n",
        "UC1_constant['REAT_KVAR_FPONTA'] = imputer.transform(UC1_constant[['REAT_KVAR_FPONTA']]).ravel()\r\n",
        "sns.set()\r\n",
        "fig, ax = plt.subplots(figsize=(15, 5))\r\n",
        "_ = plt.plot(UC1_constant.DATA, UC1_constant.REAT_KVAR_FPONTA, marker='o', color=\"r\")\r\n",
        "_ = plt.plot(UC1_df.DATA, UC1_df.REAT_KVAR_FPONTA, marker='o', color=\"b\")\r\n",
        "_ = plt.xlabel(\"Tempo\")\r\n",
        "_ = plt.ylabel(\"KVAR\")\r\n",
        "_ = plt.legend(['Imputações utilizando uma constante', 'Dados Originais'])\r\n",
        "_ = plt.title(\"Potência Reativa Fora de Ponta\")\r\n",
        "plt.show()"
      ],
      "execution_count": null,
      "outputs": []
    },
    {
      "cell_type": "markdown",
      "metadata": {
        "id": "nu9DOzqAZe8G"
      },
      "source": [
        "### Imputação utilizando a Média"
      ]
    },
    {
      "cell_type": "code",
      "metadata": {
        "id": "qZiR4ePdZZ6t"
      },
      "source": [
        "UC1_mean = UC1_df.copy(deep= True)\r\n",
        "imputer = SimpleImputer(strategy='mean')\r\n",
        "imputer = imputer.fit(UC1_mean[[\"REAT_KVAR_FPONTA\"]])\r\n",
        "UC1_mean['REAT_KVAR_FPONTA'] = imputer.transform(UC1_mean[['REAT_KVAR_FPONTA']]).ravel()"
      ],
      "execution_count": null,
      "outputs": []
    },
    {
      "cell_type": "code",
      "metadata": {
        "id": "HElphhxeZibu"
      },
      "source": [
        "sns.set()\r\n",
        "fig, ax = plt.subplots(figsize=(15, 5))\r\n",
        "_ = plt.plot(UC1_mean.DATA, UC1_mean.REAT_KVAR_FPONTA, marker='o', color=\"r\")\r\n",
        "_ = plt.plot(UC1_df.DATA, UC1_df.REAT_KVAR_FPONTA, marker='o', color=\"b\")\r\n",
        "_ = plt.xlabel(\"Tempo\")\r\n",
        "_ = plt.ylabel(\"KVAR\")\r\n",
        "_ = plt.legend(['Imputações utilizando a média', 'Dados Originais'])\r\n",
        "_ = plt.title(\"Potência Reativa Fora de Ponta\")\r\n",
        "plt.show()"
      ],
      "execution_count": null,
      "outputs": []
    },
    {
      "cell_type": "markdown",
      "metadata": {
        "id": "Smo3YZ4BZwYP"
      },
      "source": [
        "### Imputação utilizando Mediana"
      ]
    },
    {
      "cell_type": "code",
      "metadata": {
        "id": "XXeDDXjtZjtT"
      },
      "source": [
        "UC1_median = UC1_df.copy(deep= True)\r\n",
        "imputer = SimpleImputer(strategy='median')\r\n",
        "imputer = imputer.fit(UC1_median[[\"REAT_KVAR_FPONTA\"]])\r\n",
        "UC1_median['REAT_KVAR_FPONTA'] = imputer.transform(UC1_median[['REAT_KVAR_FPONTA']]).ravel()\r\n",
        "sns.set()\r\n",
        "fig, ax = plt.subplots(figsize=(15, 5))\r\n",
        "_ = plt.plot(UC1_median.DATA, UC1_median.REAT_KVAR_FPONTA, marker='o', color=\"r\")\r\n",
        "_ = plt.plot(UC1_df.DATA, UC1_df.REAT_KVAR_FPONTA, marker='o', color=\"b\")\r\n",
        "_ = plt.xlabel(\"Tempo\")\r\n",
        "_ = plt.ylabel(\"KVAR\")\r\n",
        "_ = plt.legend(['Imputações utilizando a mediana', 'Dados Originais'])\r\n",
        "_ = plt.title(\"Potência Reativa Fora de Ponta\")\r\n",
        "plt.show()"
      ],
      "execution_count": null,
      "outputs": []
    },
    {
      "cell_type": "markdown",
      "metadata": {
        "id": "NGzPBNVOZ2Ov"
      },
      "source": [
        "### Imputação utilizando a Moda"
      ]
    },
    {
      "cell_type": "code",
      "metadata": {
        "id": "wVtzFVByZzEs"
      },
      "source": [
        "UC1_mode = UC1_df.copy(deep= True)\r\n",
        "imputer = SimpleImputer(strategy='most_frequent')\r\n",
        "imputer = imputer.fit(UC1_mode[[\"REAT_KVAR_FPONTA\"]])\r\n",
        "UC1_mode['REAT_KVAR_FPONTA'] = imputer.transform(UC1_mode[['REAT_KVAR_FPONTA']]).ravel()\r\n",
        "sns.set()\r\n",
        "fig, ax = plt.subplots(figsize=(15, 5))\r\n",
        "_ = plt.plot(UC1_mode.DATA, UC1_mode.REAT_KVAR_FPONTA, marker='o', color=\"r\")\r\n",
        "_ = plt.plot(UC1_df.DATA, UC1_df.REAT_KVAR_FPONTA, marker='o', color=\"b\")\r\n",
        "_ = plt.xlabel(\"Tempo\")\r\n",
        "_ = plt.ylabel(\"KVAR\")\r\n",
        "_ = plt.legend(['Imputações utilizando a moda', 'Dados Originais'])\r\n",
        "_ = plt.title(\"Potência Reativa Fora de Ponta\")\r\n",
        "plt.show()"
      ],
      "execution_count": null,
      "outputs": []
    },
    {
      "cell_type": "markdown",
      "metadata": {
        "id": "NPjst8NTaEj4"
      },
      "source": [
        "### Imputação por interpolação Linear"
      ]
    },
    {
      "cell_type": "code",
      "metadata": {
        "id": "U42zYBnhZ4nk"
      },
      "source": [
        "UC1_linear = UC1_df.copy(deep= True)\r\n",
        "UC1_linear['REAT_KVAR_FPONTA'].interpolate(mehod = 'linear', inplace = True)\r\n",
        "sns.set()\r\n",
        "fig, ax = plt.subplots(figsize=(15, 5))\r\n",
        "_ = plt.plot(UC1_linear.DATA, UC1_linear.REAT_KVAR_FPONTA, marker='o', color=\"r\")\r\n",
        "_ = plt.plot(UC1_df.DATA, UC1_df.REAT_KVAR_FPONTA, marker='o', color=\"b\")\r\n",
        "_ = plt.xlabel(\"Tempo\")\r\n",
        "_ = plt.ylabel(\"KVAR\")\r\n",
        "_ = plt.legend(['Imputações utilizando a interpolação linear', 'Dados Originais'])\r\n",
        "_ = plt.title(\"Potência Reativa Fora de Ponta\")\r\n",
        "plt.show()"
      ],
      "execution_count": null,
      "outputs": []
    },
    {
      "cell_type": "markdown",
      "metadata": {
        "id": "thxoXIsaaa0I"
      },
      "source": [
        "### Imputção por interpolação quadrática"
      ]
    },
    {
      "cell_type": "code",
      "metadata": {
        "id": "2nbg1UFQaGSM"
      },
      "source": [
        "UC1_quadratica = UC1_df.copy(deep= True)\r\n",
        "UC1_quadratica['REAT_KVAR_FPONTA'].interpolate(method = 'quadratic', inplace = True)\r\n",
        "sns.set()\r\n",
        "fig, ax = plt.subplots(figsize=(15, 5))\r\n",
        "_ = plt.plot(UC1_quadratica.DATA, UC1_quadratica.REAT_KVAR_FPONTA, marker='o', color=\"r\")\r\n",
        "_ = plt.plot(UC1_df.DATA, UC1_df.REAT_KVAR_FPONTA, marker='o', color=\"b\")\r\n",
        "_ = plt.xlabel(\"Tempo\")\r\n",
        "_ = plt.ylabel(\"KVAR\")\r\n",
        "_ = plt.legend(['Imputações utilizando a interpolação Quadrática', 'Dados Originais'])\r\n",
        "_ = plt.title(\"Potência Reativa Fora de Ponta\")\r\n",
        "plt.show()"
      ],
      "execution_count": null,
      "outputs": []
    },
    {
      "cell_type": "markdown",
      "metadata": {
        "id": "yiDjyhonakbO"
      },
      "source": [
        "### Imputação mediante utilizando o método do vizinho mais perto"
      ]
    },
    {
      "cell_type": "code",
      "metadata": {
        "id": "Wj2ayTTCaeCk"
      },
      "source": [
        "UC1_nearest = UC1_df.copy(deep= True)\r\n",
        "UC1_nearest['REAT_KVAR_FPONTA'].interpolate(method = 'nearest', inplace = True)\r\n",
        "sns.set()\r\n",
        "fig, ax = plt.subplots(figsize=(15, 5))\r\n",
        "_ = plt.plot(UC1_nearest.DATA, UC1_nearest.REAT_KVAR_FPONTA, marker='o', color=\"r\")\r\n",
        "_ = plt.plot(UC1_df.DATA, UC1_df.REAT_KVAR_FPONTA, marker='o', color=\"b\")\r\n",
        "_ = plt.xlabel(\"Tempo\")\r\n",
        "_ = plt.ylabel(\"KVAR\")\r\n",
        "_ = plt.legend(['Imputações utilizando a nearest neighbor', 'Dados Originais'])\r\n",
        "_ = plt.title(\"Potência Reativa Fora de Ponta\")\r\n",
        "plt.show()"
      ],
      "execution_count": null,
      "outputs": []
    },
    {
      "cell_type": "markdown",
      "metadata": {
        "id": "MfZcYSQ-au3A"
      },
      "source": [
        "### Imputações utilizando KNN"
      ]
    },
    {
      "cell_type": "code",
      "metadata": {
        "id": "GPhf8-hlamPE"
      },
      "source": [
        "from fancyimpute import KNN"
      ],
      "execution_count": null,
      "outputs": []
    },
    {
      "cell_type": "code",
      "metadata": {
        "id": "yXFppdEhazqC"
      },
      "source": [
        "UC1_KNN = UC1_df.copy(deep= True)\r\n",
        "knn_imputer = KNN()\r\n",
        "UC1_KNN['REAT_KVAR_FPONTA'] = knn_imputer.fit_transform(UC1_KNN[['REAT_KVAR_FPONTA']]).ravel()\r\n",
        "sns.set()\r\n",
        "fig, ax = plt.subplots(figsize=(15, 5))\r\n",
        "_ = plt.plot(UC1_KNN.DATA, UC1_KNN.REAT_KVAR_FPONTA, marker='o', color=\"r\")\r\n",
        "_ = plt.plot(UC1_df.DATA, UC1_df.REAT_KVAR_FPONTA, marker='o', color=\"b\")\r\n",
        "_ = plt.xlabel(\"Tempo\")\r\n",
        "_ = plt.ylabel(\"KVAR\")\r\n",
        "_ = plt.legend(['Imputações utilizando a k nearest neighbor', 'Dados Originais'])\r\n",
        "_ = plt.title(\"Potência Reativa Fora de Ponta\")\r\n",
        "plt.show()"
      ],
      "execution_count": null,
      "outputs": []
    },
    {
      "cell_type": "code",
      "metadata": {
        "id": "AQ3yTcwqa1jT"
      },
      "source": [
        "msno.matrix(UC1_KNN, color = (0.25,0.4,0.8))"
      ],
      "execution_count": null,
      "outputs": []
    },
    {
      "cell_type": "code",
      "metadata": {
        "id": "_P25YD48a4p1"
      },
      "source": [
        "from sklearn.impute import SimpleImputer\r\n",
        "imputer = SimpleImputer(strategy='most_frequent')\r\n",
        "imputer = imputer.fit(UC1_KNN[[\"TAR_REAT_FPONTA\"]])\r\n",
        "UC1_KNN['TAR_REAT_FPONTA'] = imputer.transform(UC1_KNN[['TAR_REAT_FPONTA']]).ravel()\r\n",
        "sns.set()\r\n",
        "fig, ax = plt.subplots(figsize=(15, 5))\r\n",
        "_ = plt.plot(UC1_KNN.DATA, UC1_KNN.TAR_REAT_FPONTA, marker='o', color=\"r\")\r\n",
        "_ = plt.plot(UC1_df.DATA, UC1_df.TAR_REAT_FPONTA, marker='o', color=\"b\")\r\n",
        "_ = plt.xlabel(\"Tempo\")\r\n",
        "_ = plt.ylabel(\"Reais\")\r\n",
        "_ = plt.legend(['Imputações utilizando a moda', 'Dados Originais'])\r\n",
        "_ = plt.title(\"Tarifa de Potência Reativa Fora de Ponta\")\r\n",
        "plt.show()"
      ],
      "execution_count": null,
      "outputs": []
    },
    {
      "cell_type": "code",
      "metadata": {
        "id": "lozHsUjrbBDr"
      },
      "source": [
        "msno.matrix(UC1_KNN, color = (0.25,0.4,0.8))"
      ],
      "execution_count": null,
      "outputs": []
    },
    {
      "cell_type": "code",
      "metadata": {
        "id": "Ing-Tg8kbG9T"
      },
      "source": [
        "UC1_KNN['Retenção  de Tributos Federais'].interpolate(method = 'quadratic', inplace = True)\r\n",
        "sns.set()\r\n",
        "fig, ax = plt.subplots(figsize=(15, 5))\r\n",
        "_ = plt.plot(UC1_KNN.DATA, UC1_KNN['Retenção  de Tributos Federais'], marker='o', color=\"r\")\r\n",
        "_ = plt.plot(UC1_df.DATA, UC1_df['Retenção  de Tributos Federais'], marker='o', color=\"b\")\r\n",
        "_ = plt.xlabel(\"Tempo\")\r\n",
        "_ = plt.ylabel(\"KVAR\")\r\n",
        "_ = plt.legend(['Imputações utilizando a interpolação Quadrática', 'Dados Originais'])\r\n",
        "_ = plt.title(\"Retenção  de Tributos Federais\")\r\n",
        "plt.show()"
      ],
      "execution_count": null,
      "outputs": []
    },
    {
      "cell_type": "code",
      "metadata": {
        "id": "KusHbd2TbMWS"
      },
      "source": [
        "msno.matrix(UC1_KNN, color = (0.25,0.4,0.8))"
      ],
      "execution_count": null,
      "outputs": []
    },
    {
      "cell_type": "code",
      "metadata": {
        "id": "N5XIZneIbPwC"
      },
      "source": [
        "f, axs = plt.subplots(5, 4,figsize=(20,20))\r\n",
        "for i,col in enumerate(UC1_KNN.columns[3:]):\r\n",
        "  plt.subplot(5, 4, i+1)\r\n",
        "  plt.title(col)\r\n",
        "  plt.plot(UC1_KNN.DATA, UC1_KNN[col])\r\n"
      ],
      "execution_count": null,
      "outputs": []
    },
    {
      "cell_type": "markdown",
      "metadata": {
        "id": "ohCMPp8qbZiX"
      },
      "source": [
        "## Outliers\r\n",
        "https://en.wikipedia.org/wiki/Pearson_correlation_coefficient"
      ]
    },
    {
      "cell_type": "code",
      "metadata": {
        "id": "nR-W9ajWbUkJ"
      },
      "source": [
        "cor = UC1_KNN\r\n",
        "pear = round(cor.corr(),2)\r\n",
        "teste = np.array(pear)\r\n",
        "mask = np.zeros_like(pear)\r\n",
        "mask[np.triu_indices_from(mask)] = True\r\n",
        "with sns.axes_style(\"white\"):\r\n",
        "    f, ax = plt.subplots(figsize=(20, 15))\r\n",
        "    ax = sns.heatmap(pear, mask=mask, vmax=1, square=True,center=0,annot=True,annot_kws={\"fontsize\":14}, cmap=\"RdBu\")\r\n",
        "    plt.title('''Pearson's Correlation Heatmap''',fontsize = 20)\r\n",
        "    plt.xticks(fontsize=17,rotation=90)\r\n",
        "    plt.yticks(fontsize=17,rotation=0)\r\n",
        "    cax = plt.gcf().axes[-1] #para alterar fonte do eixo y direito\r\n",
        "    cax.tick_params(labelsize=20) #para alterar fonte do eixo y direito"
      ],
      "execution_count": null,
      "outputs": []
    },
    {
      "cell_type": "code",
      "metadata": {
        "id": "8q3qN8WNbc3y"
      },
      "source": [
        "corr = UC1_KNN.corr()\r\n",
        "corr.style.background_gradient(cmap='coolwarm').set_precision(2)"
      ],
      "execution_count": null,
      "outputs": []
    },
    {
      "cell_type": "markdown",
      "metadata": {
        "id": "Er6rnwQAb6wR"
      },
      "source": [
        "### Método Z score\r\n",
        "https://en.wikipedia.org/wiki/Standard_score#/media/File:The_Normal_Distribution.svg"
      ]
    },
    {
      "cell_type": "code",
      "metadata": {
        "id": "6o6KvwlDbkhb"
      },
      "source": [
        "def z_score (data, treshold =4):\r\n",
        "  outliers = []\r\n",
        "  treshold = treshold\r\n",
        "  mean, std = np.mean(data), np.std(data)\r\n",
        "  for i in data:\r\n",
        "    zscore = (i-mean)/std\r\n",
        "    if np.abs(zscore) > treshold:\r\n",
        "      outliers.append(i)\r\n",
        "  \r\n",
        "  return outliers"
      ],
      "execution_count": null,
      "outputs": []
    },
    {
      "cell_type": "code",
      "metadata": {
        "id": "N3aTxnOkcG_s"
      },
      "source": [
        "outliers = z_score(UC1_KNN[[\"REAT_KVAR_FPONTA\"]].values, 2)\r\n",
        "outliers"
      ],
      "execution_count": null,
      "outputs": []
    },
    {
      "cell_type": "code",
      "metadata": {
        "id": "icu48Rn0cNLr"
      },
      "source": [
        "print(len(outliers)/len(UC1_KNN[[\"REAT_KVAR_FPONTA\"]].values)*100, \"%\")"
      ],
      "execution_count": null,
      "outputs": []
    },
    {
      "cell_type": "code",
      "metadata": {
        "id": "988llrB6cTcD"
      },
      "source": [
        "outliers = z_score(UC1_df[[\"REAT_KVAR_FPONTA\"]].values, 2)\r\n",
        "outliers"
      ],
      "execution_count": null,
      "outputs": []
    },
    {
      "cell_type": "code",
      "metadata": {
        "id": "JshoGvxtckGb"
      },
      "source": [
        "outliers = z_score(UC1_KNN[[\"DEMANDA_CONTRATADA_FP\"]].values)\r\n",
        "outliers"
      ],
      "execution_count": null,
      "outputs": []
    },
    {
      "cell_type": "code",
      "metadata": {
        "id": "LXmleiTQcy1z"
      },
      "source": [
        "index_value = UC1_KNN[[\"DEMANDA_CONTRATADA_FP\"]][UC1_KNN[[\"DEMANDA_CONTRATADA_FP\"]].eq(160).any(1)].index.tolist()[0]\r\n",
        "UC1_KNN.at[index_value, 'DEMANDA_CONTRATADA_FP'] = UC1_KNN.DEMANDA_CONTRATADA_FP.mode()"
      ],
      "execution_count": null,
      "outputs": []
    },
    {
      "cell_type": "code",
      "metadata": {
        "id": "6XqwSW_Nc4JS"
      },
      "source": [
        "f, axs = plt.subplots(5, 4,figsize=(20,20))\r\n",
        "for i,col in enumerate(UC1_KNN.columns[3:]):\r\n",
        "  plt.subplot(5, 4, i+1)\r\n",
        "  plt.title(col)\r\n",
        "  plt.plot(UC1_KNN.DATA, UC1_KNN[col])"
      ],
      "execution_count": null,
      "outputs": []
    },
    {
      "cell_type": "markdown",
      "metadata": {
        "id": "XZXpbnJAdAJK"
      },
      "source": [
        "### Interquartile range"
      ]
    },
    {
      "cell_type": "code",
      "metadata": {
        "id": "zWwRzicbc5nK"
      },
      "source": [
        "def outlier_IQR(datacolumn):\r\n",
        "  sorted(datacolumn)\r\n",
        "  Q1,Q3 = np.percentile(datacolumn , [25,75])\r\n",
        "  IQR = Q3 - Q1\r\n",
        "  lower_range = Q1 - (1.5 * IQR)\r\n",
        "  upper_range = Q3 + (1.5 * IQR)\r\n",
        "  return lower_range,upper_range"
      ],
      "execution_count": null,
      "outputs": []
    },
    {
      "cell_type": "code",
      "metadata": {
        "id": "kQ8eGi-kdD8F"
      },
      "source": [
        "lowerbound , upperbound = outlier_IQR(UC1_KNN[\"TAR_REAT_FPONTA\"])"
      ],
      "execution_count": null,
      "outputs": []
    },
    {
      "cell_type": "code",
      "metadata": {
        "id": "KMZ2M27wdImx"
      },
      "source": [
        "UC1_KNN[\"TAR_REAT_FPONTA\"][(UC1_KNN[\"TAR_REAT_FPONTA\"] < lowerbound) | (UC1_KNN[\"TAR_REAT_FPONTA\"] > upperbound)]"
      ],
      "execution_count": null,
      "outputs": []
    },
    {
      "cell_type": "code",
      "metadata": {
        "id": "RwLFmnWBdLY5"
      },
      "source": [
        "index_value = 32\r\n",
        "UC1_KNN.at[index_value, 'TAR_REAT_FPONTA'] = UC1_KNN.TAR_REAT_FPONTA.mode()"
      ],
      "execution_count": null,
      "outputs": []
    },
    {
      "cell_type": "code",
      "metadata": {
        "id": "ztXkJcIwdW2_"
      },
      "source": [
        "f, axs = plt.subplots(5, 4,figsize=(20,20))\r\n",
        "for i,col in enumerate(UC1_KNN.columns[3:]):\r\n",
        "  plt.subplot(5, 4, i+1)\r\n",
        "  plt.title(col)\r\n",
        "  plt.plot(UC1_KNN.DATA, UC1_KNN[col])"
      ],
      "execution_count": null,
      "outputs": []
    },
    {
      "cell_type": "markdown",
      "metadata": {
        "id": "T13zw7dLdkL1"
      },
      "source": [
        "## Box Diagram"
      ]
    },
    {
      "cell_type": "code",
      "metadata": {
        "id": "2jddrFwZdYex"
      },
      "source": [
        "sns.boxplot(x=UC1_KNN.REAT_KVAR_FPONTA)"
      ],
      "execution_count": null,
      "outputs": []
    },
    {
      "cell_type": "code",
      "metadata": {
        "id": "xqUkmMD7dnxC"
      },
      "source": [
        "sns.boxplot(x=UC1_KNN.DEMANDA_CONTRATADA_P)"
      ],
      "execution_count": null,
      "outputs": []
    },
    {
      "cell_type": "code",
      "metadata": {
        "id": "hQVBBBg1dwya"
      },
      "source": [
        "index_value = UC1_KNN[[\"DEMANDA_CONTRATADA_P\"]][UC1_KNN[[\"DEMANDA_CONTRATADA_P\"]].eq(160).any(1)].index.tolist()[0]\r\n",
        "UC1_KNN.at[index_value, 'DEMANDA_CONTRATADA_P'] = UC1_KNN.DEMANDA_CONTRATADA_P.mode()"
      ],
      "execution_count": null,
      "outputs": []
    },
    {
      "cell_type": "code",
      "metadata": {
        "id": "T1rOiMCPd2Cl"
      },
      "source": [
        "f, axs = plt.subplots(5, 4,figsize=(20,20))\r\n",
        "for i,col in enumerate(UC1_KNN.columns[3:]):\r\n",
        "  plt.subplot(5, 4, i+1)\r\n",
        "  plt.title(col)\r\n",
        "  plt.plot(UC1_KNN.DATA, UC1_KNN[col])"
      ],
      "execution_count": null,
      "outputs": []
    },
    {
      "cell_type": "markdown",
      "metadata": {
        "id": "JfLXDHQ6eECY"
      },
      "source": [
        "## Matriz de Correlação de Dados sem outlier"
      ]
    },
    {
      "cell_type": "code",
      "metadata": {
        "id": "z1k1Q0r0d4Vq"
      },
      "source": [
        "cor = UC1_KNN\r\n",
        "pear = round(cor.corr(),2)\r\n",
        "teste = np.array(pear)\r\n",
        "mask = np.zeros_like(pear)\r\n",
        "mask[np.triu_indices_from(mask)] = True\r\n",
        "with sns.axes_style(\"white\"):\r\n",
        "    f, ax = plt.subplots(figsize=(20, 15))\r\n",
        "    ax = sns.heatmap(pear, mask=mask, vmax=1, square=True,center=0,annot=True,annot_kws={\"fontsize\":14}, cmap=\"RdBu\")\r\n",
        "    plt.title('''Pearson's Correlation Heatmap''',fontsize = 20)\r\n",
        "    plt.xticks(fontsize=17,rotation=90)\r\n",
        "    plt.yticks(fontsize=17,rotation=0)\r\n",
        "    cax = plt.gcf().axes[-1] #para alterar fonte do eixo y direito\r\n",
        "    cax.tick_params(labelsize=20) #para alterar fonte do eixo y direito"
      ],
      "execution_count": null,
      "outputs": []
    },
    {
      "cell_type": "code",
      "metadata": {
        "id": "s5pgnjXdeHQy"
      },
      "source": [
        "fig, ax = plt.subplots(figsize=(16,8))\r\n",
        "ax.scatter(UC1_KNN[\"REAT_KVAR_FPONTA\"], UC1_KNN[\"TAR_REAT_FPONTA\"])\r\n",
        "ax.set_xlabel('REAT_KVAR_FPONTA')\r\n",
        "ax.set_ylabel('TAR_REAT_FPONTA')\r\n",
        "plt.show()"
      ],
      "execution_count": null,
      "outputs": []
    },
    {
      "cell_type": "markdown",
      "metadata": {
        "id": "CiPmTJzJegBu"
      },
      "source": [
        "## Diagrama de Disperção de Variaveis Correlacionadas"
      ]
    },
    {
      "cell_type": "code",
      "metadata": {
        "id": "2QFiDlj4eTyB"
      },
      "source": [
        "fig, ax = plt.subplots(figsize=(16,8))\r\n",
        "ax.scatter(UC1_KNN[\"Valor da Fatura\"], UC1_KNN[\"Consumo Total\"])\r\n",
        "ax.set_xlabel('Valor da Fatura')\r\n",
        "ax.set_ylabel('Consumo Total')\r\n",
        "plt.show()"
      ],
      "execution_count": null,
      "outputs": []
    },
    {
      "cell_type": "markdown",
      "metadata": {
        "id": "qc5LkP8BemLk"
      },
      "source": [
        "# Modeling"
      ]
    },
    {
      "cell_type": "code",
      "metadata": {
        "id": "amGjsd3jeagh"
      },
      "source": [
        "df_train = UC1_KNN[\"REAT_KVAR_FPONTA\"].iloc[:57]\r\n",
        "df_test = UC1_KNN[\"REAT_KVAR_FPONTA\"].iloc[57:]"
      ],
      "execution_count": null,
      "outputs": []
    },
    {
      "cell_type": "code",
      "metadata": {
        "id": "j7Zw7Us7erAY"
      },
      "source": [
        "fig, ax = plt.subplots(figsize=(15, 5))\r\n",
        "_ = plt.plot(df_test, marker='o', color=\"r\")\r\n",
        "_ = plt.plot(df_train, marker='o', color=\"b\")\r\n",
        "_ = plt.xlabel(\"Tempo\")\r\n",
        "_ = plt.ylabel(\"KVAR\")\r\n",
        "_ = plt.legend([ 'Dados de Test', 'Dados de Treino'])\r\n",
        "_ = plt.title(\"Potência Reativa Fora de Ponta\")\r\n",
        "plt.show()"
      ],
      "execution_count": null,
      "outputs": []
    },
    {
      "cell_type": "code",
      "metadata": {
        "id": "YYeON8Pme0fS"
      },
      "source": [
        "! pip install pmdarima"
      ],
      "execution_count": null,
      "outputs": []
    },
    {
      "cell_type": "code",
      "metadata": {
        "id": "tBlERRhtfHdi"
      },
      "source": [
        "import numpy as np\r\n",
        "import matplotlib.pyplot as plt\r\n",
        "import seaborn as sns\r\n",
        "from pmdarima.arima import auto_arima\r\n",
        "import pandas as pd\r\n",
        "from fancyimpute import KNN\r\n",
        "from sklearn.impute import SimpleImputer\r\n",
        "sns.set()\r\n",
        "abas_de_excel =  pd.ExcelFile(\"/content/IT304S/UFCA.xlsx\")\r\n",
        "abas_de_excel.sheet_names\r\n",
        "UC1 = abas_de_excel.parse(\"UC1\")\r\n",
        "UC1_df = UC1.drop(set(UC1.columns[UC1.isnull().mean() >0.5]), 1)\r\n",
        "UC1_KNN = UC1_df.copy(deep= True)\r\n",
        "knn_imputer = KNN()\r\n",
        "UC1_KNN['REAT_KVAR_FPONTA'] = knn_imputer.fit_transform(UC1_KNN[['REAT_KVAR_FPONTA']]).ravel()\r\n",
        "df_train = UC1_KNN[\"REAT_KVAR_FPONTA\"].iloc[:57]\r\n",
        "df_test = UC1_KNN[\"REAT_KVAR_FPONTA\"].iloc[57:]\r\n",
        "imputer = SimpleImputer(strategy='most_frequent')\r\n",
        "imputer = imputer.fit(UC1_KNN[[\"TAR_REAT_FPONTA\"]])\r\n",
        "UC1_KNN['TAR_REAT_FPONTA'] = imputer.transform(UC1_KNN[['TAR_REAT_FPONTA']]).ravel()\r\n",
        "UC1_KNN['Retenção  de Tributos Federais'].interpolate(method = 'quadratic', inplace = True)\r\n",
        "\r\n",
        "def z_score (data, treshold =4):\r\n",
        "  outliers = []\r\n",
        "  treshold = treshold\r\n",
        "  mean, std = np.mean(data), np.std(data)\r\n",
        "  for i in data:\r\n",
        "    zscore = (i-mean)/std\r\n",
        "    if np.abs(zscore) > treshold:\r\n",
        "      outliers.append(i)\r\n",
        "  \r\n",
        "  return outliers\r\n",
        "\r\n",
        "index_value = UC1_KNN[[\"DEMANDA_CONTRATADA_FP\"]][UC1_KNN[[\"DEMANDA_CONTRATADA_FP\"]].eq(160).any(1)].index.tolist()[0]\r\n",
        "UC1_KNN.at[index_value, 'DEMANDA_CONTRATADA_FP'] = UC1_KNN.DEMANDA_CONTRATADA_FP.mode()\r\n",
        "index_value = 32\r\n",
        "UC1_KNN.at[index_value, 'TAR_REAT_FPONTA'] = UC1_KNN.TAR_REAT_FPONTA.mode()\r\n",
        "index_value = UC1_KNN[[\"DEMANDA_CONTRATADA_P\"]][UC1_KNN[[\"DEMANDA_CONTRATADA_P\"]].eq(160).any(1)].index.tolist()[0]\r\n",
        "UC1_KNN.at[index_value, 'DEMANDA_CONTRATADA_P'] = UC1_KNN.DEMANDA_CONTRATADA_P.mode()\r\n",
        "\r\n",
        "f, axs = plt.subplots(5, 4,figsize=(20,20))\r\n",
        "for i,col in enumerate(UC1_KNN.columns[3:]):\r\n",
        "  plt.subplot(5, 4, i+1)\r\n",
        "  plt.title(col)\r\n",
        "  plt.plot(UC1_KNN.DATA, UC1_KNN[col])"
      ],
      "execution_count": null,
      "outputs": []
    },
    {
      "cell_type": "code",
      "metadata": {
        "id": "547ERhl1fWpC"
      },
      "source": [
        "fig, ax = plt.subplots(figsize=(15, 5))\r\n",
        "_ = plt.plot(df_test, marker='o', color=\"r\")\r\n",
        "_ = plt.plot(df_train, marker='o', color=\"b\")\r\n",
        "_ = plt.xlabel(\"Tempo\")\r\n",
        "_ = plt.ylabel(\"KVAR\")\r\n",
        "_ = plt.legend([ 'Dados de Test', 'Dados de Treino'])\r\n",
        "_ = plt.title(\"Potência Reativa Fora de Ponta\")\r\n",
        "plt.show()"
      ],
      "execution_count": null,
      "outputs": []
    },
    {
      "cell_type": "code",
      "metadata": {
        "id": "qwt7CTmOfdK5"
      },
      "source": [
        "from pmdarima.arima import ADFTest"
      ],
      "execution_count": null,
      "outputs": []
    },
    {
      "cell_type": "code",
      "metadata": {
        "id": "cLaq7eE4fx1Y"
      },
      "source": [
        "adf_test = ADFTest(alpha=0.05)"
      ],
      "execution_count": null,
      "outputs": []
    },
    {
      "cell_type": "code",
      "metadata": {
        "id": "rRvFj4NPfz6b"
      },
      "source": [
        "adf_test.should_diff(df_train)"
      ],
      "execution_count": null,
      "outputs": []
    },
    {
      "cell_type": "code",
      "metadata": {
        "id": "fMQOza2hgAi5"
      },
      "source": [
        "arima_model = auto_arima(df_train, start_p=0, d=1, start_q=0, max_p=5, max_d=5, max_q=5, start_P=0, D=1, start_Q=0, max_P = 5, max_D = 5, max_Q=5, m=12, seasonal = True, error_action = 'warn', trace = True, supress_warning = True, stepwise = True, random_state= 20, nfits = 50)"
      ],
      "execution_count": null,
      "outputs": []
    },
    {
      "cell_type": "code",
      "metadata": {
        "id": "X97y6lh_f2Fp"
      },
      "source": [
        "arima_model.summary()"
      ],
      "execution_count": null,
      "outputs": []
    },
    {
      "cell_type": "code",
      "metadata": {
        "id": "QTMAD_DigKJh"
      },
      "source": [
        "predicoes = pd.DataFrame(arima_model.predict(n_periods = 12), index =df_test.index)\r\n",
        "predicoes.columns = ['predicoes']"
      ],
      "execution_count": null,
      "outputs": []
    },
    {
      "cell_type": "code",
      "metadata": {
        "id": "dAh_KmHIgQHq"
      },
      "source": [
        "fig, ax = plt.subplots(figsize=(15, 5))\r\n",
        "_ = plt.plot(df_test, marker='o', color=\"r\")\r\n",
        "_ = plt.plot(df_train, marker='o', color=\"b\")\r\n",
        "_ = plt.plot(predicoes, marker='o', color=\"g\")\r\n",
        "_ = plt.xlabel(\"Tempo\")\r\n",
        "_ = plt.ylabel(\"KWH\")\r\n",
        "_ = plt.legend([ 'Dados de Test', 'Dados de Treino', 'Previsões'])\r\n",
        "_ = plt.title(\"Consumo Total\")\r\n",
        "plt.show()"
      ],
      "execution_count": null,
      "outputs": []
    },
    {
      "cell_type": "markdown",
      "metadata": {
        "id": "qqkpH3KjgYPv"
      },
      "source": [
        "# Avaliação"
      ]
    },
    {
      "cell_type": "markdown",
      "metadata": {
        "id": "1KWTwtu0gbld"
      },
      "source": [
        "$R M S E=\\sqrt{\\sum_{i=1}^{n} \\frac{\\left(\\hat{y}_{i}-y_{i}\\right)^{2}}{n}}$"
      ]
    },
    {
      "cell_type": "code",
      "metadata": {
        "id": "_C7WIt_ZgRcr"
      },
      "source": [
        "def RMSE(yh, y):\r\n",
        "  er = yh - y\r\n",
        "  RMSE = sum(er*er/len(er))**0.5\r\n",
        "  return RMSE"
      ],
      "execution_count": null,
      "outputs": []
    },
    {
      "cell_type": "code",
      "metadata": {
        "id": "77YK9CKZgoBo"
      },
      "source": [
        "np.mean(RMSE(df_test.values, predicoes.values))"
      ],
      "execution_count": null,
      "outputs": []
    },
    {
      "cell_type": "markdown",
      "metadata": {
        "id": "jbehzwSHg6pA"
      },
      "source": [
        "# Experimento KNN para previsão de 12 meses REAT_KVAR_FPONTA"
      ]
    },
    {
      "cell_type": "code",
      "metadata": {
        "id": "T2rG4SJUgpr4"
      },
      "source": [
        "Melhor_RMSE = dict.fromkeys([\"RMSE_KNN\",\"RMSE_FFILL\", \"RMSE_Quadratica\"])"
      ],
      "execution_count": null,
      "outputs": []
    },
    {
      "cell_type": "code",
      "metadata": {
        "id": "prNYqPw0hQBA"
      },
      "source": [
        "knn_imputer = KNN()\r\n",
        "UC1_KNN['REAT_KVAR_FPONTA'] = knn_imputer.fit_transform(UC1_KNN[['REAT_KVAR_FPONTA']]).ravel()\r\n",
        "df_train = UC1_KNN[\"REAT_KVAR_FPONTA\"].iloc[:57]\r\n",
        "df_test = UC1_KNN[\"REAT_KVAR_FPONTA\"].iloc[57:]\r\n",
        "\r\n",
        "arima_model = auto_arima(df_train, start_p=0, d=1, start_q=0, max_p=5, max_d=5, max_q=5, start_P=0, D=1, start_Q=0, max_P = 5, max_D = 5, max_Q=5, m=12, seasonal = True, error_action = 'warn', trace = True, supress_warning = True, stepwise = True, random_state= 20, nfits = 50)\r\n",
        "arima_model.summary()\r\n",
        "predicoes = pd.DataFrame(arima_model.predict(n_periods = 12), index =df_test.index)\r\n",
        "predicoes.columns = ['predicoes']\r\n",
        "\r\n",
        "fig, ax = plt.subplots(figsize=(15, 5))\r\n",
        "_ = plt.plot(df_test, marker='o', color=\"r\")\r\n",
        "_ = plt.plot(df_train, marker='o', color=\"b\")\r\n",
        "_ = plt.plot(predicoes, marker='o', color=\"g\")\r\n",
        "_ = plt.xlabel(\"Tempo\")\r\n",
        "_ = plt.ylabel(\"KWH\")\r\n",
        "_ = plt.legend([ 'Dados de Test', 'Dados de Treino', 'Previsões'])\r\n",
        "_ = plt.title(\"REAT_KVAR_FPONTA\")\r\n",
        "plt.show()\r\n",
        "\r\n",
        "RMSE_KNN = np.mean(RMSE(df_test.values, predicoes.values))\r\n",
        "Melhor_RMSE.update({\"RMSE_KNN\": RMSE_KNN})\r\n",
        "print(\"RMSE_KNN:\",RMSE_KNN)"
      ],
      "execution_count": null,
      "outputs": []
    },
    {
      "cell_type": "markdown",
      "metadata": {
        "id": "L_0eIc9ehXGO"
      },
      "source": [
        "# Experimento FFILL para previsão de 12 meses REAT_KVAR_FPONTA"
      ]
    },
    {
      "cell_type": "code",
      "metadata": {
        "id": "QSDjSDAPhRP5"
      },
      "source": [
        "abas_de_excel =  pd.ExcelFile(\"/content/IT304S/UFCA.xlsx\")\r\n",
        "abas_de_excel.sheet_names\r\n",
        "UC1 = abas_de_excel.parse(\"UC1\")\r\n",
        "UC1_df = UC1.drop(set(UC1.columns[UC1.isnull().mean() >0.5]), 1)\r\n",
        "UC1_ffill = UC1_df.fillna(method='ffill')\r\n",
        "df_train = UC1_ffill[\"REAT_KVAR_FPONTA\"].iloc[:57]\r\n",
        "df_test = UC1_ffill[\"REAT_KVAR_FPONTA\"].iloc[57:]\r\n",
        "arima_model = auto_arima(df_train, start_p=0, d=1, start_q=0, max_p=5, max_d=5, max_q=5, start_P=0, D=1, start_Q=0, max_P = 5, max_D = 5, max_Q=5, m=12, seasonal = True, error_action = 'warn', trace = True, supress_warning = True, stepwise = True, random_state= 20, nfits = 50)\r\n",
        "arima_model.summary()\r\n",
        "predicoes = pd.DataFrame(arima_model.predict(n_periods = 12), index =df_test.index)\r\n",
        "predicoes.columns = ['predicoes']\r\n",
        "\r\n",
        "fig, ax = plt.subplots(figsize=(15, 5))\r\n",
        "_ = plt.plot(df_test, marker='o', color=\"r\")\r\n",
        "_ = plt.plot(df_train, marker='o', color=\"b\")\r\n",
        "_ = plt.plot(predicoes, marker='o', color=\"g\")\r\n",
        "_ = plt.xlabel(\"Tempo\")\r\n",
        "_ = plt.ylabel(\"KWH\")\r\n",
        "_ = plt.legend([ 'Dados de Test', 'Dados de Treino', 'Previsões'])\r\n",
        "_ = plt.title(\"REAT_KVAR_FPONTA\")\r\n",
        "plt.show()\r\n",
        "\r\n",
        "RMSE_FFILL = np.mean(RMSE(df_test.values, predicoes.values))\r\n",
        "Melhor_RMSE.update({\"RMSE_FFILL\": RMSE_FFILL})\r\n",
        "print(\"RMSE_FFILL:\",RMSE_FFILL)\r\n"
      ],
      "execution_count": null,
      "outputs": []
    },
    {
      "cell_type": "markdown",
      "metadata": {
        "id": "zVikixIjhg7_"
      },
      "source": [
        "# Experimento Imputação por Interpolação Quadrática para previsão de 12 meses REAT_KVAR_FPONTA"
      ]
    },
    {
      "cell_type": "code",
      "metadata": {
        "id": "_G7yRwlbhc2v"
      },
      "source": [
        "abas_de_excel =  pd.ExcelFile(\"/content/IT304S/UFCA.xlsx\")\r\n",
        "abas_de_excel.sheet_names\r\n",
        "UC1 = abas_de_excel.parse(\"UC1\")\r\n",
        "UC1_df = UC1.drop(set(UC1.columns[UC1.isnull().mean() >0.5]), 1)\r\n",
        "UC1_quadratica = UC1_df.copy(deep= True)\r\n",
        "UC1_quadratica['REAT_KVAR_FPONTA'].interpolate(method = 'quadratic', inplace = True)\r\n",
        "df_train = UC1_quadratica[\"REAT_KVAR_FPONTA\"].iloc[:57]\r\n",
        "df_test = UC1_quadratica[\"REAT_KVAR_FPONTA\"].iloc[57:]\r\n",
        "arima_model = auto_arima(df_train, start_p=0, d=1, start_q=0, max_p=5, max_d=5, max_q=5, start_P=0, D=1, start_Q=0, max_P = 5, max_D = 5, max_Q=5, m=12, seasonal = True, error_action = 'warn', trace = True, supress_warning = True, stepwise = True, random_state= 20, nfits = 50)\r\n",
        "arima_model.summary()\r\n",
        "predicoes = pd.DataFrame(arima_model.predict(n_periods = 12), index =df_test.index)\r\n",
        "predicoes.columns = ['predicoes']\r\n",
        "\r\n",
        "fig, ax = plt.subplots(figsize=(15, 5))\r\n",
        "_ = plt.plot(df_test, marker='o', color=\"r\")\r\n",
        "_ = plt.plot(df_train, marker='o', color=\"b\")\r\n",
        "_ = plt.plot(predicoes, marker='o', color=\"g\")\r\n",
        "_ = plt.xlabel(\"Tempo\")\r\n",
        "_ = plt.ylabel(\"KWH\")\r\n",
        "_ = plt.legend([ 'Dados de Test', 'Dados de Treino', 'Previsões'])\r\n",
        "_ = plt.title(\"REAT_KVAR_FPONTA\")\r\n",
        "plt.show()\r\n",
        "\r\n",
        "RMSE_Quadratica = np.mean(RMSE(df_test.values, predicoes.values))\r\n",
        "Melhor_RMSE.update({\"RMSE_Quadratica\": RMSE_Quadratica})\r\n",
        "print(\"RMSE_Quadratica\", RMSE_Quadratica)"
      ],
      "execution_count": null,
      "outputs": []
    },
    {
      "cell_type": "code",
      "metadata": {
        "id": "1XWo9LfqhopJ"
      },
      "source": [
        "min(Melhor_RMSE, key=Melhor_RMSE.get)"
      ],
      "execution_count": null,
      "outputs": []
    },
    {
      "cell_type": "markdown",
      "metadata": {
        "id": "FJwVOYGuiAIj"
      },
      "source": [
        "# Comparação de PMF"
      ]
    },
    {
      "cell_type": "code",
      "metadata": {
        "id": "jKvXC9xVh6Zv"
      },
      "source": [
        "sns.histplot(UC1_KNN[\"REAT_KVAR_FPONTA\"],color=\"blue\")\r\n",
        "sns.histplot(UC1_ffill[\"REAT_KVAR_FPONTA\"],color=\"green\", alpha=0.2)\r\n",
        "sns.histplot(UC1_quadratica[\"REAT_KVAR_FPONTA\"],color=\"red\", alpha=0.2)\r\n",
        "plt.legend(['KNN', 'FFILL', 'Quadratica'])"
      ],
      "execution_count": null,
      "outputs": []
    },
    {
      "cell_type": "markdown",
      "metadata": {
        "id": "U0vtbRzpijNA"
      },
      "source": [
        "# Resultado Banco de dados com imputações KNN"
      ]
    },
    {
      "cell_type": "code",
      "metadata": {
        "id": "BoFsVDfKiCR4"
      },
      "source": [
        "UC1_KNN.describe()"
      ],
      "execution_count": null,
      "outputs": []
    },
    {
      "cell_type": "code",
      "metadata": {
        "id": "bTtrxtUhiQgx"
      },
      "source": [
        "UC1_KNN.info()"
      ],
      "execution_count": null,
      "outputs": []
    },
    {
      "cell_type": "code",
      "metadata": {
        "id": "hdNDhV0YiT1H"
      },
      "source": [
        "f, axs = plt.subplots(5, 4,figsize=(20,30))\r\n",
        "for i,col in enumerate(UC1_KNN.columns[3:]):\r\n",
        "  plt.subplot(5, 4, i+1)\r\n",
        "  sns.boxplot(x=UC1_KNN[col])"
      ],
      "execution_count": null,
      "outputs": []
    },
    {
      "cell_type": "code",
      "metadata": {
        "id": "KqOseim6iaRH"
      },
      "source": [
        "f, axs = plt.subplots(5, 4,figsize=(20,20))\r\n",
        "for i,col in enumerate(UC1_KNN.columns[3:]):\r\n",
        "  plt.subplot(5, 4, i+1)\r\n",
        "  plt.title(col)\r\n",
        "  plt.plot(UC1_KNN.DATA, UC1_KNN[col])"
      ],
      "execution_count": null,
      "outputs": []
    },
    {
      "cell_type": "code",
      "metadata": {
        "id": "0f4cRQbxifxe"
      },
      "source": [
        "fig = plt.figure(figsize = (15,20))\r\n",
        "ax = fig.gca()\r\n",
        "UC1_KNN.hist(ax = ax);"
      ],
      "execution_count": null,
      "outputs": []
    },
    {
      "cell_type": "code",
      "metadata": {
        "id": "Cd5SCDYui8zF"
      },
      "source": [
        "UC1_KNN.to_csv(r'UC1.csv', index = False)"
      ],
      "execution_count": null,
      "outputs": []
    },
    {
      "cell_type": "code",
      "metadata": {
        "id": "zFyYr2uCjRpG"
      },
      "source": [
        "sns.pairplot(UC1_KNN[3:], palette='bwr')"
      ],
      "execution_count": null,
      "outputs": []
    },
    {
      "cell_type": "code",
      "metadata": {
        "id": "m1cdhVrbkdvM"
      },
      "source": [
        ""
      ],
      "execution_count": null,
      "outputs": []
    }
  ]
}