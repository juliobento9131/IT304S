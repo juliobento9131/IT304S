{
  "nbformat": 4,
  "nbformat_minor": 0,
  "metadata": {
    "colab": {
      "name": "Cópia de IT304SDS.ipynb",
      "provenance": [],
      "collapsed_sections": [
        "DaeXdZdmWuqP",
        "DeUlGgt_W_3X",
        "hoChg3zQXKCY",
        "XSdn3alKXlH3",
        "5qYdtfYjYbcA",
        "YIJBi3vGYtR1",
        "ceBrYg07ZD5_",
        "hIVpgpkrZOm2",
        "nu9DOzqAZe8G",
        "Smo3YZ4BZwYP",
        "NGzPBNVOZ2Ov",
        "NPjst8NTaEj4",
        "thxoXIsaaa0I",
        "yiDjyhonakbO",
        "MfZcYSQ-au3A",
        "ohCMPp8qbZiX",
        "Er6rnwQAb6wR",
        "XZXpbnJAdAJK",
        "T13zw7dLdkL1",
        "JfLXDHQ6eECY",
        "CiPmTJzJegBu",
        "qc5LkP8BemLk",
        "qqkpH3KjgYPv",
        "jbehzwSHg6pA",
        "L_0eIc9ehXGO",
        "zVikixIjhg7_",
        "FJwVOYGuiAIj",
        "U0vtbRzpijNA"
      ],
      "toc_visible": true,
      "include_colab_link": true
    },
    "kernelspec": {
      "name": "python3",
      "display_name": "Python 3"
    }
  },
  "cells": [
    {
      "cell_type": "markdown",
      "metadata": {
        "id": "view-in-github",
        "colab_type": "text"
      },
      "source": [
        "<a href=\"https://colab.research.google.com/github/juliobento9131/IT304S/blob/main/C%C3%B3pia_de_IT304SDS.ipynb\" target=\"_parent\"><img src=\"https://colab.research.google.com/assets/colab-badge.svg\" alt=\"Open In Colab\"/></a>"
      ]
    },
    {
      "cell_type": "markdown",
      "metadata": {
        "id": "Kz-ehtpDomHC"
      },
      "source": [
        "# IT304S: Contratação de Energia para Grandes Consumidores.\r\n",
        "##Prof. Dr. Luiz Carlos Pereira da Silva"
      ]
    },
    {
      "cell_type": "markdown",
      "metadata": {
        "id": "-NThjXMJT6jD"
      },
      "source": [
        "# Definição de ciência de dados "
      ]
    },
    {
      "cell_type": "markdown",
      "metadata": {
        "id": "MwHcKKQ0UBP5"
      },
      "source": [
        "A ciência de dados pode ser definida como um conjunto de técnicas de analise de dados para obter e apresentar informações úteis para um usuario. "
      ]
    },
    {
      "cell_type": "markdown",
      "metadata": {
        "id": "Y2FIImK2UFj-"
      },
      "source": [
        "# Metodologia"
      ]
    },
    {
      "cell_type": "markdown",
      "metadata": {
        "id": "AkfYmDBcUIWw"
      },
      "source": [
        "Uma metodologia muito utilizado para analisar dados é o chamado ``CRISP-DM\", por suas siglas em inglês: Cross-Industry Standard Process for Data Mining. O CRISP-DM tem seis etapas que são:\r\n",
        "\r\n",
        "* **Business Understanding:** Definição dos objetivos, declaração do problema, * * pergunta de interesse.\r\n",
        "* **Data Understanding:** Utilização de nosso conhecimento para coletar os dados.\r\n",
        "* **Data Preparation:** Manipulação de dados para a eliminação de outliers e dados faltantes.\r\n",
        "* **Modeling:** Modelo ou abordagem utilizado para estudar o comportamento de nosso sistema a partir de nossos dados.\r\n",
        "* **Evaluation:** Avaliação dos resultados obtidos, no contexto se são de ajuda para responder nossa pergunta de interesse.\r\n",
        "* **Deployment:** Disponibilizar o análise de dados."
      ]
    },
    {
      "cell_type": "markdown",
      "metadata": {
        "id": "q_TZAkqqUh5y"
      },
      "source": [
        "# Business Understanding"
      ]
    },
    {
      "cell_type": "markdown",
      "metadata": {
        "id": "G33ALa4rUm1h"
      },
      "source": [
        "* **Definição dos objetivos:** O objetivo do presente notebook é apresentar as variaveis disponíveis no banco de dados UFFS.xlsx.\r\n",
        "* **Declaração do problema:** O arquivo UFFS.xlsx, contém as informações disponíveis das planilhas elétricas da UFFS, precisamos de fazer um analize exploratorio dos dados para conhecer os dados disponíveis da UFFS.\r\n",
        "* **Perguntas de Interesse:**\r\n",
        "Há dados faltantes?"
      ]
    },
    {
      "cell_type": "markdown",
      "metadata": {
        "id": "QrFirraKUzp_"
      },
      "source": [
        "# Data Understanding:"
      ]
    },
    {
      "cell_type": "code",
      "metadata": {
        "colab": {
          "base_uri": "https://localhost:8080/"
        },
        "id": "vaI0l8h2Yy04",
        "outputId": "917d622d-7552-4549-f560-38a34c9adc72"
      },
      "source": [
        "from google.colab import drive\n",
        "drive.mount('/content/drive')"
      ],
      "execution_count": 1,
      "outputs": [
        {
          "output_type": "stream",
          "text": [
            "Drive already mounted at /content/drive; to attempt to forcibly remount, call drive.mount(\"/content/drive\", force_remount=True).\n"
          ],
          "name": "stdout"
        }
      ]
    },
    {
      "cell_type": "code",
      "metadata": {
        "id": "a_A3CnN_TzVM",
        "colab": {
          "base_uri": "https://localhost:8080/"
        },
        "outputId": "a8ed0ab2-8b4f-4eb2-feee-d72957b73bfb"
      },
      "source": [
        "!git clone https://github.com/juliobento9131/IT304S_Trabalho_Parte_2.git"
      ],
      "execution_count": 2,
      "outputs": [
        {
          "output_type": "stream",
          "text": [
            "fatal: destination path 'IT304S_Trabalho_Parte_2' already exists and is not an empty directory.\n"
          ],
          "name": "stdout"
        }
      ]
    },
    {
      "cell_type": "code",
      "metadata": {
        "id": "gngBWtGBU8tf"
      },
      "source": [
        "import pandas as pd"
      ],
      "execution_count": 3,
      "outputs": []
    },
    {
      "cell_type": "code",
      "metadata": {
        "id": "iL2qf2RRVNnR",
        "colab": {
          "base_uri": "https://localhost:8080/"
        },
        "outputId": "68b5bb39-16a7-435d-c0ad-21167cb50350"
      },
      "source": [
        "abas_de_excel =  pd.ExcelFile(\"/content/drive/Shareddrives/IT304S - Comercialização de Energia Elétrica para Grandes Clientes/Projeto/Planilhas - Universidades/Grupo 15 - UFFS/Preencher_universidade.xlsx\")\r\n",
        "abas_de_excel.sheet_names"
      ],
      "execution_count": 4,
      "outputs": [
        {
          "output_type": "execute_result",
          "data": {
            "text/plain": [
              "['Apresentação', 'UC1', 'UC2', 'UC3', 'UC4', 'UC5', 'UC6']"
            ]
          },
          "metadata": {
            "tags": []
          },
          "execution_count": 4
        }
      ]
    },
    {
      "cell_type": "code",
      "metadata": {
        "id": "AhP-7Nf-VQJe",
        "colab": {
          "base_uri": "https://localhost:8080/"
        },
        "outputId": "4239b5d7-b204-4e73-d051-590a777bbe5b"
      },
      "source": [
        "UC1 = abas_de_excel.parse(\"UC1\")\r\n",
        "UC1.shape"
      ],
      "execution_count": 5,
      "outputs": [
        {
          "output_type": "execute_result",
          "data": {
            "text/plain": [
              "(78, 30)"
            ]
          },
          "metadata": {
            "tags": []
          },
          "execution_count": 5
        }
      ]
    },
    {
      "cell_type": "code",
      "metadata": {
        "id": "5HOAAECCfU3D",
        "colab": {
          "base_uri": "https://localhost:8080/"
        },
        "outputId": "1cf8e8ad-df38-41f5-c0da-9246295eac53"
      },
      "source": [
        "UC2 = abas_de_excel.parse(\"UC2\")\r\n",
        "UC2.shape"
      ],
      "execution_count": 6,
      "outputs": [
        {
          "output_type": "execute_result",
          "data": {
            "text/plain": [
              "(88, 30)"
            ]
          },
          "metadata": {
            "tags": []
          },
          "execution_count": 6
        }
      ]
    },
    {
      "cell_type": "code",
      "metadata": {
        "id": "KeVAW2jffVaS",
        "colab": {
          "base_uri": "https://localhost:8080/"
        },
        "outputId": "f8ac2281-417d-4cc0-91cf-a8c13378769e"
      },
      "source": [
        "UC3 = abas_de_excel.parse(\"UC3\")\r\n",
        "UC3.shape"
      ],
      "execution_count": 7,
      "outputs": [
        {
          "output_type": "execute_result",
          "data": {
            "text/plain": [
              "(89, 30)"
            ]
          },
          "metadata": {
            "tags": []
          },
          "execution_count": 7
        }
      ]
    },
    {
      "cell_type": "code",
      "metadata": {
        "id": "MBCKTluTfV4G",
        "colab": {
          "base_uri": "https://localhost:8080/"
        },
        "outputId": "92e86090-7961-426c-8ec5-de6832b90da7"
      },
      "source": [
        "UC4 = abas_de_excel.parse(\"UC4\")\r\n",
        "UC4.shape"
      ],
      "execution_count": 8,
      "outputs": [
        {
          "output_type": "execute_result",
          "data": {
            "text/plain": [
              "(130, 30)"
            ]
          },
          "metadata": {
            "tags": []
          },
          "execution_count": 8
        }
      ]
    },
    {
      "cell_type": "code",
      "metadata": {
        "id": "37Ez70gCfWF0",
        "colab": {
          "base_uri": "https://localhost:8080/"
        },
        "outputId": "4be34788-a8bc-4de5-a510-e7b7a8b323de"
      },
      "source": [
        "UC5 = abas_de_excel.parse(\"UC5\")\r\n",
        "UC5.shape"
      ],
      "execution_count": 9,
      "outputs": [
        {
          "output_type": "execute_result",
          "data": {
            "text/plain": [
              "(77, 30)"
            ]
          },
          "metadata": {
            "tags": []
          },
          "execution_count": 9
        }
      ]
    },
    {
      "cell_type": "code",
      "metadata": {
        "id": "9oDA41kgfWRk",
        "colab": {
          "base_uri": "https://localhost:8080/"
        },
        "outputId": "ce6d3aba-93f5-4f48-8101-9ac32be4b2a9"
      },
      "source": [
        "UC6 = abas_de_excel.parse(\"UC6\")\r\n",
        "UC6.shape"
      ],
      "execution_count": 10,
      "outputs": [
        {
          "output_type": "execute_result",
          "data": {
            "text/plain": [
              "(60, 30)"
            ]
          },
          "metadata": {
            "tags": []
          },
          "execution_count": 10
        }
      ]
    },
    {
      "cell_type": "code",
      "metadata": {
        "id": "VDnqi00bVWB-",
        "colab": {
          "base_uri": "https://localhost:8080/",
          "height": 344
        },
        "outputId": "e1ea356c-9ef9-4172-ae39-1bfbe28a3be0"
      },
      "source": [
        "UC1.head()"
      ],
      "execution_count": 11,
      "outputs": [
        {
          "output_type": "execute_result",
          "data": {
            "text/html": [
              "<div>\n",
              "<style scoped>\n",
              "    .dataframe tbody tr th:only-of-type {\n",
              "        vertical-align: middle;\n",
              "    }\n",
              "\n",
              "    .dataframe tbody tr th {\n",
              "        vertical-align: top;\n",
              "    }\n",
              "\n",
              "    .dataframe thead th {\n",
              "        text-align: right;\n",
              "    }\n",
              "</style>\n",
              "<table border=\"1\" class=\"dataframe\">\n",
              "  <thead>\n",
              "    <tr style=\"text-align: right;\">\n",
              "      <th></th>\n",
              "      <th>DATA</th>\n",
              "      <th>ANO</th>\n",
              "      <th>MÊS</th>\n",
              "      <th>PERÍODO</th>\n",
              "      <th>PIS/PASEP</th>\n",
              "      <th>COFINS</th>\n",
              "      <th>ICMS</th>\n",
              "      <th>DEMANDA_CONTRATADA_P</th>\n",
              "      <th>DEMANDA_CONTRATADA_FP</th>\n",
              "      <th>DEMANDA_REGISTRADA_P</th>\n",
              "      <th>DEMANDA_REGISTRADA_FP</th>\n",
              "      <th>DEMANDA_ISENTA_P</th>\n",
              "      <th>DEMANDA_ISENTA_FP</th>\n",
              "      <th>TAR_TUSD_KW_P</th>\n",
              "      <th>TAR_TUSD_KW_FP</th>\n",
              "      <th>ENERGIA_PONTA</th>\n",
              "      <th>ENERGIA_FPONTA</th>\n",
              "      <th>TAR_TUSD_KWH_P</th>\n",
              "      <th>TAR_TUSD_KWH_FP</th>\n",
              "      <th>TAR_TE_KWH_P</th>\n",
              "      <th>TAR_TE_KWH_FP</th>\n",
              "      <th>REAT_KVAR_PONTA</th>\n",
              "      <th>REAT_KVAR_FPONTA</th>\n",
              "      <th>TAR_REAT_PONTA</th>\n",
              "      <th>TAR_REAT_FPONTA</th>\n",
              "      <th>Valor da Fatura</th>\n",
              "      <th>Consumo Total</th>\n",
              "      <th>Acrescimo_Bamar</th>\n",
              "      <th>Acrescimo_Bverm1</th>\n",
              "      <th>Acrescimo_Bverm2</th>\n",
              "    </tr>\n",
              "  </thead>\n",
              "  <tbody>\n",
              "    <tr>\n",
              "      <th>0</th>\n",
              "      <td>2014-01-01</td>\n",
              "      <td>2014</td>\n",
              "      <td>1</td>\n",
              "      <td>NaN</td>\n",
              "      <td>NaN</td>\n",
              "      <td>NaN</td>\n",
              "      <td>NaN</td>\n",
              "      <td>NaN</td>\n",
              "      <td>NaN</td>\n",
              "      <td>NaN</td>\n",
              "      <td>NaN</td>\n",
              "      <td>NaN</td>\n",
              "      <td>NaN</td>\n",
              "      <td>NaN</td>\n",
              "      <td>NaN</td>\n",
              "      <td>NaN</td>\n",
              "      <td>NaN</td>\n",
              "      <td>NaN</td>\n",
              "      <td>NaN</td>\n",
              "      <td>NaN</td>\n",
              "      <td>NaN</td>\n",
              "      <td>NaN</td>\n",
              "      <td>NaN</td>\n",
              "      <td>NaN</td>\n",
              "      <td>NaN</td>\n",
              "      <td>NaN</td>\n",
              "      <td>NaN</td>\n",
              "      <td>NaN</td>\n",
              "      <td>NaN</td>\n",
              "      <td>NaN</td>\n",
              "    </tr>\n",
              "    <tr>\n",
              "      <th>1</th>\n",
              "      <td>2014-02-01</td>\n",
              "      <td>2014</td>\n",
              "      <td>2</td>\n",
              "      <td>NaN</td>\n",
              "      <td>NaN</td>\n",
              "      <td>NaN</td>\n",
              "      <td>NaN</td>\n",
              "      <td>NaN</td>\n",
              "      <td>NaN</td>\n",
              "      <td>NaN</td>\n",
              "      <td>NaN</td>\n",
              "      <td>NaN</td>\n",
              "      <td>NaN</td>\n",
              "      <td>NaN</td>\n",
              "      <td>NaN</td>\n",
              "      <td>NaN</td>\n",
              "      <td>NaN</td>\n",
              "      <td>NaN</td>\n",
              "      <td>NaN</td>\n",
              "      <td>NaN</td>\n",
              "      <td>NaN</td>\n",
              "      <td>NaN</td>\n",
              "      <td>NaN</td>\n",
              "      <td>NaN</td>\n",
              "      <td>NaN</td>\n",
              "      <td>NaN</td>\n",
              "      <td>NaN</td>\n",
              "      <td>NaN</td>\n",
              "      <td>NaN</td>\n",
              "      <td>NaN</td>\n",
              "    </tr>\n",
              "    <tr>\n",
              "      <th>2</th>\n",
              "      <td>2014-03-01</td>\n",
              "      <td>2014</td>\n",
              "      <td>3</td>\n",
              "      <td>NaN</td>\n",
              "      <td>NaN</td>\n",
              "      <td>NaN</td>\n",
              "      <td>NaN</td>\n",
              "      <td>NaN</td>\n",
              "      <td>NaN</td>\n",
              "      <td>NaN</td>\n",
              "      <td>NaN</td>\n",
              "      <td>NaN</td>\n",
              "      <td>NaN</td>\n",
              "      <td>NaN</td>\n",
              "      <td>NaN</td>\n",
              "      <td>NaN</td>\n",
              "      <td>NaN</td>\n",
              "      <td>NaN</td>\n",
              "      <td>NaN</td>\n",
              "      <td>NaN</td>\n",
              "      <td>NaN</td>\n",
              "      <td>NaN</td>\n",
              "      <td>NaN</td>\n",
              "      <td>NaN</td>\n",
              "      <td>NaN</td>\n",
              "      <td>NaN</td>\n",
              "      <td>NaN</td>\n",
              "      <td>NaN</td>\n",
              "      <td>NaN</td>\n",
              "      <td>NaN</td>\n",
              "    </tr>\n",
              "    <tr>\n",
              "      <th>3</th>\n",
              "      <td>2014-04-01</td>\n",
              "      <td>2014</td>\n",
              "      <td>4</td>\n",
              "      <td>28.0</td>\n",
              "      <td>0.00045</td>\n",
              "      <td>0.0206</td>\n",
              "      <td>0.3</td>\n",
              "      <td>NaN</td>\n",
              "      <td>250.0</td>\n",
              "      <td>NaN</td>\n",
              "      <td>135.0</td>\n",
              "      <td>NaN</td>\n",
              "      <td>NaN</td>\n",
              "      <td>NaN</td>\n",
              "      <td>7.51</td>\n",
              "      <td>1894.0</td>\n",
              "      <td>12720.0</td>\n",
              "      <td>0.58501</td>\n",
              "      <td>0.02043</td>\n",
              "      <td>0.23177</td>\n",
              "      <td>0.14224</td>\n",
              "      <td>51.0</td>\n",
              "      <td>1440.0</td>\n",
              "      <td>0.1497</td>\n",
              "      <td>0.1497</td>\n",
              "      <td>7561.75</td>\n",
              "      <td>14614.0</td>\n",
              "      <td>0.0</td>\n",
              "      <td>0.0</td>\n",
              "      <td>0.0</td>\n",
              "    </tr>\n",
              "    <tr>\n",
              "      <th>4</th>\n",
              "      <td>2014-05-01</td>\n",
              "      <td>2014</td>\n",
              "      <td>5</td>\n",
              "      <td>NaN</td>\n",
              "      <td>NaN</td>\n",
              "      <td>NaN</td>\n",
              "      <td>NaN</td>\n",
              "      <td>NaN</td>\n",
              "      <td>NaN</td>\n",
              "      <td>NaN</td>\n",
              "      <td>NaN</td>\n",
              "      <td>NaN</td>\n",
              "      <td>NaN</td>\n",
              "      <td>NaN</td>\n",
              "      <td>NaN</td>\n",
              "      <td>NaN</td>\n",
              "      <td>NaN</td>\n",
              "      <td>NaN</td>\n",
              "      <td>NaN</td>\n",
              "      <td>NaN</td>\n",
              "      <td>NaN</td>\n",
              "      <td>NaN</td>\n",
              "      <td>NaN</td>\n",
              "      <td>NaN</td>\n",
              "      <td>NaN</td>\n",
              "      <td>NaN</td>\n",
              "      <td>NaN</td>\n",
              "      <td>NaN</td>\n",
              "      <td>NaN</td>\n",
              "      <td>NaN</td>\n",
              "    </tr>\n",
              "  </tbody>\n",
              "</table>\n",
              "</div>"
            ],
            "text/plain": [
              "        DATA   ANO  MÊS  ...  Acrescimo_Bamar  Acrescimo_Bverm1  Acrescimo_Bverm2\n",
              "0 2014-01-01  2014    1  ...              NaN               NaN               NaN\n",
              "1 2014-02-01  2014    2  ...              NaN               NaN               NaN\n",
              "2 2014-03-01  2014    3  ...              NaN               NaN               NaN\n",
              "3 2014-04-01  2014    4  ...              0.0               0.0               0.0\n",
              "4 2014-05-01  2014    5  ...              NaN               NaN               NaN\n",
              "\n",
              "[5 rows x 30 columns]"
            ]
          },
          "metadata": {
            "tags": []
          },
          "execution_count": 11
        }
      ]
    },
    {
      "cell_type": "code",
      "metadata": {
        "id": "iYfcLR1cfxoS",
        "colab": {
          "base_uri": "https://localhost:8080/",
          "height": 378
        },
        "outputId": "2f0a55ab-8131-40c1-a9af-0c38055b7235"
      },
      "source": [
        "UC2.head()"
      ],
      "execution_count": 12,
      "outputs": [
        {
          "output_type": "execute_result",
          "data": {
            "text/html": [
              "<div>\n",
              "<style scoped>\n",
              "    .dataframe tbody tr th:only-of-type {\n",
              "        vertical-align: middle;\n",
              "    }\n",
              "\n",
              "    .dataframe tbody tr th {\n",
              "        vertical-align: top;\n",
              "    }\n",
              "\n",
              "    .dataframe thead th {\n",
              "        text-align: right;\n",
              "    }\n",
              "</style>\n",
              "<table border=\"1\" class=\"dataframe\">\n",
              "  <thead>\n",
              "    <tr style=\"text-align: right;\">\n",
              "      <th></th>\n",
              "      <th>DATA</th>\n",
              "      <th>ANO</th>\n",
              "      <th>MÊS</th>\n",
              "      <th>PERÍODO</th>\n",
              "      <th>PIS/PASEP</th>\n",
              "      <th>COFINS</th>\n",
              "      <th>ICMS</th>\n",
              "      <th>DEMANDA_CONTRATADA_P</th>\n",
              "      <th>DEMANDA_CONTRATADA_FP</th>\n",
              "      <th>DEMANDA_REGISTRADA_P</th>\n",
              "      <th>DEMANDA_REGISTRADA_FP</th>\n",
              "      <th>DEMANDA_ISENTA_P</th>\n",
              "      <th>DEMANDA_ISENTA_FP</th>\n",
              "      <th>TAR_TUSD_KW_P</th>\n",
              "      <th>TAR_TUSD_KW_FP</th>\n",
              "      <th>ENERGIA_PONTA</th>\n",
              "      <th>ENERGIA_FPONTA</th>\n",
              "      <th>TAR_TUSD_KWH_P</th>\n",
              "      <th>TAR_TUSD_KWH_FP</th>\n",
              "      <th>TAR_TE_KWH_P</th>\n",
              "      <th>TAR_TE_KWH_FP</th>\n",
              "      <th>REAT_KVAR_PONTA</th>\n",
              "      <th>REAT_KVAR_FPONTA</th>\n",
              "      <th>TAR_REAT_FPONTA</th>\n",
              "      <th>TAR_REAT_FPONTA.1</th>\n",
              "      <th>Valor da Fatura</th>\n",
              "      <th>Consumo Total</th>\n",
              "      <th>Acrescimo_Bamar</th>\n",
              "      <th>Acrescimo_Bverm1</th>\n",
              "      <th>Acrescimo_Bverm2</th>\n",
              "    </tr>\n",
              "  </thead>\n",
              "  <tbody>\n",
              "    <tr>\n",
              "      <th>0</th>\n",
              "      <td>-set-2013</td>\n",
              "      <td>2013</td>\n",
              "      <td>9</td>\n",
              "      <td>35.0</td>\n",
              "      <td>0.0067</td>\n",
              "      <td>0.0306</td>\n",
              "      <td>0.25</td>\n",
              "      <td>NaN</td>\n",
              "      <td>490.0</td>\n",
              "      <td>79.0</td>\n",
              "      <td>92.0</td>\n",
              "      <td>NaN</td>\n",
              "      <td>NaN</td>\n",
              "      <td>NaN</td>\n",
              "      <td>7.51</td>\n",
              "      <td>3229.0</td>\n",
              "      <td>22025.0</td>\n",
              "      <td>0.58501</td>\n",
              "      <td>0.02043</td>\n",
              "      <td>0.23177</td>\n",
              "      <td>0.14224</td>\n",
              "      <td>9.0</td>\n",
              "      <td>622.0</td>\n",
              "      <td>0.210048</td>\n",
              "      <td>0.210048</td>\n",
              "      <td>9133.79</td>\n",
              "      <td>25254.0</td>\n",
              "      <td>0</td>\n",
              "      <td>0.0</td>\n",
              "      <td>0.0</td>\n",
              "    </tr>\n",
              "    <tr>\n",
              "      <th>1</th>\n",
              "      <td>-out-2013</td>\n",
              "      <td>2013</td>\n",
              "      <td>10</td>\n",
              "      <td>30.0</td>\n",
              "      <td>0.0032</td>\n",
              "      <td>0.0149</td>\n",
              "      <td>0.25</td>\n",
              "      <td>NaN</td>\n",
              "      <td>490.0</td>\n",
              "      <td>96.0</td>\n",
              "      <td>110.0</td>\n",
              "      <td>NaN</td>\n",
              "      <td>NaN</td>\n",
              "      <td>NaN</td>\n",
              "      <td>7.51</td>\n",
              "      <td>3983.0</td>\n",
              "      <td>23368.0</td>\n",
              "      <td>0.58501</td>\n",
              "      <td>0.02043</td>\n",
              "      <td>0.23177</td>\n",
              "      <td>0.14224</td>\n",
              "      <td>17.0</td>\n",
              "      <td>704.0</td>\n",
              "      <td>0.204531</td>\n",
              "      <td>0.204531</td>\n",
              "      <td>10915.6</td>\n",
              "      <td>27351.0</td>\n",
              "      <td>0</td>\n",
              "      <td>0.0</td>\n",
              "      <td>0.0</td>\n",
              "    </tr>\n",
              "    <tr>\n",
              "      <th>2</th>\n",
              "      <td>-nov-2013</td>\n",
              "      <td>2013</td>\n",
              "      <td>11</td>\n",
              "      <td>32.0</td>\n",
              "      <td>0.0057</td>\n",
              "      <td>0.0262</td>\n",
              "      <td>0.25</td>\n",
              "      <td>NaN</td>\n",
              "      <td>490.0</td>\n",
              "      <td>118.0</td>\n",
              "      <td>106.0</td>\n",
              "      <td>NaN</td>\n",
              "      <td>NaN</td>\n",
              "      <td>NaN</td>\n",
              "      <td>7.51</td>\n",
              "      <td>4434.0</td>\n",
              "      <td>34048.0</td>\n",
              "      <td>0.58501</td>\n",
              "      <td>0.02043</td>\n",
              "      <td>0.23177</td>\n",
              "      <td>0.14224</td>\n",
              "      <td>13.0</td>\n",
              "      <td>864.0</td>\n",
              "      <td>0.208472</td>\n",
              "      <td>0.208472</td>\n",
              "      <td>13345.8</td>\n",
              "      <td>38482.0</td>\n",
              "      <td>0</td>\n",
              "      <td>0.0</td>\n",
              "      <td>0.0</td>\n",
              "    </tr>\n",
              "    <tr>\n",
              "      <th>3</th>\n",
              "      <td>-dez-2013</td>\n",
              "      <td>2013</td>\n",
              "      <td>12</td>\n",
              "      <td>27.0</td>\n",
              "      <td>0.0047</td>\n",
              "      <td>0.0215</td>\n",
              "      <td>0.25</td>\n",
              "      <td>NaN</td>\n",
              "      <td>250.0</td>\n",
              "      <td>96.0</td>\n",
              "      <td>166.0</td>\n",
              "      <td>NaN</td>\n",
              "      <td>NaN</td>\n",
              "      <td>NaN</td>\n",
              "      <td>7.51</td>\n",
              "      <td>3875.0</td>\n",
              "      <td>28928.0</td>\n",
              "      <td>0.58501</td>\n",
              "      <td>0.02043</td>\n",
              "      <td>0.23177</td>\n",
              "      <td>0.14224</td>\n",
              "      <td>0.0</td>\n",
              "      <td>519.0</td>\n",
              "      <td>0.153719</td>\n",
              "      <td>0.153719</td>\n",
              "      <td>12712.2</td>\n",
              "      <td>32803.0</td>\n",
              "      <td>0</td>\n",
              "      <td>0.0</td>\n",
              "      <td>0.0</td>\n",
              "    </tr>\n",
              "    <tr>\n",
              "      <th>4</th>\n",
              "      <td>-jan-2014</td>\n",
              "      <td>2014</td>\n",
              "      <td>1</td>\n",
              "      <td>30.0</td>\n",
              "      <td>0.0069</td>\n",
              "      <td>0.0317</td>\n",
              "      <td>0.25</td>\n",
              "      <td>NaN</td>\n",
              "      <td>250.0</td>\n",
              "      <td>NaN</td>\n",
              "      <td>NaN</td>\n",
              "      <td>NaN</td>\n",
              "      <td>NaN</td>\n",
              "      <td>NaN</td>\n",
              "      <td>7.51</td>\n",
              "      <td>3550.0</td>\n",
              "      <td>31264.0</td>\n",
              "      <td>0.58501</td>\n",
              "      <td>0.02043</td>\n",
              "      <td>0.23177</td>\n",
              "      <td>0.14224</td>\n",
              "      <td>25.0</td>\n",
              "      <td>800.0</td>\n",
              "      <td>0.149700</td>\n",
              "      <td>0.149700</td>\n",
              "      <td>13121.3</td>\n",
              "      <td>34814.0</td>\n",
              "      <td>0</td>\n",
              "      <td>0.0</td>\n",
              "      <td>0.0</td>\n",
              "    </tr>\n",
              "  </tbody>\n",
              "</table>\n",
              "</div>"
            ],
            "text/plain": [
              "        DATA   ANO  MÊS  ...  Acrescimo_Bamar  Acrescimo_Bverm1  Acrescimo_Bverm2\n",
              "0  -set-2013  2013    9  ...                0               0.0               0.0\n",
              "1  -out-2013  2013   10  ...                0               0.0               0.0\n",
              "2  -nov-2013  2013   11  ...                0               0.0               0.0\n",
              "3  -dez-2013  2013   12  ...                0               0.0               0.0\n",
              "4  -jan-2014  2014    1  ...                0               0.0               0.0\n",
              "\n",
              "[5 rows x 30 columns]"
            ]
          },
          "metadata": {
            "tags": []
          },
          "execution_count": 12
        }
      ]
    },
    {
      "cell_type": "code",
      "metadata": {
        "id": "tRxfAAgjfz4M",
        "colab": {
          "base_uri": "https://localhost:8080/",
          "height": 344
        },
        "outputId": "bbfba432-f229-4e78-c543-2b23036dca18"
      },
      "source": [
        "UC3.head()"
      ],
      "execution_count": 13,
      "outputs": [
        {
          "output_type": "execute_result",
          "data": {
            "text/html": [
              "<div>\n",
              "<style scoped>\n",
              "    .dataframe tbody tr th:only-of-type {\n",
              "        vertical-align: middle;\n",
              "    }\n",
              "\n",
              "    .dataframe tbody tr th {\n",
              "        vertical-align: top;\n",
              "    }\n",
              "\n",
              "    .dataframe thead th {\n",
              "        text-align: right;\n",
              "    }\n",
              "</style>\n",
              "<table border=\"1\" class=\"dataframe\">\n",
              "  <thead>\n",
              "    <tr style=\"text-align: right;\">\n",
              "      <th></th>\n",
              "      <th>DATA</th>\n",
              "      <th>ANO</th>\n",
              "      <th>MÊS</th>\n",
              "      <th>PERÍODO</th>\n",
              "      <th>PIS/PASEP</th>\n",
              "      <th>COFINS</th>\n",
              "      <th>ICMS</th>\n",
              "      <th>DEMANDA_CONTRATADA_P</th>\n",
              "      <th>DEMANDA_CONTRATADA_FP</th>\n",
              "      <th>DEMANDA_REGISTRADA_P</th>\n",
              "      <th>DEMANDA_REGISTRADA_FP</th>\n",
              "      <th>DEMANDA_ISENTA_P</th>\n",
              "      <th>DEMANDA_ISENTA_FP</th>\n",
              "      <th>TAR_TUSD_KW_P</th>\n",
              "      <th>TAR_TUSD_KW_FP</th>\n",
              "      <th>ENERGIA_PONTA</th>\n",
              "      <th>ENERGIA_FPONTA</th>\n",
              "      <th>TAR_TUSD_KWH_P</th>\n",
              "      <th>TAR_TUSD_KWH_FP</th>\n",
              "      <th>TAR_TE_KWH_P</th>\n",
              "      <th>TAR_TE_KWH_FP</th>\n",
              "      <th>REAT_KVAR_PONTA</th>\n",
              "      <th>REAT_KVAR_FPONTA</th>\n",
              "      <th>TAR_REAT_PONTA</th>\n",
              "      <th>TAR_REAT_FPONTA</th>\n",
              "      <th>Valor da Fatura</th>\n",
              "      <th>Consumo Total</th>\n",
              "      <th>Acrescimo_Bamar</th>\n",
              "      <th>Acrescimo_Bverm1</th>\n",
              "      <th>Acrescimo_Bverm2</th>\n",
              "    </tr>\n",
              "  </thead>\n",
              "  <tbody>\n",
              "    <tr>\n",
              "      <th>0</th>\n",
              "      <td>2013-01-01</td>\n",
              "      <td>2013</td>\n",
              "      <td>1</td>\n",
              "      <td>NaN</td>\n",
              "      <td>NaN</td>\n",
              "      <td>NaN</td>\n",
              "      <td>0.25</td>\n",
              "      <td>NaN</td>\n",
              "      <td>NaN</td>\n",
              "      <td>NaN</td>\n",
              "      <td>NaN</td>\n",
              "      <td>NaN</td>\n",
              "      <td>NaN</td>\n",
              "      <td>NaN</td>\n",
              "      <td>NaN</td>\n",
              "      <td>NaN</td>\n",
              "      <td>NaN</td>\n",
              "      <td>NaN</td>\n",
              "      <td>NaN</td>\n",
              "      <td>NaN</td>\n",
              "      <td>NaN</td>\n",
              "      <td>NaN</td>\n",
              "      <td>NaN</td>\n",
              "      <td>NaN</td>\n",
              "      <td>NaN</td>\n",
              "      <td>NaN</td>\n",
              "      <td>NaN</td>\n",
              "      <td>NaN</td>\n",
              "      <td>NaN</td>\n",
              "      <td>NaN</td>\n",
              "    </tr>\n",
              "    <tr>\n",
              "      <th>1</th>\n",
              "      <td>2013-02-01</td>\n",
              "      <td>2013</td>\n",
              "      <td>2</td>\n",
              "      <td>NaN</td>\n",
              "      <td>NaN</td>\n",
              "      <td>NaN</td>\n",
              "      <td>0.25</td>\n",
              "      <td>NaN</td>\n",
              "      <td>NaN</td>\n",
              "      <td>NaN</td>\n",
              "      <td>NaN</td>\n",
              "      <td>NaN</td>\n",
              "      <td>NaN</td>\n",
              "      <td>NaN</td>\n",
              "      <td>NaN</td>\n",
              "      <td>NaN</td>\n",
              "      <td>NaN</td>\n",
              "      <td>NaN</td>\n",
              "      <td>NaN</td>\n",
              "      <td>NaN</td>\n",
              "      <td>NaN</td>\n",
              "      <td>NaN</td>\n",
              "      <td>NaN</td>\n",
              "      <td>NaN</td>\n",
              "      <td>NaN</td>\n",
              "      <td>NaN</td>\n",
              "      <td>NaN</td>\n",
              "      <td>NaN</td>\n",
              "      <td>NaN</td>\n",
              "      <td>NaN</td>\n",
              "    </tr>\n",
              "    <tr>\n",
              "      <th>2</th>\n",
              "      <td>2013-03-01</td>\n",
              "      <td>2013</td>\n",
              "      <td>3</td>\n",
              "      <td>33.0</td>\n",
              "      <td>0.0</td>\n",
              "      <td>0.0</td>\n",
              "      <td>0.25</td>\n",
              "      <td>NaN</td>\n",
              "      <td>NaN</td>\n",
              "      <td>NaN</td>\n",
              "      <td>NaN</td>\n",
              "      <td>NaN</td>\n",
              "      <td>NaN</td>\n",
              "      <td>NaN</td>\n",
              "      <td>NaN</td>\n",
              "      <td>NaN</td>\n",
              "      <td>NaN</td>\n",
              "      <td>NaN</td>\n",
              "      <td>0.539353</td>\n",
              "      <td>NaN</td>\n",
              "      <td>NaN</td>\n",
              "      <td>NaN</td>\n",
              "      <td>NaN</td>\n",
              "      <td>NaN</td>\n",
              "      <td>NaN</td>\n",
              "      <td>635.65</td>\n",
              "      <td>1160.0</td>\n",
              "      <td>NaN</td>\n",
              "      <td>NaN</td>\n",
              "      <td>NaN</td>\n",
              "    </tr>\n",
              "    <tr>\n",
              "      <th>3</th>\n",
              "      <td>2013-04-01</td>\n",
              "      <td>2013</td>\n",
              "      <td>4</td>\n",
              "      <td>NaN</td>\n",
              "      <td>NaN</td>\n",
              "      <td>NaN</td>\n",
              "      <td>0.25</td>\n",
              "      <td>NaN</td>\n",
              "      <td>NaN</td>\n",
              "      <td>NaN</td>\n",
              "      <td>NaN</td>\n",
              "      <td>NaN</td>\n",
              "      <td>NaN</td>\n",
              "      <td>NaN</td>\n",
              "      <td>NaN</td>\n",
              "      <td>NaN</td>\n",
              "      <td>NaN</td>\n",
              "      <td>NaN</td>\n",
              "      <td>NaN</td>\n",
              "      <td>NaN</td>\n",
              "      <td>NaN</td>\n",
              "      <td>NaN</td>\n",
              "      <td>NaN</td>\n",
              "      <td>NaN</td>\n",
              "      <td>NaN</td>\n",
              "      <td>NaN</td>\n",
              "      <td>NaN</td>\n",
              "      <td>NaN</td>\n",
              "      <td>NaN</td>\n",
              "      <td>NaN</td>\n",
              "    </tr>\n",
              "    <tr>\n",
              "      <th>4</th>\n",
              "      <td>2013-05-01</td>\n",
              "      <td>2013</td>\n",
              "      <td>5</td>\n",
              "      <td>NaN</td>\n",
              "      <td>NaN</td>\n",
              "      <td>NaN</td>\n",
              "      <td>0.25</td>\n",
              "      <td>NaN</td>\n",
              "      <td>NaN</td>\n",
              "      <td>NaN</td>\n",
              "      <td>NaN</td>\n",
              "      <td>NaN</td>\n",
              "      <td>NaN</td>\n",
              "      <td>NaN</td>\n",
              "      <td>NaN</td>\n",
              "      <td>NaN</td>\n",
              "      <td>NaN</td>\n",
              "      <td>NaN</td>\n",
              "      <td>NaN</td>\n",
              "      <td>NaN</td>\n",
              "      <td>NaN</td>\n",
              "      <td>NaN</td>\n",
              "      <td>NaN</td>\n",
              "      <td>NaN</td>\n",
              "      <td>NaN</td>\n",
              "      <td>NaN</td>\n",
              "      <td>NaN</td>\n",
              "      <td>NaN</td>\n",
              "      <td>NaN</td>\n",
              "      <td>NaN</td>\n",
              "    </tr>\n",
              "  </tbody>\n",
              "</table>\n",
              "</div>"
            ],
            "text/plain": [
              "        DATA   ANO  MÊS  ...  Acrescimo_Bamar  Acrescimo_Bverm1  Acrescimo_Bverm2\n",
              "0 2013-01-01  2013    1  ...              NaN               NaN               NaN\n",
              "1 2013-02-01  2013    2  ...              NaN               NaN               NaN\n",
              "2 2013-03-01  2013    3  ...              NaN               NaN               NaN\n",
              "3 2013-04-01  2013    4  ...              NaN               NaN               NaN\n",
              "4 2013-05-01  2013    5  ...              NaN               NaN               NaN\n",
              "\n",
              "[5 rows x 30 columns]"
            ]
          },
          "metadata": {
            "tags": []
          },
          "execution_count": 13
        }
      ]
    },
    {
      "cell_type": "code",
      "metadata": {
        "id": "kxG7xhAgf0My",
        "colab": {
          "base_uri": "https://localhost:8080/",
          "height": 378
        },
        "outputId": "4b29fae5-d35a-4b47-85ac-7f0aea3130f6"
      },
      "source": [
        "UC4.head()"
      ],
      "execution_count": 14,
      "outputs": [
        {
          "output_type": "execute_result",
          "data": {
            "text/html": [
              "<div>\n",
              "<style scoped>\n",
              "    .dataframe tbody tr th:only-of-type {\n",
              "        vertical-align: middle;\n",
              "    }\n",
              "\n",
              "    .dataframe tbody tr th {\n",
              "        vertical-align: top;\n",
              "    }\n",
              "\n",
              "    .dataframe thead th {\n",
              "        text-align: right;\n",
              "    }\n",
              "</style>\n",
              "<table border=\"1\" class=\"dataframe\">\n",
              "  <thead>\n",
              "    <tr style=\"text-align: right;\">\n",
              "      <th></th>\n",
              "      <th>DATA</th>\n",
              "      <th>ANO</th>\n",
              "      <th>MÊS</th>\n",
              "      <th>PERÍODO</th>\n",
              "      <th>PIS/PASEP</th>\n",
              "      <th>COFINS</th>\n",
              "      <th>ICMS</th>\n",
              "      <th>DEMANDA_CONTRATADA_P</th>\n",
              "      <th>DEMANDA_CONTRATADA_FP</th>\n",
              "      <th>DEMANDA_REGISTRADA_P</th>\n",
              "      <th>DEMANDA_REGISTRADA_FP</th>\n",
              "      <th>DEMANDA_ISENTA_P</th>\n",
              "      <th>DEMANDA_ISENTA_FP</th>\n",
              "      <th>TAR_TUSD_KW_P</th>\n",
              "      <th>TAR_TUSD_KW_FP</th>\n",
              "      <th>ENERGIA_PONTA</th>\n",
              "      <th>ENERGIA_FPONTA</th>\n",
              "      <th>TAR_TUSD_KWH_P</th>\n",
              "      <th>TAR_TUSD_KWH_FP</th>\n",
              "      <th>TAR_TE_KWH_P</th>\n",
              "      <th>TAR_TE_KWH_FP</th>\n",
              "      <th>REAT_KVAR_PONTA</th>\n",
              "      <th>REAT_KVAR_FPONTA</th>\n",
              "      <th>TAR_REAT_PONTA</th>\n",
              "      <th>TAR_REAT_FPONTA</th>\n",
              "      <th>Valor da Fatura</th>\n",
              "      <th>Consumo Total</th>\n",
              "      <th>Acrescimo_Bamar</th>\n",
              "      <th>Acrescimo_Bverm1</th>\n",
              "      <th>Acrescimo_Bverm2</th>\n",
              "    </tr>\n",
              "  </thead>\n",
              "  <tbody>\n",
              "    <tr>\n",
              "      <th>0</th>\n",
              "      <td>-mar-2010</td>\n",
              "      <td>2010</td>\n",
              "      <td>3</td>\n",
              "      <td>21.0</td>\n",
              "      <td>NaN</td>\n",
              "      <td>0.063063</td>\n",
              "      <td>0.25</td>\n",
              "      <td>NaN</td>\n",
              "      <td>NaN</td>\n",
              "      <td>NaN</td>\n",
              "      <td>NaN</td>\n",
              "      <td>NaN</td>\n",
              "      <td>NaN</td>\n",
              "      <td>NaN</td>\n",
              "      <td>NaN</td>\n",
              "      <td>NaN</td>\n",
              "      <td>0.0</td>\n",
              "      <td>NaN</td>\n",
              "      <td>NaN</td>\n",
              "      <td>NaN</td>\n",
              "      <td>0.167557</td>\n",
              "      <td>0.0</td>\n",
              "      <td>0.0</td>\n",
              "      <td>NaN</td>\n",
              "      <td>NaN</td>\n",
              "      <td>50.17</td>\n",
              "      <td>0.0</td>\n",
              "      <td>0.0</td>\n",
              "      <td>0.0</td>\n",
              "      <td>0.0</td>\n",
              "    </tr>\n",
              "    <tr>\n",
              "      <th>1</th>\n",
              "      <td>-abr-2010</td>\n",
              "      <td>2010</td>\n",
              "      <td>4</td>\n",
              "      <td>30.0</td>\n",
              "      <td>NaN</td>\n",
              "      <td>0.055951</td>\n",
              "      <td>0.25</td>\n",
              "      <td>NaN</td>\n",
              "      <td>NaN</td>\n",
              "      <td>NaN</td>\n",
              "      <td>NaN</td>\n",
              "      <td>NaN</td>\n",
              "      <td>NaN</td>\n",
              "      <td>NaN</td>\n",
              "      <td>NaN</td>\n",
              "      <td>NaN</td>\n",
              "      <td>120.0</td>\n",
              "      <td>NaN</td>\n",
              "      <td>NaN</td>\n",
              "      <td>NaN</td>\n",
              "      <td>0.167557</td>\n",
              "      <td>0.0</td>\n",
              "      <td>0.0</td>\n",
              "      <td>NaN</td>\n",
              "      <td>NaN</td>\n",
              "      <td>59.57</td>\n",
              "      <td>120.0</td>\n",
              "      <td>0.0</td>\n",
              "      <td>0.0</td>\n",
              "      <td>0.0</td>\n",
              "    </tr>\n",
              "    <tr>\n",
              "      <th>2</th>\n",
              "      <td>-mai-2010</td>\n",
              "      <td>2010</td>\n",
              "      <td>5</td>\n",
              "      <td>29.0</td>\n",
              "      <td>NaN</td>\n",
              "      <td>0.043394</td>\n",
              "      <td>0.25</td>\n",
              "      <td>NaN</td>\n",
              "      <td>NaN</td>\n",
              "      <td>NaN</td>\n",
              "      <td>NaN</td>\n",
              "      <td>NaN</td>\n",
              "      <td>NaN</td>\n",
              "      <td>NaN</td>\n",
              "      <td>NaN</td>\n",
              "      <td>NaN</td>\n",
              "      <td>1060.0</td>\n",
              "      <td>NaN</td>\n",
              "      <td>NaN</td>\n",
              "      <td>NaN</td>\n",
              "      <td>0.167557</td>\n",
              "      <td>0.0</td>\n",
              "      <td>0.0</td>\n",
              "      <td>NaN</td>\n",
              "      <td>NaN</td>\n",
              "      <td>516.82</td>\n",
              "      <td>1060.0</td>\n",
              "      <td>0.0</td>\n",
              "      <td>0.0</td>\n",
              "      <td>0.0</td>\n",
              "    </tr>\n",
              "    <tr>\n",
              "      <th>3</th>\n",
              "      <td>-jun-2010</td>\n",
              "      <td>2010</td>\n",
              "      <td>6</td>\n",
              "      <td>32.0</td>\n",
              "      <td>NaN</td>\n",
              "      <td>0.050998</td>\n",
              "      <td>0.25</td>\n",
              "      <td>NaN</td>\n",
              "      <td>NaN</td>\n",
              "      <td>NaN</td>\n",
              "      <td>NaN</td>\n",
              "      <td>NaN</td>\n",
              "      <td>NaN</td>\n",
              "      <td>NaN</td>\n",
              "      <td>NaN</td>\n",
              "      <td>NaN</td>\n",
              "      <td>860.0</td>\n",
              "      <td>NaN</td>\n",
              "      <td>NaN</td>\n",
              "      <td>NaN</td>\n",
              "      <td>0.169197</td>\n",
              "      <td>0.0</td>\n",
              "      <td>0.0</td>\n",
              "      <td>NaN</td>\n",
              "      <td>NaN</td>\n",
              "      <td>426.47</td>\n",
              "      <td>860.0</td>\n",
              "      <td>0.0</td>\n",
              "      <td>0.0</td>\n",
              "      <td>0.0</td>\n",
              "    </tr>\n",
              "    <tr>\n",
              "      <th>4</th>\n",
              "      <td>-jul-2010</td>\n",
              "      <td>2010</td>\n",
              "      <td>7</td>\n",
              "      <td>31.0</td>\n",
              "      <td>NaN</td>\n",
              "      <td>0.063483</td>\n",
              "      <td>0.25</td>\n",
              "      <td>NaN</td>\n",
              "      <td>NaN</td>\n",
              "      <td>NaN</td>\n",
              "      <td>NaN</td>\n",
              "      <td>NaN</td>\n",
              "      <td>NaN</td>\n",
              "      <td>NaN</td>\n",
              "      <td>NaN</td>\n",
              "      <td>NaN</td>\n",
              "      <td>760.0</td>\n",
              "      <td>NaN</td>\n",
              "      <td>NaN</td>\n",
              "      <td>NaN</td>\n",
              "      <td>0.180679</td>\n",
              "      <td>0.0</td>\n",
              "      <td>0.0</td>\n",
              "      <td>NaN</td>\n",
              "      <td>NaN</td>\n",
              "      <td>399.99</td>\n",
              "      <td>760.0</td>\n",
              "      <td>0.0</td>\n",
              "      <td>0.0</td>\n",
              "      <td>0.0</td>\n",
              "    </tr>\n",
              "  </tbody>\n",
              "</table>\n",
              "</div>"
            ],
            "text/plain": [
              "        DATA   ANO  MÊS  ...  Acrescimo_Bamar  Acrescimo_Bverm1  Acrescimo_Bverm2\n",
              "0  -mar-2010  2010    3  ...              0.0               0.0               0.0\n",
              "1  -abr-2010  2010    4  ...              0.0               0.0               0.0\n",
              "2  -mai-2010  2010    5  ...              0.0               0.0               0.0\n",
              "3  -jun-2010  2010    6  ...              0.0               0.0               0.0\n",
              "4  -jul-2010  2010    7  ...              0.0               0.0               0.0\n",
              "\n",
              "[5 rows x 30 columns]"
            ]
          },
          "metadata": {
            "tags": []
          },
          "execution_count": 14
        }
      ]
    },
    {
      "cell_type": "code",
      "metadata": {
        "id": "1NxvR27Kf0dH",
        "colab": {
          "base_uri": "https://localhost:8080/",
          "height": 344
        },
        "outputId": "356c6e63-d712-4303-b805-6f1121d08041"
      },
      "source": [
        "UC5.head()"
      ],
      "execution_count": 15,
      "outputs": [
        {
          "output_type": "execute_result",
          "data": {
            "text/html": [
              "<div>\n",
              "<style scoped>\n",
              "    .dataframe tbody tr th:only-of-type {\n",
              "        vertical-align: middle;\n",
              "    }\n",
              "\n",
              "    .dataframe tbody tr th {\n",
              "        vertical-align: top;\n",
              "    }\n",
              "\n",
              "    .dataframe thead th {\n",
              "        text-align: right;\n",
              "    }\n",
              "</style>\n",
              "<table border=\"1\" class=\"dataframe\">\n",
              "  <thead>\n",
              "    <tr style=\"text-align: right;\">\n",
              "      <th></th>\n",
              "      <th>DATA</th>\n",
              "      <th>ANO</th>\n",
              "      <th>MÊS</th>\n",
              "      <th>PERÍODO</th>\n",
              "      <th>PIS/PASEP</th>\n",
              "      <th>COFINS</th>\n",
              "      <th>ICMS</th>\n",
              "      <th>DEMANDA_CONTRATADA_P</th>\n",
              "      <th>DEMANDA_CONTRATADA_FP</th>\n",
              "      <th>DEMANDA_REGISTRADA_P</th>\n",
              "      <th>DEMANDA_REGISTRADA_FP</th>\n",
              "      <th>DEMANDA_ISENTA_P</th>\n",
              "      <th>DEMANDA_ISENTA_FP</th>\n",
              "      <th>TAR_TUSD_KW_P</th>\n",
              "      <th>TAR_TUSD_KW_FP</th>\n",
              "      <th>ENERGIA_PONTA</th>\n",
              "      <th>ENERGIA_FPONTA</th>\n",
              "      <th>TAR_TUSD_KWH_P</th>\n",
              "      <th>TAR_TUSD_KWH_FP</th>\n",
              "      <th>TAR_TE_KWH_P</th>\n",
              "      <th>TAR_TE_KWH_FP</th>\n",
              "      <th>REAT_KVAR_PONTA</th>\n",
              "      <th>REAT_KVAR_FPONTA</th>\n",
              "      <th>TAR_REAT_PONTA</th>\n",
              "      <th>TAR_REAT_FPONTA</th>\n",
              "      <th>Valor da Fatura</th>\n",
              "      <th>Consumo Total</th>\n",
              "      <th>Acrescimo_Bamar</th>\n",
              "      <th>Acrescimo_Bverm1</th>\n",
              "      <th>Acrescimo_Bverm2</th>\n",
              "    </tr>\n",
              "  </thead>\n",
              "  <tbody>\n",
              "    <tr>\n",
              "      <th>0</th>\n",
              "      <td>2014-01-01</td>\n",
              "      <td>2014</td>\n",
              "      <td>1</td>\n",
              "      <td>29</td>\n",
              "      <td>0.008</td>\n",
              "      <td>0.037</td>\n",
              "      <td>0.29</td>\n",
              "      <td>NaN</td>\n",
              "      <td>553,19</td>\n",
              "      <td>118.08</td>\n",
              "      <td>108.00</td>\n",
              "      <td>NaN</td>\n",
              "      <td>0.00</td>\n",
              "      <td>NaN</td>\n",
              "      <td>5.49</td>\n",
              "      <td>1845</td>\n",
              "      <td>17525</td>\n",
              "      <td>0.45028</td>\n",
              "      <td>0.01751</td>\n",
              "      <td>0.218</td>\n",
              "      <td>0.13276</td>\n",
              "      <td>54</td>\n",
              "      <td>1265</td>\n",
              "      <td>0.13987</td>\n",
              "      <td>0.13987</td>\n",
              "      <td>6436.72</td>\n",
              "      <td>19370</td>\n",
              "      <td>0.0</td>\n",
              "      <td>0.0</td>\n",
              "      <td>0.0</td>\n",
              "    </tr>\n",
              "    <tr>\n",
              "      <th>1</th>\n",
              "      <td>2014-02-01</td>\n",
              "      <td>2014</td>\n",
              "      <td>2</td>\n",
              "      <td>31</td>\n",
              "      <td>0.008</td>\n",
              "      <td>0.037</td>\n",
              "      <td>0.29</td>\n",
              "      <td>NaN</td>\n",
              "      <td>227</td>\n",
              "      <td>61.92</td>\n",
              "      <td>60.48</td>\n",
              "      <td>NaN</td>\n",
              "      <td>165.08</td>\n",
              "      <td>NaN</td>\n",
              "      <td>5.49</td>\n",
              "      <td>2485</td>\n",
              "      <td>20233</td>\n",
              "      <td>0.45028</td>\n",
              "      <td>0.01751</td>\n",
              "      <td>0.218</td>\n",
              "      <td>0.13276</td>\n",
              "      <td>11</td>\n",
              "      <td>804</td>\n",
              "      <td>0.13987</td>\n",
              "      <td>0.13987</td>\n",
              "      <td>8236.73</td>\n",
              "      <td>22718</td>\n",
              "      <td>0.0</td>\n",
              "      <td>0.0</td>\n",
              "      <td>0.0</td>\n",
              "    </tr>\n",
              "    <tr>\n",
              "      <th>2</th>\n",
              "      <td>2014-03-01</td>\n",
              "      <td>2014</td>\n",
              "      <td>3</td>\n",
              "      <td>28</td>\n",
              "      <td>0.008</td>\n",
              "      <td>0.037</td>\n",
              "      <td>0.29</td>\n",
              "      <td>NaN</td>\n",
              "      <td>227</td>\n",
              "      <td>61.92</td>\n",
              "      <td>60.48</td>\n",
              "      <td>NaN</td>\n",
              "      <td>165.08</td>\n",
              "      <td>NaN</td>\n",
              "      <td>5.49</td>\n",
              "      <td>2160</td>\n",
              "      <td>18505</td>\n",
              "      <td>0.45028</td>\n",
              "      <td>0.01751</td>\n",
              "      <td>0.218</td>\n",
              "      <td>0.13276</td>\n",
              "      <td>37</td>\n",
              "      <td>833</td>\n",
              "      <td>0.13987</td>\n",
              "      <td>0.13987</td>\n",
              "      <td>7572.5</td>\n",
              "      <td>20665</td>\n",
              "      <td>0.0</td>\n",
              "      <td>0.0</td>\n",
              "      <td>0.0</td>\n",
              "    </tr>\n",
              "    <tr>\n",
              "      <th>3</th>\n",
              "      <td>2014-04-04</td>\n",
              "      <td>2014</td>\n",
              "      <td>4</td>\n",
              "      <td>31</td>\n",
              "      <td>0.008</td>\n",
              "      <td>0.037</td>\n",
              "      <td>0.29</td>\n",
              "      <td>NaN</td>\n",
              "      <td>227</td>\n",
              "      <td>66.24</td>\n",
              "      <td>64.80</td>\n",
              "      <td>NaN</td>\n",
              "      <td>160.76</td>\n",
              "      <td>NaN</td>\n",
              "      <td>5.49</td>\n",
              "      <td>3362</td>\n",
              "      <td>23250</td>\n",
              "      <td>0.45028</td>\n",
              "      <td>0.01751</td>\n",
              "      <td>0.218</td>\n",
              "      <td>0.13276</td>\n",
              "      <td>0</td>\n",
              "      <td>754</td>\n",
              "      <td>0.13987</td>\n",
              "      <td>0.13987</td>\n",
              "      <td>9874,05</td>\n",
              "      <td>26612</td>\n",
              "      <td>0.0</td>\n",
              "      <td>0.0</td>\n",
              "      <td>0.0</td>\n",
              "    </tr>\n",
              "    <tr>\n",
              "      <th>4</th>\n",
              "      <td>2014-05-05</td>\n",
              "      <td>2014</td>\n",
              "      <td>5</td>\n",
              "      <td>30</td>\n",
              "      <td>0.008</td>\n",
              "      <td>0.037</td>\n",
              "      <td>0.29</td>\n",
              "      <td>NaN</td>\n",
              "      <td>227</td>\n",
              "      <td>69.12</td>\n",
              "      <td>69.12</td>\n",
              "      <td>NaN</td>\n",
              "      <td>157.88</td>\n",
              "      <td>NaN</td>\n",
              "      <td>5.49</td>\n",
              "      <td>3622</td>\n",
              "      <td>22987</td>\n",
              "      <td>0.45028</td>\n",
              "      <td>0.01751</td>\n",
              "      <td>0.218</td>\n",
              "      <td>0.13276</td>\n",
              "      <td>0</td>\n",
              "      <td>676</td>\n",
              "      <td>0.13987</td>\n",
              "      <td>0.13987</td>\n",
              "      <td>9887.89</td>\n",
              "      <td>26609</td>\n",
              "      <td>0.0</td>\n",
              "      <td>0.0</td>\n",
              "      <td>0.0</td>\n",
              "    </tr>\n",
              "  </tbody>\n",
              "</table>\n",
              "</div>"
            ],
            "text/plain": [
              "        DATA   ANO  MÊS  ...  Acrescimo_Bamar  Acrescimo_Bverm1  Acrescimo_Bverm2\n",
              "0 2014-01-01  2014    1  ...              0.0               0.0               0.0\n",
              "1 2014-02-01  2014    2  ...              0.0               0.0               0.0\n",
              "2 2014-03-01  2014    3  ...              0.0               0.0               0.0\n",
              "3 2014-04-04  2014    4  ...              0.0               0.0               0.0\n",
              "4 2014-05-05  2014    5  ...              0.0               0.0               0.0\n",
              "\n",
              "[5 rows x 30 columns]"
            ]
          },
          "metadata": {
            "tags": []
          },
          "execution_count": 15
        }
      ]
    },
    {
      "cell_type": "code",
      "metadata": {
        "id": "pTkUf3Fbf0tH",
        "colab": {
          "base_uri": "https://localhost:8080/",
          "height": 344
        },
        "outputId": "1f8c23fc-27fb-4fd4-8964-a5717d09d7f0"
      },
      "source": [
        "UC6.head()"
      ],
      "execution_count": 16,
      "outputs": [
        {
          "output_type": "execute_result",
          "data": {
            "text/html": [
              "<div>\n",
              "<style scoped>\n",
              "    .dataframe tbody tr th:only-of-type {\n",
              "        vertical-align: middle;\n",
              "    }\n",
              "\n",
              "    .dataframe tbody tr th {\n",
              "        vertical-align: top;\n",
              "    }\n",
              "\n",
              "    .dataframe thead th {\n",
              "        text-align: right;\n",
              "    }\n",
              "</style>\n",
              "<table border=\"1\" class=\"dataframe\">\n",
              "  <thead>\n",
              "    <tr style=\"text-align: right;\">\n",
              "      <th></th>\n",
              "      <th>DATA</th>\n",
              "      <th>ANO</th>\n",
              "      <th>MÊS</th>\n",
              "      <th>PERÍODO</th>\n",
              "      <th>PIS/PASEP</th>\n",
              "      <th>COFINS</th>\n",
              "      <th>ICMS</th>\n",
              "      <th>DEMANDA_CONTRATADA_P</th>\n",
              "      <th>DEMANDA_CONTRATADA_FP</th>\n",
              "      <th>DEMANDA_REGISTRADA_P</th>\n",
              "      <th>DEMANDA_REGISTRADA_FP</th>\n",
              "      <th>DEMANDA_ISENTA_P</th>\n",
              "      <th>DEMANDA_ISENTA_FP</th>\n",
              "      <th>TAR_TUSD_KW_P</th>\n",
              "      <th>TAR_TUSD_KW_FP</th>\n",
              "      <th>ENERGIA_PONTA</th>\n",
              "      <th>ENERGIA_FPONTA</th>\n",
              "      <th>TAR_TUSD_KWH_P</th>\n",
              "      <th>TAR_TUSD_KWH_FP</th>\n",
              "      <th>TAR_TE_KWH_P</th>\n",
              "      <th>TAR_TE_KWH_FP</th>\n",
              "      <th>REAT_KVAR_PONTA</th>\n",
              "      <th>REAT_KVAR_FPONTA</th>\n",
              "      <th>TAR_REAT_PONTA</th>\n",
              "      <th>TAR_REAT_FPONTA</th>\n",
              "      <th>Valor da Fatura</th>\n",
              "      <th>Consumo Total</th>\n",
              "      <th>Acrescimo_Bamar</th>\n",
              "      <th>Acrescimo_Bverm1</th>\n",
              "      <th>Acrescimo_Bverm2</th>\n",
              "    </tr>\n",
              "  </thead>\n",
              "  <tbody>\n",
              "    <tr>\n",
              "      <th>0</th>\n",
              "      <td>2015-07-01</td>\n",
              "      <td>2015</td>\n",
              "      <td>7</td>\n",
              "      <td>30</td>\n",
              "      <td>0.0107</td>\n",
              "      <td>0.0493</td>\n",
              "      <td>0.29</td>\n",
              "      <td>NaN</td>\n",
              "      <td>551</td>\n",
              "      <td>95.04</td>\n",
              "      <td>84.96</td>\n",
              "      <td>NaN</td>\n",
              "      <td>350.84</td>\n",
              "      <td>NaN</td>\n",
              "      <td>6.9</td>\n",
              "      <td>4732</td>\n",
              "      <td>24791</td>\n",
              "      <td>0.60759</td>\n",
              "      <td>0.07556</td>\n",
              "      <td>0.43869</td>\n",
              "      <td>0.26897</td>\n",
              "      <td>0</td>\n",
              "      <td>1630</td>\n",
              "      <td>0.28311</td>\n",
              "      <td>0.28311</td>\n",
              "      <td>25771.53</td>\n",
              "      <td>29523</td>\n",
              "      <td>0.0</td>\n",
              "      <td>2497.91</td>\n",
              "      <td>0.0</td>\n",
              "    </tr>\n",
              "    <tr>\n",
              "      <th>1</th>\n",
              "      <td>2015-08-01</td>\n",
              "      <td>2015</td>\n",
              "      <td>8</td>\n",
              "      <td>31</td>\n",
              "      <td>0.0089</td>\n",
              "      <td>0.0411</td>\n",
              "      <td>0.29</td>\n",
              "      <td>NaN</td>\n",
              "      <td>551</td>\n",
              "      <td>102.24</td>\n",
              "      <td>87.84</td>\n",
              "      <td>NaN</td>\n",
              "      <td>389.72</td>\n",
              "      <td>NaN</td>\n",
              "      <td>6.9</td>\n",
              "      <td>4531</td>\n",
              "      <td>25167</td>\n",
              "      <td>0.60759</td>\n",
              "      <td>0.07556</td>\n",
              "      <td>0.43869</td>\n",
              "      <td>0.26897</td>\n",
              "      <td>43</td>\n",
              "      <td>2484</td>\n",
              "      <td>0.28311</td>\n",
              "      <td>0.28311</td>\n",
              "      <td>26759.13</td>\n",
              "      <td>29698</td>\n",
              "      <td>0.0</td>\n",
              "      <td>2494.25</td>\n",
              "      <td>0.0</td>\n",
              "    </tr>\n",
              "    <tr>\n",
              "      <th>2</th>\n",
              "      <td>2015-09-01</td>\n",
              "      <td>2015</td>\n",
              "      <td>9</td>\n",
              "      <td>31</td>\n",
              "      <td>0.0089</td>\n",
              "      <td>0.0411</td>\n",
              "      <td>0.29</td>\n",
              "      <td>NaN</td>\n",
              "      <td>551</td>\n",
              "      <td>123.84</td>\n",
              "      <td>102.24</td>\n",
              "      <td>NaN</td>\n",
              "      <td>427.16</td>\n",
              "      <td>NaN</td>\n",
              "      <td>6.9</td>\n",
              "      <td>5241</td>\n",
              "      <td>31100</td>\n",
              "      <td>0.60759</td>\n",
              "      <td>0.07556</td>\n",
              "      <td>0.43869</td>\n",
              "      <td>0.26897</td>\n",
              "      <td>0</td>\n",
              "      <td>2032</td>\n",
              "      <td>0.28311</td>\n",
              "      <td>0.28311</td>\n",
              "      <td>30668.28</td>\n",
              "      <td>36341</td>\n",
              "      <td>0.0</td>\n",
              "      <td>2761.97</td>\n",
              "      <td>0.0</td>\n",
              "    </tr>\n",
              "    <tr>\n",
              "      <th>3</th>\n",
              "      <td>2015-10-01</td>\n",
              "      <td>2015</td>\n",
              "      <td>10</td>\n",
              "      <td>30</td>\n",
              "      <td>0.0089</td>\n",
              "      <td>0.0411</td>\n",
              "      <td>0.29</td>\n",
              "      <td>NaN</td>\n",
              "      <td>551</td>\n",
              "      <td>132.48</td>\n",
              "      <td>161.28</td>\n",
              "      <td>NaN</td>\n",
              "      <td>389.72</td>\n",
              "      <td>NaN</td>\n",
              "      <td>6.9</td>\n",
              "      <td>5841</td>\n",
              "      <td>34653</td>\n",
              "      <td>0.60759</td>\n",
              "      <td>0.07556</td>\n",
              "      <td>0.43869</td>\n",
              "      <td>0.26897</td>\n",
              "      <td>12</td>\n",
              "      <td>2251</td>\n",
              "      <td>0.28311</td>\n",
              "      <td>0.28311</td>\n",
              "      <td>33514.86</td>\n",
              "      <td>40494</td>\n",
              "      <td>0.0</td>\n",
              "      <td>2760.94</td>\n",
              "      <td>0.0</td>\n",
              "    </tr>\n",
              "    <tr>\n",
              "      <th>4</th>\n",
              "      <td>2015-11-01</td>\n",
              "      <td>2015</td>\n",
              "      <td>11</td>\n",
              "      <td>31</td>\n",
              "      <td>0.0129</td>\n",
              "      <td>0.0591</td>\n",
              "      <td>0.29</td>\n",
              "      <td>NaN</td>\n",
              "      <td>551</td>\n",
              "      <td>146.88</td>\n",
              "      <td>200.16</td>\n",
              "      <td>NaN</td>\n",
              "      <td>350.84</td>\n",
              "      <td>NaN</td>\n",
              "      <td>6.9</td>\n",
              "      <td>5699</td>\n",
              "      <td>39928</td>\n",
              "      <td>0.60759</td>\n",
              "      <td>0.07556</td>\n",
              "      <td>0.43869</td>\n",
              "      <td>0.26897</td>\n",
              "      <td>82</td>\n",
              "      <td>3260</td>\n",
              "      <td>0.28311</td>\n",
              "      <td>0.28311</td>\n",
              "      <td>37368.30</td>\n",
              "      <td>45627</td>\n",
              "      <td>0.0</td>\n",
              "      <td>3161.92</td>\n",
              "      <td>0.0</td>\n",
              "    </tr>\n",
              "  </tbody>\n",
              "</table>\n",
              "</div>"
            ],
            "text/plain": [
              "        DATA   ANO  MÊS  ...  Acrescimo_Bamar  Acrescimo_Bverm1  Acrescimo_Bverm2\n",
              "0 2015-07-01  2015    7  ...              0.0           2497.91               0.0\n",
              "1 2015-08-01  2015    8  ...              0.0           2494.25               0.0\n",
              "2 2015-09-01  2015    9  ...              0.0           2761.97               0.0\n",
              "3 2015-10-01  2015   10  ...              0.0           2760.94               0.0\n",
              "4 2015-11-01  2015   11  ...              0.0           3161.92               0.0\n",
              "\n",
              "[5 rows x 30 columns]"
            ]
          },
          "metadata": {
            "tags": []
          },
          "execution_count": 16
        }
      ]
    },
    {
      "cell_type": "markdown",
      "metadata": {
        "id": "y4cL6aORVllY"
      },
      "source": [
        "# Data Preparation:"
      ]
    },
    {
      "cell_type": "code",
      "metadata": {
        "id": "HaGF6m_1Vasm"
      },
      "source": [
        "import numpy as np"
      ],
      "execution_count": 17,
      "outputs": []
    },
    {
      "cell_type": "code",
      "metadata": {
        "id": "BGt6iqPdVp74",
        "colab": {
          "base_uri": "https://localhost:8080/"
        },
        "outputId": "258323a1-3c7f-47d8-9650-1eb9c5cb1283"
      },
      "source": [
        "np.nan + np.nan"
      ],
      "execution_count": 18,
      "outputs": [
        {
          "output_type": "execute_result",
          "data": {
            "text/plain": [
              "nan"
            ]
          },
          "metadata": {
            "tags": []
          },
          "execution_count": 18
        }
      ]
    },
    {
      "cell_type": "code",
      "metadata": {
        "id": "UKMxerpIVzKX",
        "colab": {
          "base_uri": "https://localhost:8080/"
        },
        "outputId": "6553b1da-ad37-4424-9da4-00a71d0f7f47"
      },
      "source": [
        "np.nan == np.nan"
      ],
      "execution_count": 19,
      "outputs": [
        {
          "output_type": "execute_result",
          "data": {
            "text/plain": [
              "False"
            ]
          },
          "metadata": {
            "tags": []
          },
          "execution_count": 19
        }
      ]
    },
    {
      "cell_type": "code",
      "metadata": {
        "id": "rU4cm9IrV6b2",
        "colab": {
          "base_uri": "https://localhost:8080/"
        },
        "outputId": "3262e0f3-13b4-4328-efcf-25f8c5c5a1b2"
      },
      "source": [
        "np.isnan(np.nan)"
      ],
      "execution_count": 20,
      "outputs": [
        {
          "output_type": "execute_result",
          "data": {
            "text/plain": [
              "True"
            ]
          },
          "metadata": {
            "tags": []
          },
          "execution_count": 20
        }
      ]
    },
    {
      "cell_type": "code",
      "metadata": {
        "id": "d9dCot2gV-7V",
        "colab": {
          "base_uri": "https://localhost:8080/",
          "height": 877
        },
        "outputId": "01472fd7-7930-44fc-9075-f1cc9d30a68c"
      },
      "source": [
        "data = []\r\n",
        "for colm in UC1.columns[3:]:\r\n",
        "  data.append([colm, UC1.shape[0]-UC1[colm].apply(np.isnan).sum(), UC1[colm].apply(np.isnan).sum(), (UC1[colm].apply(np.isnan).sum()/78)])\r\n",
        "dados_faltantes = pd.DataFrame(data, columns=[\"Variavel\", \"Quantidade de dados Disponíveis\", \"Quantidade de dados Faltantes\", \"Percentagem de Dados Faltantes\" ])\r\n",
        "dados_faltantes = dados_faltantes[dados_faltantes[\"Quantidade de dados Faltantes\"]>0].sort_values(by=['Quantidade de dados Faltantes'], ascending=False).reset_index(drop=True)\r\n",
        "dados_faltantes['Percentagem de Dados Faltantes'] = dados_faltantes['Percentagem de Dados Faltantes'].astype(float).map(\"{:.2%}\".format)\r\n",
        "dados_faltantes"
      ],
      "execution_count": 21,
      "outputs": [
        {
          "output_type": "execute_result",
          "data": {
            "text/html": [
              "<div>\n",
              "<style scoped>\n",
              "    .dataframe tbody tr th:only-of-type {\n",
              "        vertical-align: middle;\n",
              "    }\n",
              "\n",
              "    .dataframe tbody tr th {\n",
              "        vertical-align: top;\n",
              "    }\n",
              "\n",
              "    .dataframe thead th {\n",
              "        text-align: right;\n",
              "    }\n",
              "</style>\n",
              "<table border=\"1\" class=\"dataframe\">\n",
              "  <thead>\n",
              "    <tr style=\"text-align: right;\">\n",
              "      <th></th>\n",
              "      <th>Variavel</th>\n",
              "      <th>Quantidade de dados Disponíveis</th>\n",
              "      <th>Quantidade de dados Faltantes</th>\n",
              "      <th>Percentagem de Dados Faltantes</th>\n",
              "    </tr>\n",
              "  </thead>\n",
              "  <tbody>\n",
              "    <tr>\n",
              "      <th>0</th>\n",
              "      <td>DEMANDA_CONTRATADA_P</td>\n",
              "      <td>0</td>\n",
              "      <td>78</td>\n",
              "      <td>100.00%</td>\n",
              "    </tr>\n",
              "    <tr>\n",
              "      <th>1</th>\n",
              "      <td>DEMANDA_REGISTRADA_P</td>\n",
              "      <td>0</td>\n",
              "      <td>78</td>\n",
              "      <td>100.00%</td>\n",
              "    </tr>\n",
              "    <tr>\n",
              "      <th>2</th>\n",
              "      <td>DEMANDA_ISENTA_P</td>\n",
              "      <td>0</td>\n",
              "      <td>78</td>\n",
              "      <td>100.00%</td>\n",
              "    </tr>\n",
              "    <tr>\n",
              "      <th>3</th>\n",
              "      <td>DEMANDA_ISENTA_FP</td>\n",
              "      <td>0</td>\n",
              "      <td>78</td>\n",
              "      <td>100.00%</td>\n",
              "    </tr>\n",
              "    <tr>\n",
              "      <th>4</th>\n",
              "      <td>TAR_TUSD_KW_P</td>\n",
              "      <td>0</td>\n",
              "      <td>78</td>\n",
              "      <td>100.00%</td>\n",
              "    </tr>\n",
              "    <tr>\n",
              "      <th>5</th>\n",
              "      <td>TAR_REAT_PONTA</td>\n",
              "      <td>16</td>\n",
              "      <td>62</td>\n",
              "      <td>79.49%</td>\n",
              "    </tr>\n",
              "    <tr>\n",
              "      <th>6</th>\n",
              "      <td>TAR_REAT_FPONTA</td>\n",
              "      <td>45</td>\n",
              "      <td>33</td>\n",
              "      <td>42.31%</td>\n",
              "    </tr>\n",
              "    <tr>\n",
              "      <th>7</th>\n",
              "      <td>PERÍODO</td>\n",
              "      <td>70</td>\n",
              "      <td>8</td>\n",
              "      <td>10.26%</td>\n",
              "    </tr>\n",
              "    <tr>\n",
              "      <th>8</th>\n",
              "      <td>TAR_TE_KWH_P</td>\n",
              "      <td>70</td>\n",
              "      <td>8</td>\n",
              "      <td>10.26%</td>\n",
              "    </tr>\n",
              "    <tr>\n",
              "      <th>9</th>\n",
              "      <td>Acrescimo_Bverm1</td>\n",
              "      <td>70</td>\n",
              "      <td>8</td>\n",
              "      <td>10.26%</td>\n",
              "    </tr>\n",
              "    <tr>\n",
              "      <th>10</th>\n",
              "      <td>Acrescimo_Bamar</td>\n",
              "      <td>70</td>\n",
              "      <td>8</td>\n",
              "      <td>10.26%</td>\n",
              "    </tr>\n",
              "    <tr>\n",
              "      <th>11</th>\n",
              "      <td>Consumo Total</td>\n",
              "      <td>70</td>\n",
              "      <td>8</td>\n",
              "      <td>10.26%</td>\n",
              "    </tr>\n",
              "    <tr>\n",
              "      <th>12</th>\n",
              "      <td>Valor da Fatura</td>\n",
              "      <td>70</td>\n",
              "      <td>8</td>\n",
              "      <td>10.26%</td>\n",
              "    </tr>\n",
              "    <tr>\n",
              "      <th>13</th>\n",
              "      <td>REAT_KVAR_FPONTA</td>\n",
              "      <td>70</td>\n",
              "      <td>8</td>\n",
              "      <td>10.26%</td>\n",
              "    </tr>\n",
              "    <tr>\n",
              "      <th>14</th>\n",
              "      <td>REAT_KVAR_PONTA</td>\n",
              "      <td>70</td>\n",
              "      <td>8</td>\n",
              "      <td>10.26%</td>\n",
              "    </tr>\n",
              "    <tr>\n",
              "      <th>15</th>\n",
              "      <td>TAR_TE_KWH_FP</td>\n",
              "      <td>70</td>\n",
              "      <td>8</td>\n",
              "      <td>10.26%</td>\n",
              "    </tr>\n",
              "    <tr>\n",
              "      <th>16</th>\n",
              "      <td>ENERGIA_FPONTA</td>\n",
              "      <td>70</td>\n",
              "      <td>8</td>\n",
              "      <td>10.26%</td>\n",
              "    </tr>\n",
              "    <tr>\n",
              "      <th>17</th>\n",
              "      <td>TAR_TUSD_KWH_FP</td>\n",
              "      <td>70</td>\n",
              "      <td>8</td>\n",
              "      <td>10.26%</td>\n",
              "    </tr>\n",
              "    <tr>\n",
              "      <th>18</th>\n",
              "      <td>TAR_TUSD_KWH_P</td>\n",
              "      <td>70</td>\n",
              "      <td>8</td>\n",
              "      <td>10.26%</td>\n",
              "    </tr>\n",
              "    <tr>\n",
              "      <th>19</th>\n",
              "      <td>PIS/PASEP</td>\n",
              "      <td>70</td>\n",
              "      <td>8</td>\n",
              "      <td>10.26%</td>\n",
              "    </tr>\n",
              "    <tr>\n",
              "      <th>20</th>\n",
              "      <td>ENERGIA_PONTA</td>\n",
              "      <td>70</td>\n",
              "      <td>8</td>\n",
              "      <td>10.26%</td>\n",
              "    </tr>\n",
              "    <tr>\n",
              "      <th>21</th>\n",
              "      <td>TAR_TUSD_KW_FP</td>\n",
              "      <td>70</td>\n",
              "      <td>8</td>\n",
              "      <td>10.26%</td>\n",
              "    </tr>\n",
              "    <tr>\n",
              "      <th>22</th>\n",
              "      <td>DEMANDA_REGISTRADA_FP</td>\n",
              "      <td>70</td>\n",
              "      <td>8</td>\n",
              "      <td>10.26%</td>\n",
              "    </tr>\n",
              "    <tr>\n",
              "      <th>23</th>\n",
              "      <td>COFINS</td>\n",
              "      <td>70</td>\n",
              "      <td>8</td>\n",
              "      <td>10.26%</td>\n",
              "    </tr>\n",
              "    <tr>\n",
              "      <th>24</th>\n",
              "      <td>Acrescimo_Bverm2</td>\n",
              "      <td>70</td>\n",
              "      <td>8</td>\n",
              "      <td>10.26%</td>\n",
              "    </tr>\n",
              "    <tr>\n",
              "      <th>25</th>\n",
              "      <td>DEMANDA_CONTRATADA_FP</td>\n",
              "      <td>71</td>\n",
              "      <td>7</td>\n",
              "      <td>8.97%</td>\n",
              "    </tr>\n",
              "    <tr>\n",
              "      <th>26</th>\n",
              "      <td>ICMS</td>\n",
              "      <td>71</td>\n",
              "      <td>7</td>\n",
              "      <td>8.97%</td>\n",
              "    </tr>\n",
              "  </tbody>\n",
              "</table>\n",
              "</div>"
            ],
            "text/plain": [
              "                 Variavel  ...  Percentagem de Dados Faltantes\n",
              "0    DEMANDA_CONTRATADA_P  ...                         100.00%\n",
              "1    DEMANDA_REGISTRADA_P  ...                         100.00%\n",
              "2        DEMANDA_ISENTA_P  ...                         100.00%\n",
              "3       DEMANDA_ISENTA_FP  ...                         100.00%\n",
              "4           TAR_TUSD_KW_P  ...                         100.00%\n",
              "5          TAR_REAT_PONTA  ...                          79.49%\n",
              "6         TAR_REAT_FPONTA  ...                          42.31%\n",
              "7                 PERÍODO  ...                          10.26%\n",
              "8            TAR_TE_KWH_P  ...                          10.26%\n",
              "9        Acrescimo_Bverm1  ...                          10.26%\n",
              "10        Acrescimo_Bamar  ...                          10.26%\n",
              "11          Consumo Total  ...                          10.26%\n",
              "12        Valor da Fatura  ...                          10.26%\n",
              "13       REAT_KVAR_FPONTA  ...                          10.26%\n",
              "14        REAT_KVAR_PONTA  ...                          10.26%\n",
              "15          TAR_TE_KWH_FP  ...                          10.26%\n",
              "16         ENERGIA_FPONTA  ...                          10.26%\n",
              "17        TAR_TUSD_KWH_FP  ...                          10.26%\n",
              "18         TAR_TUSD_KWH_P  ...                          10.26%\n",
              "19              PIS/PASEP  ...                          10.26%\n",
              "20          ENERGIA_PONTA  ...                          10.26%\n",
              "21         TAR_TUSD_KW_FP  ...                          10.26%\n",
              "22  DEMANDA_REGISTRADA_FP  ...                          10.26%\n",
              "23                 COFINS  ...                          10.26%\n",
              "24       Acrescimo_Bverm2  ...                          10.26%\n",
              "25  DEMANDA_CONTRATADA_FP  ...                           8.97%\n",
              "26                   ICMS  ...                           8.97%\n",
              "\n",
              "[27 rows x 4 columns]"
            ]
          },
          "metadata": {
            "tags": []
          },
          "execution_count": 21
        }
      ]
    },
    {
      "cell_type": "code",
      "metadata": {
        "id": "h_lmiJ7hgRTP"
      },
      "source": [
        "data = []\r\n",
        "for colm in UC2.columns[3:]:\r\n",
        "  data.append([colm, UC2.shape[0]-UC2[colm].apply(np.isnan).sum(), UC2[colm].apply(np.isnan).sum(), (UC2[colm].apply(np.isnan).sum()/88)])\r\n",
        "dados_faltantes = pd.DataFrame(data, columns=[\"Variavel\", \"Quantidade de dados Disponíveis\", \"Quantidade de dados Faltantes\", \"Percentagem de Dados Faltantes\" ])\r\n",
        "dados_faltantes = dados_faltantes[dados_faltantes[\"Quantidade de dados Faltantes\"]>0].sort_values(by=['Quantidade de dados Faltantes'], ascending=False).reset_index(drop=True)\r\n",
        "dados_faltantes['Percentagem de Dados Faltantes'] = dados_faltantes['Percentagem de Dados Faltantes'].astype(float).map(\"{:.2%}\".format)\r\n",
        "dados_faltantes"
      ],
      "execution_count": null,
      "outputs": []
    },
    {
      "cell_type": "code",
      "metadata": {
        "id": "VJVmiVo6gTmc"
      },
      "source": [
        "data = []\r\n",
        "for colm in UC3.columns[3:]:\r\n",
        "  data.append([colm, UC3.shape[0]-UC3[colm].apply(np.isnan).sum(), UC3[colm].apply(np.isnan).sum(), (UC3[colm].apply(np.isnan).sum()/53)])\r\n",
        "dados_faltantes = pd.DataFrame(data, columns=[\"Variavel\", \"Quantidade de dados Disponíveis\", \"Quantidade de dados Faltantes\", \"Percentagem de Dados Faltantes\" ])\r\n",
        "dados_faltantes = dados_faltantes[dados_faltantes[\"Quantidade de dados Faltantes\"]>0].sort_values(by=['Quantidade de dados Faltantes'], ascending=False).reset_index(drop=True)\r\n",
        "dados_faltantes['Percentagem de Dados Faltantes'] = dados_faltantes['Percentagem de Dados Faltantes'].astype(float).map(\"{:.2%}\".format)\r\n",
        "dados_faltantes"
      ],
      "execution_count": null,
      "outputs": []
    },
    {
      "cell_type": "code",
      "metadata": {
        "id": "-2j5DHTwgTx5"
      },
      "source": [
        "data = []\r\n",
        "for colm in UC4.columns[3:]:\r\n",
        "  data.append([colm, UC4.shape[0]-UC4[colm].apply(np.isnan).sum(), UC4[colm].apply(np.isnan).sum(), (UC4[colm].apply(np.isnan).sum()/130)])\r\n",
        "dados_faltantes = pd.DataFrame(data, columns=[\"Variavel\", \"Quantidade de dados Disponíveis\", \"Quantidade de dados Faltantes\", \"Percentagem de Dados Faltantes\" ])\r\n",
        "dados_faltantes = dados_faltantes[dados_faltantes[\"Quantidade de dados Faltantes\"]>0].sort_values(by=['Quantidade de dados Faltantes'], ascending=False).reset_index(drop=True)\r\n",
        "dados_faltantes['Percentagem de Dados Faltantes'] = dados_faltantes['Percentagem de Dados Faltantes'].astype(float).map(\"{:.2%}\".format)\r\n",
        "dados_faltantes"
      ],
      "execution_count": null,
      "outputs": []
    },
    {
      "cell_type": "code",
      "metadata": {
        "id": "OB5EWYRcgT84"
      },
      "source": [
        "data = []\r\n",
        "for colm in UC5.columns[3:]:\r\n",
        "  data.append([colm, UC5.shape[0]-UC5[colm].apply(np.isnan).sum(), UC5[colm].apply(np.isnan).sum(), (UC5[colm].apply(np.isnan).sum()/77)])\r\n",
        "dados_faltantes = pd.DataFrame(data, columns=[\"Variavel\", \"Quantidade de dados Disponíveis\", \"Quantidade de dados Faltantes\", \"Percentagem de Dados Faltantes\" ])\r\n",
        "dados_faltantes = dados_faltantes[dados_faltantes[\"Quantidade de dados Faltantes\"]>0].sort_values(by=['Quantidade de dados Faltantes'], ascending=False).reset_index(drop=True)\r\n",
        "dados_faltantes['Percentagem de Dados Faltantes'] = dados_faltantes['Percentagem de Dados Faltantes'].astype(float).map(\"{:.2%}\".format)\r\n",
        "dados_faltantes"
      ],
      "execution_count": null,
      "outputs": []
    },
    {
      "cell_type": "code",
      "metadata": {
        "id": "OmmYVvOigUSZ"
      },
      "source": [
        "data = []\r\n",
        "for colm in UC6.columns[3:]:\r\n",
        "  data.append([colm, UC6.shape[0]-UC6[colm].apply(np.isnan).sum(), UC6[colm].apply(np.isnan).sum(), (UC6[colm].apply(np.isnan).sum()/60)])\r\n",
        "dados_faltantes = pd.DataFrame(data, columns=[\"Variavel\", \"Quantidade de dados Disponíveis\", \"Quantidade de dados Faltantes\", \"Percentagem de Dados Faltantes\" ])\r\n",
        "dados_faltantes = dados_faltantes[dados_faltantes[\"Quantidade de dados Faltantes\"]>0].sort_values(by=['Quantidade de dados Faltantes'], ascending=False).reset_index(drop=True)\r\n",
        "dados_faltantes['Percentagem de Dados Faltantes'] = dados_faltantes['Percentagem de Dados Faltantes'].astype(float).map(\"{:.2%}\".format)\r\n",
        "dados_faltantes"
      ],
      "execution_count": null,
      "outputs": []
    },
    {
      "cell_type": "markdown",
      "metadata": {
        "id": "R23509PYWKqA"
      },
      "source": [
        "## Visualização de Dados Faltantes"
      ]
    },
    {
      "cell_type": "code",
      "metadata": {
        "id": "0-i8vvg5WFVF"
      },
      "source": [
        "import missingno as msno"
      ],
      "execution_count": null,
      "outputs": []
    },
    {
      "cell_type": "code",
      "metadata": {
        "id": "EM9-36E5hjvG"
      },
      "source": [
        "msno.bar(UC1, color=\"RoyalBlue\") #para visualizar a integridade do datafram"
      ],
      "execution_count": null,
      "outputs": []
    },
    {
      "cell_type": "code",
      "metadata": {
        "id": "To2OMCMVhkJe"
      },
      "source": [
        "msno.bar(UC2, color=\"RoyalBlue\") #para visualizar a integridade do datafram"
      ],
      "execution_count": null,
      "outputs": []
    },
    {
      "cell_type": "code",
      "metadata": {
        "id": "qxwKvuvJhkVQ"
      },
      "source": [
        "msno.bar(UC3, color=\"RoyalBlue\") #para visualizar a integridade do datafram"
      ],
      "execution_count": null,
      "outputs": []
    },
    {
      "cell_type": "code",
      "metadata": {
        "id": "1qzWuuXshkhO"
      },
      "source": [
        "msno.bar(UC4, color=\"RoyalBlue\") #para visualizar a integridade do datafram"
      ],
      "execution_count": null,
      "outputs": []
    },
    {
      "cell_type": "code",
      "metadata": {
        "id": "z98TFotZhkyW"
      },
      "source": [
        "msno.bar(UC5, color=\"RoyalBlue\") #para visualizar a integridade do datafram"
      ],
      "execution_count": null,
      "outputs": []
    },
    {
      "cell_type": "code",
      "metadata": {
        "id": "oZi_c82sWPp2"
      },
      "source": [
        "msno.bar(UC6, color=\"RoyalBlue\") #para visualizar a integridade do datafram"
      ],
      "execution_count": null,
      "outputs": []
    },
    {
      "cell_type": "markdown",
      "metadata": {
        "id": "rTeJgbpBWZpI"
      },
      "source": [
        "## Matriz de Dados Faltantes"
      ]
    },
    {
      "cell_type": "code",
      "metadata": {
        "id": "AfTxZvsPWRKU"
      },
      "source": [
        "msno.matrix(UC1, color = (0.25,0.4,0.8))"
      ],
      "execution_count": null,
      "outputs": []
    },
    {
      "cell_type": "code",
      "metadata": {
        "id": "rShUtlPWiAcp"
      },
      "source": [
        "msno.matrix(UC2, color = (0.25,0.4,0.8))"
      ],
      "execution_count": null,
      "outputs": []
    },
    {
      "cell_type": "code",
      "metadata": {
        "id": "VUHzh6zJiA0d"
      },
      "source": [
        "msno.matrix(UC3, color = (0.25,0.4,0.8))"
      ],
      "execution_count": null,
      "outputs": []
    },
    {
      "cell_type": "code",
      "metadata": {
        "id": "78h6ENMEiA-X"
      },
      "source": [
        "msno.matrix(UC4, color = (0.25,0.4,0.8))"
      ],
      "execution_count": null,
      "outputs": []
    },
    {
      "cell_type": "code",
      "metadata": {
        "id": "zDMrOXwBiBIB"
      },
      "source": [
        "msno.matrix(UC5, color = (0.25,0.4,0.8))"
      ],
      "execution_count": null,
      "outputs": []
    },
    {
      "cell_type": "code",
      "metadata": {
        "id": "zLgK-7KoiBSa"
      },
      "source": [
        "msno.matrix(UC6, color = (0.25,0.4,0.8))"
      ],
      "execution_count": null,
      "outputs": []
    },
    {
      "cell_type": "markdown",
      "metadata": {
        "id": "DaeXdZdmWuqP"
      },
      "source": [
        "## Matriz de Correlação de Dados Faltantes"
      ]
    },
    {
      "cell_type": "code",
      "metadata": {
        "id": "Nwv2o5H-WdJu"
      },
      "source": [
        "msno.heatmap(UC1)"
      ],
      "execution_count": null,
      "outputs": []
    },
    {
      "cell_type": "code",
      "metadata": {
        "id": "Bq6DTDKhiXbz"
      },
      "source": [
        "msno.heatmap(UC2)"
      ],
      "execution_count": null,
      "outputs": []
    },
    {
      "cell_type": "code",
      "metadata": {
        "id": "xOAXd-gGiXl_"
      },
      "source": [
        "msno.heatmap(UC3)"
      ],
      "execution_count": null,
      "outputs": []
    },
    {
      "cell_type": "code",
      "metadata": {
        "id": "bDRU5DZIiXwU"
      },
      "source": [
        "msno.heatmap(UC4)"
      ],
      "execution_count": null,
      "outputs": []
    },
    {
      "cell_type": "code",
      "metadata": {
        "id": "t9ni0WmliX6W"
      },
      "source": [
        "msno.heatmap(UC5)"
      ],
      "execution_count": null,
      "outputs": []
    },
    {
      "cell_type": "code",
      "metadata": {
        "id": "Ei0xhLSfiYEU"
      },
      "source": [
        "msno.heatmap(UC6)"
      ],
      "execution_count": null,
      "outputs": []
    },
    {
      "cell_type": "markdown",
      "metadata": {
        "id": "DeUlGgt_W_3X"
      },
      "source": [
        "## Dendogram de dados Faltantes"
      ]
    },
    {
      "cell_type": "code",
      "metadata": {
        "id": "zpJsDoiyWwm1"
      },
      "source": [
        "msno.dendrogram(UC1)"
      ],
      "execution_count": null,
      "outputs": []
    },
    {
      "cell_type": "code",
      "metadata": {
        "id": "-kW5FONSiqiy"
      },
      "source": [
        "msno.dendrogram(UC2)"
      ],
      "execution_count": null,
      "outputs": []
    },
    {
      "cell_type": "code",
      "metadata": {
        "id": "xrLoOIptiqtP"
      },
      "source": [
        "msno.dendrogram(UC3)"
      ],
      "execution_count": null,
      "outputs": []
    },
    {
      "cell_type": "code",
      "metadata": {
        "id": "Gf_EzYViiq38"
      },
      "source": [
        "msno.dendrogram(UC4)"
      ],
      "execution_count": null,
      "outputs": []
    },
    {
      "cell_type": "code",
      "metadata": {
        "id": "VdHMH1htirCs"
      },
      "source": [
        "msno.dendrogram(UC5)"
      ],
      "execution_count": null,
      "outputs": []
    },
    {
      "cell_type": "code",
      "metadata": {
        "id": "CdMLpo5virQT"
      },
      "source": [
        "msno.dendrogram(UC6)"
      ],
      "execution_count": null,
      "outputs": []
    },
    {
      "cell_type": "markdown",
      "metadata": {
        "id": "hoChg3zQXKCY"
      },
      "source": [
        "## Eliminação de dados Faltantes"
      ]
    },
    {
      "cell_type": "code",
      "metadata": {
        "id": "RbdpJHeqXCYe"
      },
      "source": [
        "UC1_df = UC1.drop(set(UC1.columns[UC1.isnull().mean() >0.5]), 1)\r\n",
        "UC1_df.shape"
      ],
      "execution_count": null,
      "outputs": []
    },
    {
      "cell_type": "code",
      "metadata": {
        "id": "TjSZb2ZsjXFW"
      },
      "source": [
        "UC2_df = UC2.drop(set(UC2.columns[UC2.isnull().mean() >0.5]), 1)\r\n",
        "UC2_df.shape"
      ],
      "execution_count": null,
      "outputs": []
    },
    {
      "cell_type": "code",
      "metadata": {
        "id": "BuHnf4KrjXOK"
      },
      "source": [
        "UC3_df = UC3.drop(set(UC3.columns[UC3.isnull().mean() >0.5]), 1)\r\n",
        "UC3_df.shape"
      ],
      "execution_count": null,
      "outputs": []
    },
    {
      "cell_type": "code",
      "metadata": {
        "id": "U1V-h0KsjXWo"
      },
      "source": [
        "UC4_df = UC4.drop(set(UC4.columns[UC4.isnull().mean() >0.5]), 1)\r\n",
        "UC4_df.shape"
      ],
      "execution_count": null,
      "outputs": []
    },
    {
      "cell_type": "code",
      "metadata": {
        "id": "6eHzEQkbjXfG"
      },
      "source": [
        "UC5_df = UC5.drop(set(UC5.columns[UC5.isnull().mean() >0.5]), 1)\r\n",
        "UC5_df.shape"
      ],
      "execution_count": null,
      "outputs": []
    },
    {
      "cell_type": "code",
      "metadata": {
        "id": "anc9Qe29jXou"
      },
      "source": [
        "UC6_df = UC6.drop(set(UC6.columns[UC6.isnull().mean() >0.5]), 1)\r\n",
        "UC6_df.shape"
      ],
      "execution_count": null,
      "outputs": []
    },
    {
      "cell_type": "markdown",
      "metadata": {
        "id": "XSdn3alKXlH3"
      },
      "source": [
        "## Visualização de Variaveis"
      ]
    },
    {
      "cell_type": "code",
      "metadata": {
        "id": "dOrrkZu7XX4t"
      },
      "source": [
        "import matplotlib.pyplot as plt\r\n",
        "import seaborn as sns\r\n",
        "sns.set()"
      ],
      "execution_count": 24,
      "outputs": []
    },
    {
      "cell_type": "code",
      "metadata": {
        "id": "_ZJCsbz5Xjn1",
        "colab": {
          "base_uri": "https://localhost:8080/",
          "height": 1000
        },
        "outputId": "7cba58d1-935d-4cd7-a5bd-e6e1878fae0b"
      },
      "source": [
        "f, axs = plt.subplots(5, 5,figsize=(20,20))\r\n",
        "for i,col in enumerate(UC1_df.columns[3:]):\r\n",
        "  plt.subplot(5, 5, i+1)\r\n",
        "  plt.title(col)\r\n",
        "  plt.plot(UC1_df.DATA, UC1_df[col])"
      ],
      "execution_count": 25,
      "outputs": [
        {
          "output_type": "error",
          "ename": "NameError",
          "evalue": "ignored",
          "traceback": [
            "\u001b[0;31m---------------------------------------------------------------------------\u001b[0m",
            "\u001b[0;31mNameError\u001b[0m                                 Traceback (most recent call last)",
            "\u001b[0;32m<ipython-input-25-75b753a67ed1>\u001b[0m in \u001b[0;36m<module>\u001b[0;34m()\u001b[0m\n\u001b[1;32m      1\u001b[0m \u001b[0mf\u001b[0m\u001b[0;34m,\u001b[0m \u001b[0maxs\u001b[0m \u001b[0;34m=\u001b[0m \u001b[0mplt\u001b[0m\u001b[0;34m.\u001b[0m\u001b[0msubplots\u001b[0m\u001b[0;34m(\u001b[0m\u001b[0;36m5\u001b[0m\u001b[0;34m,\u001b[0m \u001b[0;36m5\u001b[0m\u001b[0;34m,\u001b[0m\u001b[0mfigsize\u001b[0m\u001b[0;34m=\u001b[0m\u001b[0;34m(\u001b[0m\u001b[0;36m20\u001b[0m\u001b[0;34m,\u001b[0m\u001b[0;36m20\u001b[0m\u001b[0;34m)\u001b[0m\u001b[0;34m)\u001b[0m\u001b[0;34m\u001b[0m\u001b[0;34m\u001b[0m\u001b[0m\n\u001b[0;32m----> 2\u001b[0;31m \u001b[0;32mfor\u001b[0m \u001b[0mi\u001b[0m\u001b[0;34m,\u001b[0m\u001b[0mcol\u001b[0m \u001b[0;32min\u001b[0m \u001b[0menumerate\u001b[0m\u001b[0;34m(\u001b[0m\u001b[0mUC1_df\u001b[0m\u001b[0;34m.\u001b[0m\u001b[0mcolumns\u001b[0m\u001b[0;34m[\u001b[0m\u001b[0;36m3\u001b[0m\u001b[0;34m:\u001b[0m\u001b[0;34m]\u001b[0m\u001b[0;34m)\u001b[0m\u001b[0;34m:\u001b[0m\u001b[0;34m\u001b[0m\u001b[0;34m\u001b[0m\u001b[0m\n\u001b[0m\u001b[1;32m      3\u001b[0m   \u001b[0mplt\u001b[0m\u001b[0;34m.\u001b[0m\u001b[0msubplot\u001b[0m\u001b[0;34m(\u001b[0m\u001b[0;36m5\u001b[0m\u001b[0;34m,\u001b[0m \u001b[0;36m5\u001b[0m\u001b[0;34m,\u001b[0m \u001b[0mi\u001b[0m\u001b[0;34m+\u001b[0m\u001b[0;36m1\u001b[0m\u001b[0;34m)\u001b[0m\u001b[0;34m\u001b[0m\u001b[0;34m\u001b[0m\u001b[0m\n\u001b[1;32m      4\u001b[0m   \u001b[0mplt\u001b[0m\u001b[0;34m.\u001b[0m\u001b[0mtitle\u001b[0m\u001b[0;34m(\u001b[0m\u001b[0mcol\u001b[0m\u001b[0;34m)\u001b[0m\u001b[0;34m\u001b[0m\u001b[0;34m\u001b[0m\u001b[0m\n\u001b[1;32m      5\u001b[0m   \u001b[0mplt\u001b[0m\u001b[0;34m.\u001b[0m\u001b[0mplot\u001b[0m\u001b[0;34m(\u001b[0m\u001b[0mUC1_df\u001b[0m\u001b[0;34m.\u001b[0m\u001b[0mDATA\u001b[0m\u001b[0;34m,\u001b[0m \u001b[0mUC1_df\u001b[0m\u001b[0;34m[\u001b[0m\u001b[0mcol\u001b[0m\u001b[0;34m]\u001b[0m\u001b[0;34m)\u001b[0m\u001b[0;34m\u001b[0m\u001b[0;34m\u001b[0m\u001b[0m\n",
            "\u001b[0;31mNameError\u001b[0m: name 'UC1_df' is not defined"
          ]
        },
        {
          "output_type": "display_data",
          "data": {
            "image/png": "[encoded data removed]",
            "text/plain": [
              "<Figure size 1440x1440 with 25 Axes>"
            ]
          },
          "metadata": {
            "tags": []
          }
        }
      ]
    },
    {
      "cell_type": "code",
      "metadata": {
        "id": "_Vc5Buppkd1Y"
      },
      "source": [
        "f, axs = plt.subplots(5, 6,figsize=(20,20))\r\n",
        "for i,col in enumerate(UC2_df.columns[3:]):\r\n",
        "  plt.subplot(5, 6, i+1)\r\n",
        "  plt.title(col)\r\n",
        "  plt.plot(UC2_df.DATA, UC2_df[col])"
      ],
      "execution_count": null,
      "outputs": []
    },
    {
      "cell_type": "code",
      "metadata": {
        "id": "wSMpz7vLkeFT"
      },
      "source": [
        "f, axs = plt.subplots(3, 5,figsize=(20,20))\r\n",
        "for i,col in enumerate(UC3_df.columns[3:]):\r\n",
        "  plt.subplot(3, 5, i+1)\r\n",
        "  plt.title(col)\r\n",
        "  plt.plot(UC3_df.DATA, UC3_df[col])"
      ],
      "execution_count": null,
      "outputs": []
    },
    {
      "cell_type": "code",
      "metadata": {
        "id": "sR3Qn9JkkeOc"
      },
      "source": [
        "f, axs = plt.subplots(5, 6,figsize=(20,20))\r\n",
        "for i,col in enumerate(UC4_df.columns[3:]):\r\n",
        "  plt.subplot(5, 5, i+1)\r\n",
        "  plt.title(col)\r\n",
        "  plt.plot(UC4_df.DATA, UC4_df[col])"
      ],
      "execution_count": null,
      "outputs": []
    },
    {
      "cell_type": "code",
      "metadata": {
        "id": "4kXGmq_MkeXZ"
      },
      "source": [
        "f, axs = plt.subplots(5, 6,figsize=(20,20))\r\n",
        "for i,col in enumerate(UC5_df.columns[3:]):\r\n",
        "  plt.subplot(5, 6, i+1)\r\n",
        "  plt.title(col)\r\n",
        "  plt.plot(UC5_df.DATA, UC5_df[col])"
      ],
      "execution_count": null,
      "outputs": []
    },
    {
      "cell_type": "code",
      "metadata": {
        "id": "GLdLEq3AkehD"
      },
      "source": [
        "f, axs = plt.subplots(5, 6,figsize=(20,20))\r\n",
        "for i,col in enumerate(UC6_df.columns[3:]):\r\n",
        "  plt.subplot(5, 6, i+1)\r\n",
        "  plt.title(col)\r\n",
        "  plt.plot(UC6_df.DATA, UC6_df[col])"
      ],
      "execution_count": null,
      "outputs": []
    },
    {
      "cell_type": "code",
      "metadata": {
        "id": "CCLhFX_uXmeV"
      },
      "source": [
        "msno.bar(UC1_df, color=\"RoyalBlue\")"
      ],
      "execution_count": null,
      "outputs": []
    },
    {
      "cell_type": "code",
      "metadata": {
        "id": "dLlZK-SCn8a6"
      },
      "source": [
        "msno.bar(UC2_df, color=\"RoyalBlue\")"
      ],
      "execution_count": null,
      "outputs": []
    },
    {
      "cell_type": "code",
      "metadata": {
        "id": "tZhgVPFln8lU"
      },
      "source": [
        "msno.bar(UC3_df, color=\"RoyalBlue\")"
      ],
      "execution_count": null,
      "outputs": []
    },
    {
      "cell_type": "code",
      "metadata": {
        "id": "Ke63S5A4n8u7"
      },
      "source": [
        "msno.bar(UC4_df, color=\"RoyalBlue\")"
      ],
      "execution_count": null,
      "outputs": []
    },
    {
      "cell_type": "code",
      "metadata": {
        "id": "EBi_BTLRn84M"
      },
      "source": [
        "msno.bar(UC5_df, color=\"RoyalBlue\")"
      ],
      "execution_count": null,
      "outputs": []
    },
    {
      "cell_type": "code",
      "metadata": {
        "id": "5rAokLZDn9BN"
      },
      "source": [
        "msno.bar(UC6_df, color=\"RoyalBlue\")"
      ],
      "execution_count": null,
      "outputs": []
    },
    {
      "cell_type": "code",
      "metadata": {
        "id": "MhHdEtmhYFa0"
      },
      "source": [
        "msno.matrix(UC1_df, color = (0.25,0.4,0.8))"
      ],
      "execution_count": null,
      "outputs": []
    },
    {
      "cell_type": "code",
      "metadata": {
        "id": "6t-oiTzLoitu"
      },
      "source": [
        "msno.matrix(UC2_df, color = (0.25,0.4,0.8))"
      ],
      "execution_count": null,
      "outputs": []
    },
    {
      "cell_type": "code",
      "metadata": {
        "id": "L6mNOw19oi2q"
      },
      "source": [
        "msno.matrix(UC3_df, color = (0.25,0.4,0.8))"
      ],
      "execution_count": null,
      "outputs": []
    },
    {
      "cell_type": "code",
      "metadata": {
        "id": "gbaKfzd6oi-5"
      },
      "source": [
        "msno.matrix(UC4_df, color = (0.25,0.4,0.8))"
      ],
      "execution_count": null,
      "outputs": []
    },
    {
      "cell_type": "code",
      "metadata": {
        "id": "2xR5RqgmojG_"
      },
      "source": [
        "msno.matrix(UC5_df, color = (0.25,0.4,0.8))"
      ],
      "execution_count": null,
      "outputs": []
    },
    {
      "cell_type": "code",
      "metadata": {
        "id": "sR7_aNWpojPf"
      },
      "source": [
        "msno.matrix(UC6_df, color = (0.25,0.4,0.8))"
      ],
      "execution_count": null,
      "outputs": []
    },
    {
      "cell_type": "markdown",
      "metadata": {
        "id": "4FJ0Wr92sz_a"
      },
      "source": [
        "FEITO ATE AQUI, VERIFICAR ERROS DEPOIS"
      ]
    },
    {
      "cell_type": "code",
      "metadata": {
        "id": "aBlbonHDYMCu"
      },
      "source": [
        "fig, ax = plt.subplots(figsize=(15, 5))\r\n",
        "_ = plt.plot(UC1_df.DATA, UC1_df.REAT_KVAR_FPONTA, marker='o', color=\"b\")\r\n",
        "_ = plt.xlabel(\"Tempo\")\r\n",
        "_ = plt.ylabel(\"KVAR\")\r\n",
        "_ = plt.legend(['Dados Originais'])\r\n",
        "_ = plt.title(\"Potência Reativa Fora de Ponta\")\r\n",
        "plt.show()\r\n"
      ],
      "execution_count": null,
      "outputs": []
    },
    {
      "cell_type": "markdown",
      "metadata": {
        "id": "5qYdtfYjYbcA"
      },
      "source": [
        "## Imputações\r\n",
        "https://en.wikipedia.org/wiki/Imputation_(statistics)#:~:text=In%20statistics%2C%20imputation%20is%20the,missing%20data%20with%20substituted%20values.&text=Because%20missing%20data%20can%20create,cases%20that%20have%20missing%20values."
      ]
    },
    {
      "cell_type": "markdown",
      "metadata": {
        "id": "YIJBi3vGYtR1"
      },
      "source": [
        "### Fordward Fill Imputation ou PAD"
      ]
    },
    {
      "cell_type": "code",
      "metadata": {
        "id": "OyHsTX0MYVpk"
      },
      "source": [
        "UC1_ffill = UC1_df.fillna(method='ffill')"
      ],
      "execution_count": null,
      "outputs": []
    },
    {
      "cell_type": "code",
      "metadata": {
        "id": "5bHKH-yNY1Q_"
      },
      "source": [
        "sns.set()\r\n",
        "fig, ax = plt.subplots(figsize=(15, 5))\r\n",
        "_ = plt.plot(UC1_ffill.DATA, UC1_ffill.REAT_KVAR_FPONTA, marker='o', color=\"r\")\r\n",
        "_ = plt.plot(UC1_df.DATA, UC1_df.REAT_KVAR_FPONTA, marker='o', color=\"b\")\r\n",
        "_ = plt.xlabel(\"Tempo\")\r\n",
        "_ = plt.ylabel(\"KVAR\")\r\n",
        "_ = plt.legend(['Imputações utilizando o método FFILL', 'Dados Originais'])\r\n",
        "_ = plt.title(\"Potência Reativa Fora de Ponta\")\r\n",
        "plt.show()"
      ],
      "execution_count": null,
      "outputs": []
    },
    {
      "cell_type": "markdown",
      "metadata": {
        "id": "ceBrYg07ZD5_"
      },
      "source": [
        "### Backwardfill Imputation "
      ]
    },
    {
      "cell_type": "code",
      "metadata": {
        "id": "wkhFzwFyY1nx"
      },
      "source": [
        "UC1_bfill = UC1_df.fillna(method='bfill')"
      ],
      "execution_count": null,
      "outputs": []
    },
    {
      "cell_type": "code",
      "metadata": {
        "id": "ylEIJxftZHOs"
      },
      "source": [
        "sns.set()\r\n",
        "fig, ax = plt.subplots(figsize=(15, 5))\r\n",
        "_ = plt.plot(UC1_bfill.DATA, UC1_bfill.REAT_KVAR_FPONTA, marker='o', color=\"r\")\r\n",
        "_ = plt.plot(UC1_df.DATA, UC1_df.REAT_KVAR_FPONTA, marker='o', color=\"b\")\r\n",
        "_ = plt.xlabel(\"Tempo\")\r\n",
        "_ = plt.ylabel(\"KVAR\")\r\n",
        "_ = plt.legend(['Imputações utilizando o método FFILL', 'Dados Originais'])\r\n",
        "_ = plt.title(\"Potência Reativa Fora de Ponta\")\r\n",
        "plt.show()"
      ],
      "execution_count": null,
      "outputs": []
    },
    {
      "cell_type": "markdown",
      "metadata": {
        "id": "hIVpgpkrZOm2"
      },
      "source": [
        "### Imputção utilizando uma constante"
      ]
    },
    {
      "cell_type": "code",
      "metadata": {
        "id": "Mwc_0p28ZI50"
      },
      "source": [
        "sns.set()\r\n",
        "# Plot histograma \r\n",
        "_ = plt.hist(UC1_df.REAT_KVAR_FPONTA, bins=list(range(200,800,50)), range=[200, 800])\r\n",
        "_ = plt.xticks(list(range(200,800,50)))\r\n",
        "_ = plt.xlabel('KVAR')\r\n",
        "_ = plt.title(\"Histograma da potência Reativa Fora de Ponta no range de 200 até 800\")\r\n",
        "# Show histogram\r\n",
        "plt.show()"
      ],
      "execution_count": null,
      "outputs": []
    },
    {
      "cell_type": "code",
      "metadata": {
        "id": "UotVDz8CZSQE"
      },
      "source": [
        "from sklearn.impute import SimpleImputer\r\n",
        "UC1_constant = UC1_df.copy(deep= True)\r\n",
        "imputer = SimpleImputer(strategy='constant', fill_value = 225)\r\n",
        "imputer = imputer.fit(UC1_constant[[\"REAT_KVAR_FPONTA\"]])\r\n",
        "UC1_constant['REAT_KVAR_FPONTA'] = imputer.transform(UC1_constant[['REAT_KVAR_FPONTA']]).ravel()\r\n",
        "sns.set()\r\n",
        "fig, ax = plt.subplots(figsize=(15, 5))\r\n",
        "_ = plt.plot(UC1_constant.DATA, UC1_constant.REAT_KVAR_FPONTA, marker='o', color=\"r\")\r\n",
        "_ = plt.plot(UC1_df.DATA, UC1_df.REAT_KVAR_FPONTA, marker='o', color=\"b\")\r\n",
        "_ = plt.xlabel(\"Tempo\")\r\n",
        "_ = plt.ylabel(\"KVAR\")\r\n",
        "_ = plt.legend(['Imputações utilizando uma constante', 'Dados Originais'])\r\n",
        "_ = plt.title(\"Potência Reativa Fora de Ponta\")\r\n",
        "plt.show()"
      ],
      "execution_count": null,
      "outputs": []
    },
    {
      "cell_type": "markdown",
      "metadata": {
        "id": "nu9DOzqAZe8G"
      },
      "source": [
        "### Imputação utilizando a Média"
      ]
    },
    {
      "cell_type": "code",
      "metadata": {
        "id": "qZiR4ePdZZ6t"
      },
      "source": [
        "UC1_mean = UC1_df.copy(deep= True)\r\n",
        "imputer = SimpleImputer(strategy='mean')\r\n",
        "imputer = imputer.fit(UC1_mean[[\"REAT_KVAR_FPONTA\"]])\r\n",
        "UC1_mean['REAT_KVAR_FPONTA'] = imputer.transform(UC1_mean[['REAT_KVAR_FPONTA']]).ravel()"
      ],
      "execution_count": null,
      "outputs": []
    },
    {
      "cell_type": "code",
      "metadata": {
        "id": "HElphhxeZibu"
      },
      "source": [
        "sns.set()\r\n",
        "fig, ax = plt.subplots(figsize=(15, 5))\r\n",
        "_ = plt.plot(UC1_mean.DATA, UC1_mean.REAT_KVAR_FPONTA, marker='o', color=\"r\")\r\n",
        "_ = plt.plot(UC1_df.DATA, UC1_df.REAT_KVAR_FPONTA, marker='o', color=\"b\")\r\n",
        "_ = plt.xlabel(\"Tempo\")\r\n",
        "_ = plt.ylabel(\"KVAR\")\r\n",
        "_ = plt.legend(['Imputações utilizando a média', 'Dados Originais'])\r\n",
        "_ = plt.title(\"Potência Reativa Fora de Ponta\")\r\n",
        "plt.show()"
      ],
      "execution_count": null,
      "outputs": []
    },
    {
      "cell_type": "markdown",
      "metadata": {
        "id": "Smo3YZ4BZwYP"
      },
      "source": [
        "### Imputação utilizando Mediana"
      ]
    },
    {
      "cell_type": "code",
      "metadata": {
        "id": "XXeDDXjtZjtT"
      },
      "source": [
        "UC1_median = UC1_df.copy(deep= True)\r\n",
        "imputer = SimpleImputer(strategy='median')\r\n",
        "imputer = imputer.fit(UC1_median[[\"REAT_KVAR_FPONTA\"]])\r\n",
        "UC1_median['REAT_KVAR_FPONTA'] = imputer.transform(UC1_median[['REAT_KVAR_FPONTA']]).ravel()\r\n",
        "sns.set()\r\n",
        "fig, ax = plt.subplots(figsize=(15, 5))\r\n",
        "_ = plt.plot(UC1_median.DATA, UC1_median.REAT_KVAR_FPONTA, marker='o', color=\"r\")\r\n",
        "_ = plt.plot(UC1_df.DATA, UC1_df.REAT_KVAR_FPONTA, marker='o', color=\"b\")\r\n",
        "_ = plt.xlabel(\"Tempo\")\r\n",
        "_ = plt.ylabel(\"KVAR\")\r\n",
        "_ = plt.legend(['Imputações utilizando a mediana', 'Dados Originais'])\r\n",
        "_ = plt.title(\"Potência Reativa Fora de Ponta\")\r\n",
        "plt.show()"
      ],
      "execution_count": null,
      "outputs": []
    },
    {
      "cell_type": "markdown",
      "metadata": {
        "id": "NGzPBNVOZ2Ov"
      },
      "source": [
        "### Imputação utilizando a Moda"
      ]
    },
    {
      "cell_type": "code",
      "metadata": {
        "id": "wVtzFVByZzEs"
      },
      "source": [
        "UC1_mode = UC1_df.copy(deep= True)\r\n",
        "imputer = SimpleImputer(strategy='most_frequent')\r\n",
        "imputer = imputer.fit(UC1_mode[[\"REAT_KVAR_FPONTA\"]])\r\n",
        "UC1_mode['REAT_KVAR_FPONTA'] = imputer.transform(UC1_mode[['REAT_KVAR_FPONTA']]).ravel()\r\n",
        "sns.set()\r\n",
        "fig, ax = plt.subplots(figsize=(15, 5))\r\n",
        "_ = plt.plot(UC1_mode.DATA, UC1_mode.REAT_KVAR_FPONTA, marker='o', color=\"r\")\r\n",
        "_ = plt.plot(UC1_df.DATA, UC1_df.REAT_KVAR_FPONTA, marker='o', color=\"b\")\r\n",
        "_ = plt.xlabel(\"Tempo\")\r\n",
        "_ = plt.ylabel(\"KVAR\")\r\n",
        "_ = plt.legend(['Imputações utilizando a moda', 'Dados Originais'])\r\n",
        "_ = plt.title(\"Potência Reativa Fora de Ponta\")\r\n",
        "plt.show()"
      ],
      "execution_count": null,
      "outputs": []
    },
    {
      "cell_type": "markdown",
      "metadata": {
        "id": "NPjst8NTaEj4"
      },
      "source": [
        "### Imputação por interpolação Linear"
      ]
    },
    {
      "cell_type": "code",
      "metadata": {
        "id": "U42zYBnhZ4nk"
      },
      "source": [
        "UC1_linear = UC1_df.copy(deep= True)\r\n",
        "UC1_linear['REAT_KVAR_FPONTA'].interpolate(mehod = 'linear', inplace = True)\r\n",
        "sns.set()\r\n",
        "fig, ax = plt.subplots(figsize=(15, 5))\r\n",
        "_ = plt.plot(UC1_linear.DATA, UC1_linear.REAT_KVAR_FPONTA, marker='o', color=\"r\")\r\n",
        "_ = plt.plot(UC1_df.DATA, UC1_df.REAT_KVAR_FPONTA, marker='o', color=\"b\")\r\n",
        "_ = plt.xlabel(\"Tempo\")\r\n",
        "_ = plt.ylabel(\"KVAR\")\r\n",
        "_ = plt.legend(['Imputações utilizando a interpolação linear', 'Dados Originais'])\r\n",
        "_ = plt.title(\"Potência Reativa Fora de Ponta\")\r\n",
        "plt.show()"
      ],
      "execution_count": null,
      "outputs": []
    },
    {
      "cell_type": "markdown",
      "metadata": {
        "id": "thxoXIsaaa0I"
      },
      "source": [
        "### Imputção por interpolação quadrática"
      ]
    },
    {
      "cell_type": "code",
      "metadata": {
        "id": "2nbg1UFQaGSM"
      },
      "source": [
        "UC1_quadratica = UC1_df.copy(deep= True)\r\n",
        "UC1_quadratica['REAT_KVAR_FPONTA'].interpolate(method = 'quadratic', inplace = True)\r\n",
        "sns.set()\r\n",
        "fig, ax = plt.subplots(figsize=(15, 5))\r\n",
        "_ = plt.plot(UC1_quadratica.DATA, UC1_quadratica.REAT_KVAR_FPONTA, marker='o', color=\"r\")\r\n",
        "_ = plt.plot(UC1_df.DATA, UC1_df.REAT_KVAR_FPONTA, marker='o', color=\"b\")\r\n",
        "_ = plt.xlabel(\"Tempo\")\r\n",
        "_ = plt.ylabel(\"KVAR\")\r\n",
        "_ = plt.legend(['Imputações utilizando a interpolação Quadrática', 'Dados Originais'])\r\n",
        "_ = plt.title(\"Potência Reativa Fora de Ponta\")\r\n",
        "plt.show()"
      ],
      "execution_count": null,
      "outputs": []
    },
    {
      "cell_type": "markdown",
      "metadata": {
        "id": "yiDjyhonakbO"
      },
      "source": [
        "### Imputação mediante utilizando o método do vizinho mais perto"
      ]
    },
    {
      "cell_type": "code",
      "metadata": {
        "id": "Wj2ayTTCaeCk"
      },
      "source": [
        "UC1_nearest = UC1_df.copy(deep= True)\r\n",
        "UC1_nearest['REAT_KVAR_FPONTA'].interpolate(method = 'nearest', inplace = True)\r\n",
        "sns.set()\r\n",
        "fig, ax = plt.subplots(figsize=(15, 5))\r\n",
        "_ = plt.plot(UC1_nearest.DATA, UC1_nearest.REAT_KVAR_FPONTA, marker='o', color=\"r\")\r\n",
        "_ = plt.plot(UC1_df.DATA, UC1_df.REAT_KVAR_FPONTA, marker='o', color=\"b\")\r\n",
        "_ = plt.xlabel(\"Tempo\")\r\n",
        "_ = plt.ylabel(\"KVAR\")\r\n",
        "_ = plt.legend(['Imputações utilizando a nearest neighbor', 'Dados Originais'])\r\n",
        "_ = plt.title(\"Potência Reativa Fora de Ponta\")\r\n",
        "plt.show()"
      ],
      "execution_count": null,
      "outputs": []
    },
    {
      "cell_type": "markdown",
      "metadata": {
        "id": "MfZcYSQ-au3A"
      },
      "source": [
        "### Imputações utilizando KNN"
      ]
    },
    {
      "cell_type": "code",
      "metadata": {
        "id": "GPhf8-hlamPE"
      },
      "source": [
        "from fancyimpute import KNN"
      ],
      "execution_count": null,
      "outputs": []
    },
    {
      "cell_type": "code",
      "metadata": {
        "id": "yXFppdEhazqC"
      },
      "source": [
        "UC1_KNN = UC1_df.copy(deep= True)\r\n",
        "knn_imputer = KNN()\r\n",
        "UC1_KNN['REAT_KVAR_FPONTA'] = knn_imputer.fit_transform(UC1_KNN[['REAT_KVAR_FPONTA']]).ravel()\r\n",
        "sns.set()\r\n",
        "fig, ax = plt.subplots(figsize=(15, 5))\r\n",
        "_ = plt.plot(UC1_KNN.DATA, UC1_KNN.REAT_KVAR_FPONTA, marker='o', color=\"r\")\r\n",
        "_ = plt.plot(UC1_df.DATA, UC1_df.REAT_KVAR_FPONTA, marker='o', color=\"b\")\r\n",
        "_ = plt.xlabel(\"Tempo\")\r\n",
        "_ = plt.ylabel(\"KVAR\")\r\n",
        "_ = plt.legend(['Imputações utilizando a k nearest neighbor', 'Dados Originais'])\r\n",
        "_ = plt.title(\"Potência Reativa Fora de Ponta\")\r\n",
        "plt.show()"
      ],
      "execution_count": null,
      "outputs": []
    },
    {
      "cell_type": "code",
      "metadata": {
        "id": "AQ3yTcwqa1jT"
      },
      "source": [
        "msno.matrix(UC1_KNN, color = (0.25,0.4,0.8))"
      ],
      "execution_count": null,
      "outputs": []
    },
    {
      "cell_type": "code",
      "metadata": {
        "id": "_P25YD48a4p1"
      },
      "source": [
        "from sklearn.impute import SimpleImputer\r\n",
        "imputer = SimpleImputer(strategy='most_frequent')\r\n",
        "imputer = imputer.fit(UC1_KNN[[\"TAR_REAT_FPONTA\"]])\r\n",
        "UC1_KNN['TAR_REAT_FPONTA'] = imputer.transform(UC1_KNN[['TAR_REAT_FPONTA']]).ravel()\r\n",
        "sns.set()\r\n",
        "fig, ax = plt.subplots(figsize=(15, 5))\r\n",
        "_ = plt.plot(UC1_KNN.DATA, UC1_KNN.TAR_REAT_FPONTA, marker='o', color=\"r\")\r\n",
        "_ = plt.plot(UC1_df.DATA, UC1_df.TAR_REAT_FPONTA, marker='o', color=\"b\")\r\n",
        "_ = plt.xlabel(\"Tempo\")\r\n",
        "_ = plt.ylabel(\"Reais\")\r\n",
        "_ = plt.legend(['Imputações utilizando a moda', 'Dados Originais'])\r\n",
        "_ = plt.title(\"Tarifa de Potência Reativa Fora de Ponta\")\r\n",
        "plt.show()"
      ],
      "execution_count": null,
      "outputs": []
    },
    {
      "cell_type": "code",
      "metadata": {
        "id": "lozHsUjrbBDr"
      },
      "source": [
        "msno.matrix(UC1_KNN, color = (0.25,0.4,0.8))"
      ],
      "execution_count": null,
      "outputs": []
    },
    {
      "cell_type": "code",
      "metadata": {
        "id": "Ing-Tg8kbG9T"
      },
      "source": [
        "UC1_KNN['Retenção  de Tributos Federais'].interpolate(method = 'quadratic', inplace = True)\r\n",
        "sns.set()\r\n",
        "fig, ax = plt.subplots(figsize=(15, 5))\r\n",
        "_ = plt.plot(UC1_KNN.DATA, UC1_KNN['Retenção  de Tributos Federais'], marker='o', color=\"r\")\r\n",
        "_ = plt.plot(UC1_df.DATA, UC1_df['Retenção  de Tributos Federais'], marker='o', color=\"b\")\r\n",
        "_ = plt.xlabel(\"Tempo\")\r\n",
        "_ = plt.ylabel(\"KVAR\")\r\n",
        "_ = plt.legend(['Imputações utilizando a interpolação Quadrática', 'Dados Originais'])\r\n",
        "_ = plt.title(\"Retenção  de Tributos Federais\")\r\n",
        "plt.show()"
      ],
      "execution_count": null,
      "outputs": []
    },
    {
      "cell_type": "code",
      "metadata": {
        "id": "KusHbd2TbMWS"
      },
      "source": [
        "msno.matrix(UC1_KNN, color = (0.25,0.4,0.8))"
      ],
      "execution_count": null,
      "outputs": []
    },
    {
      "cell_type": "code",
      "metadata": {
        "id": "N5XIZneIbPwC"
      },
      "source": [
        "f, axs = plt.subplots(5, 4,figsize=(20,20))\r\n",
        "for i,col in enumerate(UC1_KNN.columns[3:]):\r\n",
        "  plt.subplot(5, 4, i+1)\r\n",
        "  plt.title(col)\r\n",
        "  plt.plot(UC1_KNN.DATA, UC1_KNN[col])\r\n"
      ],
      "execution_count": null,
      "outputs": []
    },
    {
      "cell_type": "markdown",
      "metadata": {
        "id": "ohCMPp8qbZiX"
      },
      "source": [
        "## Outliers\r\n",
        "https://en.wikipedia.org/wiki/Pearson_correlation_coefficient"
      ]
    },
    {
      "cell_type": "code",
      "metadata": {
        "id": "nR-W9ajWbUkJ"
      },
      "source": [
        "cor = UC1_KNN\r\n",
        "pear = round(cor.corr(),2)\r\n",
        "teste = np.array(pear)\r\n",
        "mask = np.zeros_like(pear)\r\n",
        "mask[np.triu_indices_from(mask)] = True\r\n",
        "with sns.axes_style(\"white\"):\r\n",
        "    f, ax = plt.subplots(figsize=(20, 15))\r\n",
        "    ax = sns.heatmap(pear, mask=mask, vmax=1, square=True,center=0,annot=True,annot_kws={\"fontsize\":14}, cmap=\"RdBu\")\r\n",
        "    plt.title('''Pearson's Correlation Heatmap''',fontsize = 20)\r\n",
        "    plt.xticks(fontsize=17,rotation=90)\r\n",
        "    plt.yticks(fontsize=17,rotation=0)\r\n",
        "    cax = plt.gcf().axes[-1] #para alterar fonte do eixo y direito\r\n",
        "    cax.tick_params(labelsize=20) #para alterar fonte do eixo y direito"
      ],
      "execution_count": null,
      "outputs": []
    },
    {
      "cell_type": "code",
      "metadata": {
        "id": "8q3qN8WNbc3y"
      },
      "source": [
        "corr = UC1_KNN.corr()\r\n",
        "corr.style.background_gradient(cmap='coolwarm').set_precision(2)"
      ],
      "execution_count": null,
      "outputs": []
    },
    {
      "cell_type": "markdown",
      "metadata": {
        "id": "Er6rnwQAb6wR"
      },
      "source": [
        "### Método Z score\r\n",
        "https://en.wikipedia.org/wiki/Standard_score#/media/File:The_Normal_Distribution.svg"
      ]
    },
    {
      "cell_type": "code",
      "metadata": {
        "id": "6o6KvwlDbkhb"
      },
      "source": [
        "def z_score (data, treshold =4):\r\n",
        "  outliers = []\r\n",
        "  treshold = treshold\r\n",
        "  mean, std = np.mean(data), np.std(data)\r\n",
        "  for i in data:\r\n",
        "    zscore = (i-mean)/std\r\n",
        "    if np.abs(zscore) > treshold:\r\n",
        "      outliers.append(i)\r\n",
        "  \r\n",
        "  return outliers"
      ],
      "execution_count": null,
      "outputs": []
    },
    {
      "cell_type": "code",
      "metadata": {
        "id": "N3aTxnOkcG_s"
      },
      "source": [
        "outliers = z_score(UC1_KNN[[\"REAT_KVAR_FPONTA\"]].values, 2)\r\n",
        "outliers"
      ],
      "execution_count": null,
      "outputs": []
    },
    {
      "cell_type": "code",
      "metadata": {
        "id": "icu48Rn0cNLr"
      },
      "source": [
        "print(len(outliers)/len(UC1_KNN[[\"REAT_KVAR_FPONTA\"]].values)*100, \"%\")"
      ],
      "execution_count": null,
      "outputs": []
    },
    {
      "cell_type": "code",
      "metadata": {
        "id": "988llrB6cTcD"
      },
      "source": [
        "outliers = z_score(UC1_df[[\"REAT_KVAR_FPONTA\"]].values, 2)\r\n",
        "outliers"
      ],
      "execution_count": null,
      "outputs": []
    },
    {
      "cell_type": "code",
      "metadata": {
        "id": "JshoGvxtckGb"
      },
      "source": [
        "outliers = z_score(UC1_KNN[[\"DEMANDA_CONTRATADA_FP\"]].values)\r\n",
        "outliers"
      ],
      "execution_count": null,
      "outputs": []
    },
    {
      "cell_type": "code",
      "metadata": {
        "id": "LXmleiTQcy1z"
      },
      "source": [
        "index_value = UC1_KNN[[\"DEMANDA_CONTRATADA_FP\"]][UC1_KNN[[\"DEMANDA_CONTRATADA_FP\"]].eq(160).any(1)].index.tolist()[0]\r\n",
        "UC1_KNN.at[index_value, 'DEMANDA_CONTRATADA_FP'] = UC1_KNN.DEMANDA_CONTRATADA_FP.mode()"
      ],
      "execution_count": null,
      "outputs": []
    },
    {
      "cell_type": "code",
      "metadata": {
        "id": "6XqwSW_Nc4JS"
      },
      "source": [
        "f, axs = plt.subplots(5, 4,figsize=(20,20))\r\n",
        "for i,col in enumerate(UC1_KNN.columns[3:]):\r\n",
        "  plt.subplot(5, 4, i+1)\r\n",
        "  plt.title(col)\r\n",
        "  plt.plot(UC1_KNN.DATA, UC1_KNN[col])"
      ],
      "execution_count": null,
      "outputs": []
    },
    {
      "cell_type": "markdown",
      "metadata": {
        "id": "XZXpbnJAdAJK"
      },
      "source": [
        "### Interquartile range"
      ]
    },
    {
      "cell_type": "code",
      "metadata": {
        "id": "zWwRzicbc5nK"
      },
      "source": [
        "def outlier_IQR(datacolumn):\r\n",
        "  sorted(datacolumn)\r\n",
        "  Q1,Q3 = np.percentile(datacolumn , [25,75])\r\n",
        "  IQR = Q3 - Q1\r\n",
        "  lower_range = Q1 - (1.5 * IQR)\r\n",
        "  upper_range = Q3 + (1.5 * IQR)\r\n",
        "  return lower_range,upper_range"
      ],
      "execution_count": null,
      "outputs": []
    },
    {
      "cell_type": "code",
      "metadata": {
        "id": "kQ8eGi-kdD8F"
      },
      "source": [
        "lowerbound , upperbound = outlier_IQR(UC1_KNN[\"TAR_REAT_FPONTA\"])"
      ],
      "execution_count": null,
      "outputs": []
    },
    {
      "cell_type": "code",
      "metadata": {
        "id": "KMZ2M27wdImx"
      },
      "source": [
        "UC1_KNN[\"TAR_REAT_FPONTA\"][(UC1_KNN[\"TAR_REAT_FPONTA\"] < lowerbound) | (UC1_KNN[\"TAR_REAT_FPONTA\"] > upperbound)]"
      ],
      "execution_count": null,
      "outputs": []
    },
    {
      "cell_type": "code",
      "metadata": {
        "id": "RwLFmnWBdLY5"
      },
      "source": [
        "index_value = 32\r\n",
        "UC1_KNN.at[index_value, 'TAR_REAT_FPONTA'] = UC1_KNN.TAR_REAT_FPONTA.mode()"
      ],
      "execution_count": null,
      "outputs": []
    },
    {
      "cell_type": "code",
      "metadata": {
        "id": "ztXkJcIwdW2_"
      },
      "source": [
        "f, axs = plt.subplots(5, 4,figsize=(20,20))\r\n",
        "for i,col in enumerate(UC1_KNN.columns[3:]):\r\n",
        "  plt.subplot(5, 4, i+1)\r\n",
        "  plt.title(col)\r\n",
        "  plt.plot(UC1_KNN.DATA, UC1_KNN[col])"
      ],
      "execution_count": null,
      "outputs": []
    },
    {
      "cell_type": "markdown",
      "metadata": {
        "id": "T13zw7dLdkL1"
      },
      "source": [
        "## Box Diagram"
      ]
    },
    {
      "cell_type": "code",
      "metadata": {
        "id": "2jddrFwZdYex"
      },
      "source": [
        "sns.boxplot(x=UC1_KNN.REAT_KVAR_FPONTA)"
      ],
      "execution_count": null,
      "outputs": []
    },
    {
      "cell_type": "code",
      "metadata": {
        "id": "xqUkmMD7dnxC"
      },
      "source": [
        "sns.boxplot(x=UC1_KNN.DEMANDA_CONTRATADA_P)"
      ],
      "execution_count": null,
      "outputs": []
    },
    {
      "cell_type": "code",
      "metadata": {
        "id": "hQVBBBg1dwya"
      },
      "source": [
        "index_value = UC1_KNN[[\"DEMANDA_CONTRATADA_P\"]][UC1_KNN[[\"DEMANDA_CONTRATADA_P\"]].eq(160).any(1)].index.tolist()[0]\r\n",
        "UC1_KNN.at[index_value, 'DEMANDA_CONTRATADA_P'] = UC1_KNN.DEMANDA_CONTRATADA_P.mode()"
      ],
      "execution_count": null,
      "outputs": []
    },
    {
      "cell_type": "code",
      "metadata": {
        "id": "T1rOiMCPd2Cl"
      },
      "source": [
        "f, axs = plt.subplots(5, 4,figsize=(20,20))\r\n",
        "for i,col in enumerate(UC1_KNN.columns[3:]):\r\n",
        "  plt.subplot(5, 4, i+1)\r\n",
        "  plt.title(col)\r\n",
        "  plt.plot(UC1_KNN.DATA, UC1_KNN[col])"
      ],
      "execution_count": null,
      "outputs": []
    },
    {
      "cell_type": "markdown",
      "metadata": {
        "id": "JfLXDHQ6eECY"
      },
      "source": [
        "## Matriz de Correlação de Dados sem outlier"
      ]
    },
    {
      "cell_type": "code",
      "metadata": {
        "id": "z1k1Q0r0d4Vq"
      },
      "source": [
        "cor = UC1_KNN\r\n",
        "pear = round(cor.corr(),2)\r\n",
        "teste = np.array(pear)\r\n",
        "mask = np.zeros_like(pear)\r\n",
        "mask[np.triu_indices_from(mask)] = True\r\n",
        "with sns.axes_style(\"white\"):\r\n",
        "    f, ax = plt.subplots(figsize=(20, 15))\r\n",
        "    ax = sns.heatmap(pear, mask=mask, vmax=1, square=True,center=0,annot=True,annot_kws={\"fontsize\":14}, cmap=\"RdBu\")\r\n",
        "    plt.title('''Pearson's Correlation Heatmap''',fontsize = 20)\r\n",
        "    plt.xticks(fontsize=17,rotation=90)\r\n",
        "    plt.yticks(fontsize=17,rotation=0)\r\n",
        "    cax = plt.gcf().axes[-1] #para alterar fonte do eixo y direito\r\n",
        "    cax.tick_params(labelsize=20) #para alterar fonte do eixo y direito"
      ],
      "execution_count": null,
      "outputs": []
    },
    {
      "cell_type": "code",
      "metadata": {
        "id": "s5pgnjXdeHQy"
      },
      "source": [
        "fig, ax = plt.subplots(figsize=(16,8))\r\n",
        "ax.scatter(UC1_KNN[\"REAT_KVAR_FPONTA\"], UC1_KNN[\"TAR_REAT_FPONTA\"])\r\n",
        "ax.set_xlabel('REAT_KVAR_FPONTA')\r\n",
        "ax.set_ylabel('TAR_REAT_FPONTA')\r\n",
        "plt.show()"
      ],
      "execution_count": null,
      "outputs": []
    },
    {
      "cell_type": "markdown",
      "metadata": {
        "id": "CiPmTJzJegBu"
      },
      "source": [
        "## Diagrama de Disperção de Variaveis Correlacionadas"
      ]
    },
    {
      "cell_type": "code",
      "metadata": {
        "id": "2QFiDlj4eTyB"
      },
      "source": [
        "fig, ax = plt.subplots(figsize=(16,8))\r\n",
        "ax.scatter(UC1_KNN[\"Valor da Fatura\"], UC1_KNN[\"Consumo Total\"])\r\n",
        "ax.set_xlabel('Valor da Fatura')\r\n",
        "ax.set_ylabel('Consumo Total')\r\n",
        "plt.show()"
      ],
      "execution_count": null,
      "outputs": []
    },
    {
      "cell_type": "markdown",
      "metadata": {
        "id": "qc5LkP8BemLk"
      },
      "source": [
        "# Modeling"
      ]
    },
    {
      "cell_type": "code",
      "metadata": {
        "id": "amGjsd3jeagh"
      },
      "source": [
        "df_train = UC1_KNN[\"REAT_KVAR_FPONTA\"].iloc[:57]\r\n",
        "df_test = UC1_KNN[\"REAT_KVAR_FPONTA\"].iloc[57:]"
      ],
      "execution_count": null,
      "outputs": []
    },
    {
      "cell_type": "code",
      "metadata": {
        "id": "j7Zw7Us7erAY"
      },
      "source": [
        "fig, ax = plt.subplots(figsize=(15, 5))\r\n",
        "_ = plt.plot(df_test, marker='o', color=\"r\")\r\n",
        "_ = plt.plot(df_train, marker='o', color=\"b\")\r\n",
        "_ = plt.xlabel(\"Tempo\")\r\n",
        "_ = plt.ylabel(\"KVAR\")\r\n",
        "_ = plt.legend([ 'Dados de Test', 'Dados de Treino'])\r\n",
        "_ = plt.title(\"Potência Reativa Fora de Ponta\")\r\n",
        "plt.show()"
      ],
      "execution_count": null,
      "outputs": []
    },
    {
      "cell_type": "code",
      "metadata": {
        "id": "YYeON8Pme0fS"
      },
      "source": [
        "! pip install pmdarima"
      ],
      "execution_count": null,
      "outputs": []
    },
    {
      "cell_type": "code",
      "metadata": {
        "id": "tBlERRhtfHdi"
      },
      "source": [
        "import numpy as np\r\n",
        "import matplotlib.pyplot as plt\r\n",
        "import seaborn as sns\r\n",
        "from pmdarima.arima import auto_arima\r\n",
        "import pandas as pd\r\n",
        "from fancyimpute import KNN\r\n",
        "from sklearn.impute import SimpleImputer\r\n",
        "sns.set()\r\n",
        "abas_de_excel =  pd.ExcelFile(\"/content/IT304S/UFCA.xlsx\")\r\n",
        "abas_de_excel.sheet_names\r\n",
        "UC1 = abas_de_excel.parse(\"UC1\")\r\n",
        "UC1_df = UC1.drop(set(UC1.columns[UC1.isnull().mean() >0.5]), 1)\r\n",
        "UC1_KNN = UC1_df.copy(deep= True)\r\n",
        "knn_imputer = KNN()\r\n",
        "UC1_KNN['REAT_KVAR_FPONTA'] = knn_imputer.fit_transform(UC1_KNN[['REAT_KVAR_FPONTA']]).ravel()\r\n",
        "df_train = UC1_KNN[\"REAT_KVAR_FPONTA\"].iloc[:57]\r\n",
        "df_test = UC1_KNN[\"REAT_KVAR_FPONTA\"].iloc[57:]\r\n",
        "imputer = SimpleImputer(strategy='most_frequent')\r\n",
        "imputer = imputer.fit(UC1_KNN[[\"TAR_REAT_FPONTA\"]])\r\n",
        "UC1_KNN['TAR_REAT_FPONTA'] = imputer.transform(UC1_KNN[['TAR_REAT_FPONTA']]).ravel()\r\n",
        "UC1_KNN['Retenção  de Tributos Federais'].interpolate(method = 'quadratic', inplace = True)\r\n",
        "\r\n",
        "def z_score (data, treshold =4):\r\n",
        "  outliers = []\r\n",
        "  treshold = treshold\r\n",
        "  mean, std = np.mean(data), np.std(data)\r\n",
        "  for i in data:\r\n",
        "    zscore = (i-mean)/std\r\n",
        "    if np.abs(zscore) > treshold:\r\n",
        "      outliers.append(i)\r\n",
        "  \r\n",
        "  return outliers\r\n",
        "\r\n",
        "index_value = UC1_KNN[[\"DEMANDA_CONTRATADA_FP\"]][UC1_KNN[[\"DEMANDA_CONTRATADA_FP\"]].eq(160).any(1)].index.tolist()[0]\r\n",
        "UC1_KNN.at[index_value, 'DEMANDA_CONTRATADA_FP'] = UC1_KNN.DEMANDA_CONTRATADA_FP.mode()\r\n",
        "index_value = 32\r\n",
        "UC1_KNN.at[index_value, 'TAR_REAT_FPONTA'] = UC1_KNN.TAR_REAT_FPONTA.mode()\r\n",
        "index_value = UC1_KNN[[\"DEMANDA_CONTRATADA_P\"]][UC1_KNN[[\"DEMANDA_CONTRATADA_P\"]].eq(160).any(1)].index.tolist()[0]\r\n",
        "UC1_KNN.at[index_value, 'DEMANDA_CONTRATADA_P'] = UC1_KNN.DEMANDA_CONTRATADA_P.mode()\r\n",
        "\r\n",
        "f, axs = plt.subplots(5, 4,figsize=(20,20))\r\n",
        "for i,col in enumerate(UC1_KNN.columns[3:]):\r\n",
        "  plt.subplot(5, 4, i+1)\r\n",
        "  plt.title(col)\r\n",
        "  plt.plot(UC1_KNN.DATA, UC1_KNN[col])"
      ],
      "execution_count": null,
      "outputs": []
    },
    {
      "cell_type": "code",
      "metadata": {
        "id": "547ERhl1fWpC"
      },
      "source": [
        "fig, ax = plt.subplots(figsize=(15, 5))\r\n",
        "_ = plt.plot(df_test, marker='o', color=\"r\")\r\n",
        "_ = plt.plot(df_train, marker='o', color=\"b\")\r\n",
        "_ = plt.xlabel(\"Tempo\")\r\n",
        "_ = plt.ylabel(\"KVAR\")\r\n",
        "_ = plt.legend([ 'Dados de Test', 'Dados de Treino'])\r\n",
        "_ = plt.title(\"Potência Reativa Fora de Ponta\")\r\n",
        "plt.show()"
      ],
      "execution_count": null,
      "outputs": []
    },
    {
      "cell_type": "code",
      "metadata": {
        "id": "qwt7CTmOfdK5"
      },
      "source": [
        "from pmdarima.arima import ADFTest"
      ],
      "execution_count": null,
      "outputs": []
    },
    {
      "cell_type": "code",
      "metadata": {
        "id": "cLaq7eE4fx1Y"
      },
      "source": [
        "adf_test = ADFTest(alpha=0.05)"
      ],
      "execution_count": null,
      "outputs": []
    },
    {
      "cell_type": "code",
      "metadata": {
        "id": "rRvFj4NPfz6b"
      },
      "source": [
        "adf_test.should_diff(df_train)"
      ],
      "execution_count": null,
      "outputs": []
    },
    {
      "cell_type": "code",
      "metadata": {
        "id": "fMQOza2hgAi5"
      },
      "source": [
        "arima_model = auto_arima(df_train, start_p=0, d=1, start_q=0, max_p=5, max_d=5, max_q=5, start_P=0, D=1, start_Q=0, max_P = 5, max_D = 5, max_Q=5, m=12, seasonal = True, error_action = 'warn', trace = True, supress_warning = True, stepwise = True, random_state= 20, nfits = 50)"
      ],
      "execution_count": null,
      "outputs": []
    },
    {
      "cell_type": "code",
      "metadata": {
        "id": "X97y6lh_f2Fp"
      },
      "source": [
        "arima_model.summary()"
      ],
      "execution_count": null,
      "outputs": []
    },
    {
      "cell_type": "code",
      "metadata": {
        "id": "QTMAD_DigKJh"
      },
      "source": [
        "predicoes = pd.DataFrame(arima_model.predict(n_periods = 12), index =df_test.index)\r\n",
        "predicoes.columns = ['predicoes']"
      ],
      "execution_count": null,
      "outputs": []
    },
    {
      "cell_type": "code",
      "metadata": {
        "id": "dAh_KmHIgQHq"
      },
      "source": [
        "fig, ax = plt.subplots(figsize=(15, 5))\r\n",
        "_ = plt.plot(df_test, marker='o', color=\"r\")\r\n",
        "_ = plt.plot(df_train, marker='o', color=\"b\")\r\n",
        "_ = plt.plot(predicoes, marker='o', color=\"g\")\r\n",
        "_ = plt.xlabel(\"Tempo\")\r\n",
        "_ = plt.ylabel(\"KWH\")\r\n",
        "_ = plt.legend([ 'Dados de Test', 'Dados de Treino', 'Previsões'])\r\n",
        "_ = plt.title(\"Consumo Total\")\r\n",
        "plt.show()"
      ],
      "execution_count": null,
      "outputs": []
    },
    {
      "cell_type": "markdown",
      "metadata": {
        "id": "qqkpH3KjgYPv"
      },
      "source": [
        "# Avaliação"
      ]
    },
    {
      "cell_type": "markdown",
      "metadata": {
        "id": "1KWTwtu0gbld"
      },
      "source": [
        "$R M S E=\\sqrt{\\sum_{i=1}^{n} \\frac{\\left(\\hat{y}_{i}-y_{i}\\right)^{2}}{n}}$"
      ]
    },
    {
      "cell_type": "code",
      "metadata": {
        "id": "_C7WIt_ZgRcr"
      },
      "source": [
        "def RMSE(yh, y):\r\n",
        "  er = yh - y\r\n",
        "  RMSE = sum(er*er/len(er))**0.5\r\n",
        "  return RMSE"
      ],
      "execution_count": null,
      "outputs": []
    },
    {
      "cell_type": "code",
      "metadata": {
        "id": "77YK9CKZgoBo"
      },
      "source": [
        "np.mean(RMSE(df_test.values, predicoes.values))"
      ],
      "execution_count": null,
      "outputs": []
    },
    {
      "cell_type": "markdown",
      "metadata": {
        "id": "jbehzwSHg6pA"
      },
      "source": [
        "# Experimento KNN para previsão de 12 meses REAT_KVAR_FPONTA"
      ]
    },
    {
      "cell_type": "code",
      "metadata": {
        "id": "T2rG4SJUgpr4"
      },
      "source": [
        "Melhor_RMSE = dict.fromkeys([\"RMSE_KNN\",\"RMSE_FFILL\", \"RMSE_Quadratica\"])"
      ],
      "execution_count": null,
      "outputs": []
    },
    {
      "cell_type": "code",
      "metadata": {
        "id": "prNYqPw0hQBA"
      },
      "source": [
        "knn_imputer = KNN()\r\n",
        "UC1_KNN['REAT_KVAR_FPONTA'] = knn_imputer.fit_transform(UC1_KNN[['REAT_KVAR_FPONTA']]).ravel()\r\n",
        "df_train = UC1_KNN[\"REAT_KVAR_FPONTA\"].iloc[:57]\r\n",
        "df_test = UC1_KNN[\"REAT_KVAR_FPONTA\"].iloc[57:]\r\n",
        "\r\n",
        "arima_model = auto_arima(df_train, start_p=0, d=1, start_q=0, max_p=5, max_d=5, max_q=5, start_P=0, D=1, start_Q=0, max_P = 5, max_D = 5, max_Q=5, m=12, seasonal = True, error_action = 'warn', trace = True, supress_warning = True, stepwise = True, random_state= 20, nfits = 50)\r\n",
        "arima_model.summary()\r\n",
        "predicoes = pd.DataFrame(arima_model.predict(n_periods = 12), index =df_test.index)\r\n",
        "predicoes.columns = ['predicoes']\r\n",
        "\r\n",
        "fig, ax = plt.subplots(figsize=(15, 5))\r\n",
        "_ = plt.plot(df_test, marker='o', color=\"r\")\r\n",
        "_ = plt.plot(df_train, marker='o', color=\"b\")\r\n",
        "_ = plt.plot(predicoes, marker='o', color=\"g\")\r\n",
        "_ = plt.xlabel(\"Tempo\")\r\n",
        "_ = plt.ylabel(\"KWH\")\r\n",
        "_ = plt.legend([ 'Dados de Test', 'Dados de Treino', 'Previsões'])\r\n",
        "_ = plt.title(\"REAT_KVAR_FPONTA\")\r\n",
        "plt.show()\r\n",
        "\r\n",
        "RMSE_KNN = np.mean(RMSE(df_test.values, predicoes.values))\r\n",
        "Melhor_RMSE.update({\"RMSE_KNN\": RMSE_KNN})\r\n",
        "print(\"RMSE_KNN:\",RMSE_KNN)"
      ],
      "execution_count": null,
      "outputs": []
    },
    {
      "cell_type": "markdown",
      "metadata": {
        "id": "L_0eIc9ehXGO"
      },
      "source": [
        "# Experimento FFILL para previsão de 12 meses REAT_KVAR_FPONTA"
      ]
    },
    {
      "cell_type": "code",
      "metadata": {
        "id": "QSDjSDAPhRP5"
      },
      "source": [
        "abas_de_excel =  pd.ExcelFile(\"/content/IT304S/UFCA.xlsx\")\r\n",
        "abas_de_excel.sheet_names\r\n",
        "UC1 = abas_de_excel.parse(\"UC1\")\r\n",
        "UC1_df = UC1.drop(set(UC1.columns[UC1.isnull().mean() >0.5]), 1)\r\n",
        "UC1_ffill = UC1_df.fillna(method='ffill')\r\n",
        "df_train = UC1_ffill[\"REAT_KVAR_FPONTA\"].iloc[:57]\r\n",
        "df_test = UC1_ffill[\"REAT_KVAR_FPONTA\"].iloc[57:]\r\n",
        "arima_model = auto_arima(df_train, start_p=0, d=1, start_q=0, max_p=5, max_d=5, max_q=5, start_P=0, D=1, start_Q=0, max_P = 5, max_D = 5, max_Q=5, m=12, seasonal = True, error_action = 'warn', trace = True, supress_warning = True, stepwise = True, random_state= 20, nfits = 50)\r\n",
        "arima_model.summary()\r\n",
        "predicoes = pd.DataFrame(arima_model.predict(n_periods = 12), index =df_test.index)\r\n",
        "predicoes.columns = ['predicoes']\r\n",
        "\r\n",
        "fig, ax = plt.subplots(figsize=(15, 5))\r\n",
        "_ = plt.plot(df_test, marker='o', color=\"r\")\r\n",
        "_ = plt.plot(df_train, marker='o', color=\"b\")\r\n",
        "_ = plt.plot(predicoes, marker='o', color=\"g\")\r\n",
        "_ = plt.xlabel(\"Tempo\")\r\n",
        "_ = plt.ylabel(\"KWH\")\r\n",
        "_ = plt.legend([ 'Dados de Test', 'Dados de Treino', 'Previsões'])\r\n",
        "_ = plt.title(\"REAT_KVAR_FPONTA\")\r\n",
        "plt.show()\r\n",
        "\r\n",
        "RMSE_FFILL = np.mean(RMSE(df_test.values, predicoes.values))\r\n",
        "Melhor_RMSE.update({\"RMSE_FFILL\": RMSE_FFILL})\r\n",
        "print(\"RMSE_FFILL:\",RMSE_FFILL)\r\n"
      ],
      "execution_count": null,
      "outputs": []
    },
    {
      "cell_type": "markdown",
      "metadata": {
        "id": "zVikixIjhg7_"
      },
      "source": [
        "# Experimento Imputação por Interpolação Quadrática para previsão de 12 meses REAT_KVAR_FPONTA"
      ]
    },
    {
      "cell_type": "code",
      "metadata": {
        "id": "_G7yRwlbhc2v"
      },
      "source": [
        "abas_de_excel =  pd.ExcelFile(\"/content/IT304S/UFCA.xlsx\")\r\n",
        "abas_de_excel.sheet_names\r\n",
        "UC1 = abas_de_excel.parse(\"UC1\")\r\n",
        "UC1_df = UC1.drop(set(UC1.columns[UC1.isnull().mean() >0.5]), 1)\r\n",
        "UC1_quadratica = UC1_df.copy(deep= True)\r\n",
        "UC1_quadratica['REAT_KVAR_FPONTA'].interpolate(method = 'quadratic', inplace = True)\r\n",
        "df_train = UC1_quadratica[\"REAT_KVAR_FPONTA\"].iloc[:57]\r\n",
        "df_test = UC1_quadratica[\"REAT_KVAR_FPONTA\"].iloc[57:]\r\n",
        "arima_model = auto_arima(df_train, start_p=0, d=1, start_q=0, max_p=5, max_d=5, max_q=5, start_P=0, D=1, start_Q=0, max_P = 5, max_D = 5, max_Q=5, m=12, seasonal = True, error_action = 'warn', trace = True, supress_warning = True, stepwise = True, random_state= 20, nfits = 50)\r\n",
        "arima_model.summary()\r\n",
        "predicoes = pd.DataFrame(arima_model.predict(n_periods = 12), index =df_test.index)\r\n",
        "predicoes.columns = ['predicoes']\r\n",
        "\r\n",
        "fig, ax = plt.subplots(figsize=(15, 5))\r\n",
        "_ = plt.plot(df_test, marker='o', color=\"r\")\r\n",
        "_ = plt.plot(df_train, marker='o', color=\"b\")\r\n",
        "_ = plt.plot(predicoes, marker='o', color=\"g\")\r\n",
        "_ = plt.xlabel(\"Tempo\")\r\n",
        "_ = plt.ylabel(\"KWH\")\r\n",
        "_ = plt.legend([ 'Dados de Test', 'Dados de Treino', 'Previsões'])\r\n",
        "_ = plt.title(\"REAT_KVAR_FPONTA\")\r\n",
        "plt.show()\r\n",
        "\r\n",
        "RMSE_Quadratica = np.mean(RMSE(df_test.values, predicoes.values))\r\n",
        "Melhor_RMSE.update({\"RMSE_Quadratica\": RMSE_Quadratica})\r\n",
        "print(\"RMSE_Quadratica\", RMSE_Quadratica)"
      ],
      "execution_count": null,
      "outputs": []
    },
    {
      "cell_type": "code",
      "metadata": {
        "id": "1XWo9LfqhopJ"
      },
      "source": [
        "min(Melhor_RMSE, key=Melhor_RMSE.get)"
      ],
      "execution_count": null,
      "outputs": []
    },
    {
      "cell_type": "markdown",
      "metadata": {
        "id": "FJwVOYGuiAIj"
      },
      "source": [
        "# Comparação de PMF"
      ]
    },
    {
      "cell_type": "code",
      "metadata": {
        "id": "jKvXC9xVh6Zv"
      },
      "source": [
        "sns.histplot(UC1_KNN[\"REAT_KVAR_FPONTA\"],color=\"blue\")\r\n",
        "sns.histplot(UC1_ffill[\"REAT_KVAR_FPONTA\"],color=\"green\", alpha=0.2)\r\n",
        "sns.histplot(UC1_quadratica[\"REAT_KVAR_FPONTA\"],color=\"red\", alpha=0.2)\r\n",
        "plt.legend(['KNN', 'FFILL', 'Quadratica'])"
      ],
      "execution_count": null,
      "outputs": []
    },
    {
      "cell_type": "markdown",
      "metadata": {
        "id": "U0vtbRzpijNA"
      },
      "source": [
        "# Resultado Banco de dados com imputações KNN"
      ]
    },
    {
      "cell_type": "code",
      "metadata": {
        "id": "BoFsVDfKiCR4"
      },
      "source": [
        "UC1_KNN.describe()"
      ],
      "execution_count": null,
      "outputs": []
    },
    {
      "cell_type": "code",
      "metadata": {
        "id": "bTtrxtUhiQgx"
      },
      "source": [
        "UC1_KNN.info()"
      ],
      "execution_count": null,
      "outputs": []
    },
    {
      "cell_type": "code",
      "metadata": {
        "id": "hdNDhV0YiT1H"
      },
      "source": [
        "f, axs = plt.subplots(5, 4,figsize=(20,30))\r\n",
        "for i,col in enumerate(UC1_KNN.columns[3:]):\r\n",
        "  plt.subplot(5, 4, i+1)\r\n",
        "  sns.boxplot(x=UC1_KNN[col])"
      ],
      "execution_count": null,
      "outputs": []
    },
    {
      "cell_type": "code",
      "metadata": {
        "id": "KqOseim6iaRH"
      },
      "source": [
        "f, axs = plt.subplots(5, 4,figsize=(20,20))\r\n",
        "for i,col in enumerate(UC1_KNN.columns[3:]):\r\n",
        "  plt.subplot(5, 4, i+1)\r\n",
        "  plt.title(col)\r\n",
        "  plt.plot(UC1_KNN.DATA, UC1_KNN[col])"
      ],
      "execution_count": null,
      "outputs": []
    },
    {
      "cell_type": "code",
      "metadata": {
        "id": "0f4cRQbxifxe"
      },
      "source": [
        "fig = plt.figure(figsize = (15,20))\r\n",
        "ax = fig.gca()\r\n",
        "UC1_KNN.hist(ax = ax);"
      ],
      "execution_count": null,
      "outputs": []
    },
    {
      "cell_type": "code",
      "metadata": {
        "id": "Cd5SCDYui8zF"
      },
      "source": [
        "UC1_KNN.to_csv(r'UC1.csv', index = False)"
      ],
      "execution_count": null,
      "outputs": []
    },
    {
      "cell_type": "code",
      "metadata": {
        "id": "zFyYr2uCjRpG"
      },
      "source": [
        "sns.pairplot(UC1_KNN[3:], palette='bwr')"
      ],
      "execution_count": null,
      "outputs": []
    },
    {
      "cell_type": "code",
      "metadata": {
        "id": "m1cdhVrbkdvM"
      },
      "source": [
        ""
      ],
      "execution_count": null,
      "outputs": []
    }
  ]
}